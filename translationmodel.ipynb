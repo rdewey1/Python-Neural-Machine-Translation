{
  "nbformat": 4,
  "nbformat_minor": 5,
  "metadata": {
    "accelerator": "GPU",
    "colab": {
      "name": "May6_lstmtranslationmodel.ipynb",
      "provenance": [],
      "collapsed_sections": [],
      "toc_visible": true
    },
    "kernelspec": {
      "display_name": "Python 3",
      "language": "python",
      "name": "python3"
    },
    "language_info": {
      "codemirror_mode": {
        "name": "ipython",
        "version": 3
      },
      "file_extension": ".py",
      "mimetype": "text/x-python",
      "name": "python",
      "nbconvert_exporter": "python",
      "pygments_lexer": "ipython3",
      "version": "3.8.2"
    }
  },
  "cells": [
    {
      "cell_type": "code",
      "metadata": {
        "colab": {
          "base_uri": "https://localhost:8080/"
        },
        "id": "b042eea0",
        "outputId": "0835a7bf-cd5c-402f-914c-a296d7d0169d"
      },
      "source": [
        "#Import required libraries\n",
        "import string\n",
        "import statistics\n",
        "import re\n",
        "from nltk.translate.bleu_score import corpus_bleu\n",
        "from nltk.translate import bleu_score\n",
        "from numpy import array, argmax, random, take\n",
        "import pandas as pd\n",
        "from keras.models import Sequential\n",
        "from keras.layers import Dense, LSTM, Embedding, Bidirectional, RepeatVector, TimeDistributed\n",
        "from keras.preprocessing.text import Tokenizer\n",
        "from keras.callbacks import ModelCheckpoint\n",
        "from keras.preprocessing.sequence import pad_sequences\n",
        "from keras.models import load_model\n",
        "from keras import optimizers\n",
        "import matplotlib.pyplot as plt\n",
        "from sklearn.model_selection import train_test_split\n",
        "import collections\n",
        "#matplotlib inline\n",
        "pd.set_option('display.max_colwidth', 200)\n",
        "\n",
        "from google.colab import drive\n",
        "\n",
        "drive.mount(\"/content/gdrive\")"
      ],
      "id": "b042eea0",
      "execution_count": null,
      "outputs": [
        {
          "output_type": "stream",
          "text": [
            "Mounted at /content/gdrive\n"
          ],
          "name": "stdout"
        }
      ]
    },
    {
      "cell_type": "code",
      "metadata": {
        "id": "q5gWcYep7Bc5",
        "colab": {
          "base_uri": "https://localhost:8080/"
        },
        "outputId": "3fdb7305-586d-4766-bb18-4df0034fe9a9"
      },
      "source": [
        "!pip install rouge\n",
        "from rouge import Rouge"
      ],
      "id": "q5gWcYep7Bc5",
      "execution_count": null,
      "outputs": [
        {
          "output_type": "stream",
          "text": [
            "Requirement already satisfied: rouge in /usr/local/lib/python3.7/dist-packages (1.0.0)\n",
            "Requirement already satisfied: six in /usr/local/lib/python3.7/dist-packages (from rouge) (1.15.0)\n"
          ],
          "name": "stdout"
        }
      ]
    },
    {
      "cell_type": "markdown",
      "metadata": {
        "id": "d0ek7370DRFb"
      },
      "source": [
        "# German Models"
      ],
      "id": "d0ek7370DRFb"
    },
    {
      "cell_type": "markdown",
      "metadata": {
        "id": "ohIz86tMzIkr"
      },
      "source": [
        "## German Preprocessing"
      ],
      "id": "ohIz86tMzIkr"
    },
    {
      "cell_type": "code",
      "metadata": {
        "id": "5a57ce71"
      },
      "source": [
        "#Make sure this file is uploaded to your Google Drive in the same \n",
        "#folder as this notebook.\n",
        "german_path = '/content/gdrive/MyDrive/deu_short.txt'\n",
        "#Data source:\n",
        "#http://www.manythings.org/anki/"
      ],
      "id": "5a57ce71",
      "execution_count": null,
      "outputs": []
    },
    {
      "cell_type": "code",
      "metadata": {
        "id": "IEoUcZiklyjP"
      },
      "source": [
        "# function to read raw text file\n",
        "def read_text(filename):\n",
        "    # open the file\n",
        "    file = open(filename, mode='rt', encoding='utf-8')\n",
        "    # read all text\n",
        "    text = file.read()\n",
        "    file.close()\n",
        "    return text"
      ],
      "id": "IEoUcZiklyjP",
      "execution_count": null,
      "outputs": []
    },
    {
      "cell_type": "code",
      "metadata": {
        "id": "9R2tlpF2mbrt"
      },
      "source": [
        "def to_lines(text):\n",
        "    sents = text.strip().split('\\n')\n",
        "    sents = [i.split('\\t') for i in sents]\n",
        "    return sents"
      ],
      "id": "9R2tlpF2mbrt",
      "execution_count": null,
      "outputs": []
    },
    {
      "cell_type": "code",
      "metadata": {
        "id": "jGrCMlqjm9LK"
      },
      "source": [
        "#load German data\n",
        "data = read_text(german_path)\n",
        "deu_eng = to_lines(data)\n",
        "deu_eng = array(deu_eng)\n"
      ],
      "id": "jGrCMlqjm9LK",
      "execution_count": null,
      "outputs": []
    },
    {
      "cell_type": "code",
      "metadata": {
        "id": "fkelRhI3nAu1"
      },
      "source": [
        "#get manageable sample\n",
        "#deu_eng = deu_eng[:10000,:]"
      ],
      "id": "fkelRhI3nAu1",
      "execution_count": null,
      "outputs": []
    },
    {
      "cell_type": "code",
      "metadata": {
        "id": "NLs81ldBn0ZE"
      },
      "source": [
        "#Remove punctuation\n",
        "deu_eng[:,0] = [s.translate(str.maketrans('','', string.punctuation)) for s in deu_eng[:,0]]\n",
        "deu_eng[:,1] = [s.translate(str.maketrans('','', string.punctuation)) for s in deu_eng[:,1]]"
      ],
      "id": "NLs81ldBn0ZE",
      "execution_count": null,
      "outputs": []
    },
    {
      "cell_type": "code",
      "metadata": {
        "id": "wDKkJHrSofIc"
      },
      "source": [
        "#Convert to lowercase.\n",
        "for i in range(len(deu_eng)):\n",
        "    deu_eng[i,0]=deu_eng[i,0].lower()\n",
        "    deu_eng[i,1]=deu_eng[i,1].lower()"
      ],
      "id": "wDKkJHrSofIc",
      "execution_count": null,
      "outputs": []
    },
    {
      "cell_type": "code",
      "metadata": {
        "colab": {
          "base_uri": "https://localhost:8080/"
        },
        "id": "RCTQtIB7agCh",
        "outputId": "3593951b-100f-445a-ad25-1366b6790498"
      },
      "source": [
        "#Analyze vocabulary of German dataset.\n",
        "german_words_counter = collections.Counter([word for sentence in deu_eng[:,1] for word in sentence.split()])\n",
        "english_words_counter_de = collections.Counter([word for sentence in deu_eng[:,0] for word in sentence.split()])\n",
        "print('{} English words/tokens in English-German corpus, sample'.format(len([word for sentence in deu_eng[:,0]\n",
        "                                                                     for word in sentence.split()])))\n",
        "print('{} unique English words/tokens in English-German corpus, sample'.format(len(english_words_counter_de)))\n",
        "print('10 most common English word in the English-German sample corpus, stop words included:')\n",
        "print('\"\"'+'\" \"'.join(list(zip(*english_words_counter_de.most_common(10)))[0])+'\"')\n",
        "print('{} German words/tokens in English-German sample corpus'.format(len([word for sentence in deu_eng[:,1] \n",
        "                                                                   for word in sentence.split()])))\n",
        "print('{} unique German words/tokens in English-German sample corpus'.format(len(german_words_counter)))\n",
        "print('10 most common German words in the English-German sample corpus, stop words included:')\n",
        "print('\"'+'\" \"'.join(list(zip(*german_words_counter.most_common(10)))[0])+'\"')"
      ],
      "id": "RCTQtIB7agCh",
      "execution_count": null,
      "outputs": [
        {
          "output_type": "stream",
          "text": [
            "28175 English words/tokens in English-German corpus, sample\n",
            "2276 unique English words/tokens in English-German corpus, sample\n",
            "10 most common English word in the English-German sample corpus, stop words included:\n",
            "\"\"tom\" \"i\" \"it\" \"is\" \"you\" \"a\" \"im\" \"me\" \"its\" \"he\"\n",
            "33361 German words/tokens in English-German sample corpus\n",
            "3646 unique German words/tokens in English-German sample corpus\n",
            "10 most common German words in the English-German sample corpus, stop words included:\n",
            "\"ich\" \"tom\" \"ist\" \"sie\" \"es\" \"das\" \"bin\" \"nicht\" \"wir\" \"hat\"\n"
          ],
          "name": "stdout"
        }
      ]
    },
    {
      "cell_type": "code",
      "metadata": {
        "id": "8PZXpuKba-Xs"
      },
      "source": [
        "#create empty lists\n",
        "eng_l = []\n",
        "deu_l = []\n",
        "#populate lists w/ sentence lengths\n",
        "for i in deu_eng[:,0]:\n",
        "    eng_l.append(len(i.split()))\n",
        "for i in deu_eng[:,1]:\n",
        "    deu_l.append(len(i.split()))"
      ],
      "id": "8PZXpuKba-Xs",
      "execution_count": null,
      "outputs": []
    },
    {
      "cell_type": "code",
      "metadata": {
        "colab": {
          "base_uri": "https://localhost:8080/"
        },
        "id": "B_CE2fyMa-d6",
        "outputId": "f812b6f7-eaa7-4673-d2ce-878db9d3551a"
      },
      "source": [
        "#Display descriptive statistics for English and German sentence lengths\n",
        "df_eng_l_sample = pd.DataFrame(eng_l)\n",
        "print(df_eng_l_sample.describe())\n",
        "print(\"Average English sentence length in English-German sample corpus: \",statistics.mean(df_eng_l_sample.iloc[:,0]))\n",
        "\n",
        "df_deu_l_sample = pd.DataFrame(deu_l)\n",
        "print(df_deu_l_sample.describe())\n",
        "print(\"Average German sentence length in English-German sample corpus: \", statistics.mean(df_deu_l_sample.iloc[:,0]))"
      ],
      "id": "B_CE2fyMa-d6",
      "execution_count": null,
      "outputs": [
        {
          "output_type": "stream",
          "text": [
            "                  0\n",
            "count  10001.000000\n",
            "mean       2.817218\n",
            "std        0.658777\n",
            "min        1.000000\n",
            "25%        2.000000\n",
            "50%        3.000000\n",
            "75%        3.000000\n",
            "max        5.000000\n",
            "Average English sentence length in English-German sample corpus:  2.8172182781721826\n",
            "                  0\n",
            "count  10001.000000\n",
            "mean       3.335766\n",
            "std        0.886143\n",
            "min        1.000000\n",
            "25%        3.000000\n",
            "50%        3.000000\n",
            "75%        4.000000\n",
            "max        9.000000\n",
            "Average German sentence length in English-German sample corpus:  3.335766423357664\n"
          ],
          "name": "stdout"
        }
      ]
    },
    {
      "cell_type": "code",
      "metadata": {
        "id": "GRdEY-CDa-j6"
      },
      "source": [
        "#create length dataframe\n",
        "length_df = pd.DataFrame({'eng':eng_l, 'deu':deu_l})"
      ],
      "id": "GRdEY-CDa-j6",
      "execution_count": null,
      "outputs": []
    },
    {
      "cell_type": "code",
      "metadata": {
        "colab": {
          "base_uri": "https://localhost:8080/",
          "height": 281
        },
        "id": "bEvELxH7a-rW",
        "outputId": "d168fa6b-0d32-499d-be61-fa73fd463ee8"
      },
      "source": [
        "#examine distribution of lengths\n",
        "length_df.hist(bins=30)\n",
        "plt.show()"
      ],
      "id": "bEvELxH7a-rW",
      "execution_count": null,
      "outputs": [
        {
          "output_type": "display_data",
          "data": {
            "image/png": "[encoded data removed]",
            "text/plain": [
              "<Figure size 432x288 with 2 Axes>"
            ]
          },
          "metadata": {
            "tags": [],
            "needs_background": "light"
          }
        }
      ]
    },
    {
      "cell_type": "code",
      "metadata": {
        "id": "qfyGZ1K7ohrQ"
      },
      "source": [
        "#define tokenizer-builder function\n",
        "def tokenization(lines):\n",
        "    tokenizer=Tokenizer()\n",
        "    tokenizer.fit_on_texts(lines)\n",
        "    return tokenizer"
      ],
      "id": "qfyGZ1K7ohrQ",
      "execution_count": null,
      "outputs": []
    },
    {
      "cell_type": "code",
      "metadata": {
        "id": "wiK4RhEbwR6E"
      },
      "source": [
        "def max_length(lines):\n",
        "\treturn max(len(line.split()) for line in lines)"
      ],
      "id": "wiK4RhEbwR6E",
      "execution_count": null,
      "outputs": []
    },
    {
      "cell_type": "code",
      "metadata": {
        "colab": {
          "base_uri": "https://localhost:8080/"
        },
        "id": "NEqYBhBtora1",
        "outputId": "5984028b-7732-427c-e9b2-c188239866be"
      },
      "source": [
        "#prep english tokenizer for german translation\n",
        "eng_de_tokenizer = tokenization(deu_eng[:,0])\n",
        "#get english vocab size for german translation\n",
        "eng_de_vocab_size = len(eng_de_tokenizer.word_index)+1\n",
        "eng_length = max_length(deu_eng[:,0])\n",
        "print(\"English vocabulary size: %d\" % eng_de_vocab_size)"
      ],
      "id": "NEqYBhBtora1",
      "execution_count": null,
      "outputs": [
        {
          "output_type": "stream",
          "text": [
            "English vocabulary size: 2277\n"
          ],
          "name": "stdout"
        }
      ]
    },
    {
      "cell_type": "code",
      "metadata": {
        "colab": {
          "base_uri": "https://localhost:8080/"
        },
        "id": "8s1vLrCHosUH",
        "outputId": "bcae09cd-ffa1-4415-e4c2-df757c90c871"
      },
      "source": [
        "#prepare german tokenizer\n",
        "deu_tokenizer = tokenization(deu_eng[:, 1])\n",
        "deu_vocab_size = len(deu_tokenizer.word_index) + 1\n",
        "\n",
        "deu_length = max_length(deu_eng[:,1])\n",
        "print('German Vocabulary Size: %d' % deu_vocab_size)"
      ],
      "id": "8s1vLrCHosUH",
      "execution_count": null,
      "outputs": [
        {
          "output_type": "stream",
          "text": [
            "German Vocabulary Size: 3647\n"
          ],
          "name": "stdout"
        }
      ]
    },
    {
      "cell_type": "code",
      "metadata": {
        "id": "C2KoX0zkow-k"
      },
      "source": [
        "# encode and pad sequences\n",
        "def encode_sequences(tokenizer, length, lines):\n",
        "    # integer encode sequences\n",
        "    seq = tokenizer.texts_to_sequences(lines)\n",
        "    # pad sequences with 0 values\n",
        "    seq = pad_sequences(seq, maxlen=length, padding='post')\n",
        "    return seq"
      ],
      "id": "C2KoX0zkow-k",
      "execution_count": null,
      "outputs": []
    },
    {
      "cell_type": "markdown",
      "metadata": {
        "id": "u1fsKV0pzzLO"
      },
      "source": [
        "## German Baseline Model"
      ],
      "id": "u1fsKV0pzzLO"
    },
    {
      "cell_type": "code",
      "metadata": {
        "id": "KjekW1ioYX9_"
      },
      "source": [
        "#Model 1: Code From \n",
        "#https://www.analyticsvidhya.com/blog/2019/01/neural-machine-translation-keras/"
      ],
      "id": "KjekW1ioYX9_",
      "execution_count": null,
      "outputs": []
    },
    {
      "cell_type": "code",
      "metadata": {
        "id": "AToIFPdmoyni"
      },
      "source": [
        "#Create training and test data.\n",
        "trainDeu, testDeu = train_test_split(deu_eng, test_size=0.2, random_state=12)"
      ],
      "id": "AToIFPdmoyni",
      "execution_count": null,
      "outputs": []
    },
    {
      "cell_type": "code",
      "metadata": {
        "id": "EzqbE_APo0Qa"
      },
      "source": [
        "#prepare training data\n",
        "trainGermanX = encode_sequences(deu_tokenizer, deu_length, trainDeu[:,1])\n",
        "trainEnglishGermanY = encode_sequences(eng_de_tokenizer, eng_length, trainDeu[:,0])"
      ],
      "id": "EzqbE_APo0Qa",
      "execution_count": null,
      "outputs": []
    },
    {
      "cell_type": "code",
      "metadata": {
        "id": "cqbw4X0ko1zA"
      },
      "source": [
        "#prepare test data\n",
        "testGermanX = encode_sequences(deu_tokenizer, deu_length, testDeu[:,1])\n",
        "testEnglishGermanY=encode_sequences(eng_de_tokenizer, eng_length, testDeu[:,0])"
      ],
      "id": "cqbw4X0ko1zA",
      "execution_count": null,
      "outputs": []
    },
    {
      "cell_type": "code",
      "metadata": {
        "id": "kcG2FXPAo32c"
      },
      "source": [
        "#build NMT model. This model is LSTM-based.\n",
        "def build_model1(in_vocab, out_vocab, in_timesteps, out_timesteps, units):\n",
        "    model = Sequential()\n",
        "    model.add(Embedding(in_vocab, units, input_length=in_timesteps, mask_zero=True))\n",
        "    model.add(LSTM(units))\n",
        "    model.add(RepeatVector(out_timesteps))\n",
        "    model.add(LSTM(units, return_sequences=True))\n",
        "    model.add(Dense(out_vocab, activation='softmax'))\n",
        "    return model"
      ],
      "id": "kcG2FXPAo32c",
      "execution_count": null,
      "outputs": []
    },
    {
      "cell_type": "code",
      "metadata": {
        "colab": {
          "base_uri": "https://localhost:8080/"
        },
        "id": "ngajh4D0o6_d",
        "outputId": "69c182ae-a45f-4881-86ac-5f6d4e818fe5"
      },
      "source": [
        "#Build and compile the model and define the optimizer.\n",
        "model_de_1 = build_model1(deu_vocab_size, eng_de_vocab_size, deu_length, eng_length, 512)\n",
        "model_de_1.summary()\n",
        "rms_de_1 = optimizers.RMSprop(lr=0.001)\n",
        "model_de_1.compile(optimizer=rms_de_1, loss='sparse_categorical_crossentropy', metrics = ['accuracy'])"
      ],
      "id": "ngajh4D0o6_d",
      "execution_count": null,
      "outputs": [
        {
          "output_type": "stream",
          "text": [
            "Model: \"sequential_1\"\n",
            "_________________________________________________________________\n",
            "Layer (type)                 Output Shape              Param #   \n",
            "=================================================================\n",
            "embedding_1 (Embedding)      (None, 9, 512)            1867264   \n",
            "_________________________________________________________________\n",
            "lstm_2 (LSTM)                (None, 512)               2099200   \n",
            "_________________________________________________________________\n",
            "repeat_vector_1 (RepeatVecto (None, 5, 512)            0         \n",
            "_________________________________________________________________\n",
            "lstm_3 (LSTM)                (None, 5, 512)            2099200   \n",
            "_________________________________________________________________\n",
            "dense_1 (Dense)              (None, 5, 2277)           1168101   \n",
            "=================================================================\n",
            "Total params: 7,233,765\n",
            "Trainable params: 7,233,765\n",
            "Non-trainable params: 0\n",
            "_________________________________________________________________\n"
          ],
          "name": "stdout"
        }
      ]
    },
    {
      "cell_type": "code",
      "metadata": {
        "colab": {
          "base_uri": "https://localhost:8080/"
        },
        "id": "rcgnKVm7o_d7",
        "outputId": "86f46028-68f8-465d-e431-f7e21e740db8"
      },
      "source": [
        "#Fit the model and save it so we do not have to run this entire block \n",
        "#of code again later, because that takes far too long.\n",
        "filename_de_1 = 'model.h1.1_may_21_model1'\n",
        "checkpoint_de_1 = ModelCheckpoint(filename_de_1, monitor='val_loss', verbose=1, save_best_only=True, mode='min')\n",
        "history_de_1 = model_de_1.fit(trainGermanX, trainEnglishGermanY.reshape(trainEnglishGermanY.shape[0], trainEnglishGermanY.shape[1],1),\n",
        "                      epochs=30, batch_size=512, validation_split=0.2, callbacks=[checkpoint_de_1], verbose =1)"
      ],
      "id": "rcgnKVm7o_d7",
      "execution_count": null,
      "outputs": [
        {
          "output_type": "stream",
          "text": [
            "Epoch 1/30\n",
            "13/13 [==============================] - 38s 197ms/step - loss: 6.1279 - accuracy: 0.3346 - val_loss: 3.9012 - val_accuracy: 0.4453\n",
            "\n",
            "Epoch 00001: val_loss improved from inf to 3.90120, saving model to model.h1.1_may_21_model1\n"
          ],
          "name": "stdout"
        },
        {
          "output_type": "stream",
          "text": [
            "WARNING:absl:Found untraced functions such as lstm_cell_2_layer_call_fn, lstm_cell_2_layer_call_and_return_conditional_losses, lstm_cell_3_layer_call_fn, lstm_cell_3_layer_call_and_return_conditional_losses, lstm_cell_2_layer_call_fn while saving (showing 5 of 10). These functions will not be directly callable after loading.\n",
            "WARNING:absl:Found untraced functions such as lstm_cell_2_layer_call_fn, lstm_cell_2_layer_call_and_return_conditional_losses, lstm_cell_3_layer_call_fn, lstm_cell_3_layer_call_and_return_conditional_losses, lstm_cell_2_layer_call_fn while saving (showing 5 of 10). These functions will not be directly callable after loading.\n"
          ],
          "name": "stderr"
        },
        {
          "output_type": "stream",
          "text": [
            "INFO:tensorflow:Assets written to: model.h1.1_may_21_model1/assets\n"
          ],
          "name": "stdout"
        },
        {
          "output_type": "stream",
          "text": [
            "INFO:tensorflow:Assets written to: model.h1.1_may_21_model1/assets\n"
          ],
          "name": "stderr"
        },
        {
          "output_type": "stream",
          "text": [
            "Epoch 2/30\n",
            "13/13 [==============================] - 1s 56ms/step - loss: 3.7515 - accuracy: 0.4586 - val_loss: 3.6602 - val_accuracy: 0.4678\n",
            "\n",
            "Epoch 00002: val_loss improved from 3.90120 to 3.66017, saving model to model.h1.1_may_21_model1\n"
          ],
          "name": "stdout"
        },
        {
          "output_type": "stream",
          "text": [
            "WARNING:absl:Found untraced functions such as lstm_cell_2_layer_call_fn, lstm_cell_2_layer_call_and_return_conditional_losses, lstm_cell_3_layer_call_fn, lstm_cell_3_layer_call_and_return_conditional_losses, lstm_cell_2_layer_call_fn while saving (showing 5 of 10). These functions will not be directly callable after loading.\n",
            "WARNING:absl:Found untraced functions such as lstm_cell_2_layer_call_fn, lstm_cell_2_layer_call_and_return_conditional_losses, lstm_cell_3_layer_call_fn, lstm_cell_3_layer_call_and_return_conditional_losses, lstm_cell_2_layer_call_fn while saving (showing 5 of 10). These functions will not be directly callable after loading.\n"
          ],
          "name": "stderr"
        },
        {
          "output_type": "stream",
          "text": [
            "INFO:tensorflow:Assets written to: model.h1.1_may_21_model1/assets\n"
          ],
          "name": "stdout"
        },
        {
          "output_type": "stream",
          "text": [
            "INFO:tensorflow:Assets written to: model.h1.1_may_21_model1/assets\n"
          ],
          "name": "stderr"
        },
        {
          "output_type": "stream",
          "text": [
            "Epoch 3/30\n",
            "13/13 [==============================] - 1s 55ms/step - loss: 3.4155 - accuracy: 0.4707 - val_loss: 3.3493 - val_accuracy: 0.4766\n",
            "\n",
            "Epoch 00003: val_loss improved from 3.66017 to 3.34930, saving model to model.h1.1_may_21_model1\n"
          ],
          "name": "stdout"
        },
        {
          "output_type": "stream",
          "text": [
            "WARNING:absl:Found untraced functions such as lstm_cell_2_layer_call_fn, lstm_cell_2_layer_call_and_return_conditional_losses, lstm_cell_3_layer_call_fn, lstm_cell_3_layer_call_and_return_conditional_losses, lstm_cell_2_layer_call_fn while saving (showing 5 of 10). These functions will not be directly callable after loading.\n",
            "WARNING:absl:Found untraced functions such as lstm_cell_2_layer_call_fn, lstm_cell_2_layer_call_and_return_conditional_losses, lstm_cell_3_layer_call_fn, lstm_cell_3_layer_call_and_return_conditional_losses, lstm_cell_2_layer_call_fn while saving (showing 5 of 10). These functions will not be directly callable after loading.\n"
          ],
          "name": "stderr"
        },
        {
          "output_type": "stream",
          "text": [
            "INFO:tensorflow:Assets written to: model.h1.1_may_21_model1/assets\n"
          ],
          "name": "stdout"
        },
        {
          "output_type": "stream",
          "text": [
            "INFO:tensorflow:Assets written to: model.h1.1_may_21_model1/assets\n"
          ],
          "name": "stderr"
        },
        {
          "output_type": "stream",
          "text": [
            "Epoch 4/30\n",
            "13/13 [==============================] - 1s 52ms/step - loss: 3.2669 - accuracy: 0.4782 - val_loss: 3.3003 - val_accuracy: 0.4810\n",
            "\n",
            "Epoch 00004: val_loss improved from 3.34930 to 3.30035, saving model to model.h1.1_may_21_model1\n"
          ],
          "name": "stdout"
        },
        {
          "output_type": "stream",
          "text": [
            "WARNING:absl:Found untraced functions such as lstm_cell_2_layer_call_fn, lstm_cell_2_layer_call_and_return_conditional_losses, lstm_cell_3_layer_call_fn, lstm_cell_3_layer_call_and_return_conditional_losses, lstm_cell_2_layer_call_fn while saving (showing 5 of 10). These functions will not be directly callable after loading.\n",
            "WARNING:absl:Found untraced functions such as lstm_cell_2_layer_call_fn, lstm_cell_2_layer_call_and_return_conditional_losses, lstm_cell_3_layer_call_fn, lstm_cell_3_layer_call_and_return_conditional_losses, lstm_cell_2_layer_call_fn while saving (showing 5 of 10). These functions will not be directly callable after loading.\n"
          ],
          "name": "stderr"
        },
        {
          "output_type": "stream",
          "text": [
            "INFO:tensorflow:Assets written to: model.h1.1_may_21_model1/assets\n"
          ],
          "name": "stdout"
        },
        {
          "output_type": "stream",
          "text": [
            "INFO:tensorflow:Assets written to: model.h1.1_may_21_model1/assets\n"
          ],
          "name": "stderr"
        },
        {
          "output_type": "stream",
          "text": [
            "Epoch 5/30\n",
            "13/13 [==============================] - 1s 52ms/step - loss: 3.1654 - accuracy: 0.4843 - val_loss: 3.2666 - val_accuracy: 0.4949\n",
            "\n",
            "Epoch 00005: val_loss improved from 3.30035 to 3.26658, saving model to model.h1.1_may_21_model1\n"
          ],
          "name": "stdout"
        },
        {
          "output_type": "stream",
          "text": [
            "WARNING:absl:Found untraced functions such as lstm_cell_2_layer_call_fn, lstm_cell_2_layer_call_and_return_conditional_losses, lstm_cell_3_layer_call_fn, lstm_cell_3_layer_call_and_return_conditional_losses, lstm_cell_2_layer_call_fn while saving (showing 5 of 10). These functions will not be directly callable after loading.\n",
            "WARNING:absl:Found untraced functions such as lstm_cell_2_layer_call_fn, lstm_cell_2_layer_call_and_return_conditional_losses, lstm_cell_3_layer_call_fn, lstm_cell_3_layer_call_and_return_conditional_losses, lstm_cell_2_layer_call_fn while saving (showing 5 of 10). These functions will not be directly callable after loading.\n"
          ],
          "name": "stderr"
        },
        {
          "output_type": "stream",
          "text": [
            "INFO:tensorflow:Assets written to: model.h1.1_may_21_model1/assets\n"
          ],
          "name": "stdout"
        },
        {
          "output_type": "stream",
          "text": [
            "INFO:tensorflow:Assets written to: model.h1.1_may_21_model1/assets\n"
          ],
          "name": "stderr"
        },
        {
          "output_type": "stream",
          "text": [
            "Epoch 6/30\n",
            "13/13 [==============================] - 1s 55ms/step - loss: 3.1080 - accuracy: 0.4912 - val_loss: 3.2068 - val_accuracy: 0.5008\n",
            "\n",
            "Epoch 00006: val_loss improved from 3.26658 to 3.20683, saving model to model.h1.1_may_21_model1\n"
          ],
          "name": "stdout"
        },
        {
          "output_type": "stream",
          "text": [
            "WARNING:absl:Found untraced functions such as lstm_cell_2_layer_call_fn, lstm_cell_2_layer_call_and_return_conditional_losses, lstm_cell_3_layer_call_fn, lstm_cell_3_layer_call_and_return_conditional_losses, lstm_cell_2_layer_call_fn while saving (showing 5 of 10). These functions will not be directly callable after loading.\n",
            "WARNING:absl:Found untraced functions such as lstm_cell_2_layer_call_fn, lstm_cell_2_layer_call_and_return_conditional_losses, lstm_cell_3_layer_call_fn, lstm_cell_3_layer_call_and_return_conditional_losses, lstm_cell_2_layer_call_fn while saving (showing 5 of 10). These functions will not be directly callable after loading.\n"
          ],
          "name": "stderr"
        },
        {
          "output_type": "stream",
          "text": [
            "INFO:tensorflow:Assets written to: model.h1.1_may_21_model1/assets\n"
          ],
          "name": "stdout"
        },
        {
          "output_type": "stream",
          "text": [
            "INFO:tensorflow:Assets written to: model.h1.1_may_21_model1/assets\n"
          ],
          "name": "stderr"
        },
        {
          "output_type": "stream",
          "text": [
            "Epoch 7/30\n",
            "13/13 [==============================] - 1s 52ms/step - loss: 3.0233 - accuracy: 0.5064 - val_loss: 3.1735 - val_accuracy: 0.5046\n",
            "\n",
            "Epoch 00007: val_loss improved from 3.20683 to 3.17349, saving model to model.h1.1_may_21_model1\n"
          ],
          "name": "stdout"
        },
        {
          "output_type": "stream",
          "text": [
            "WARNING:absl:Found untraced functions such as lstm_cell_2_layer_call_fn, lstm_cell_2_layer_call_and_return_conditional_losses, lstm_cell_3_layer_call_fn, lstm_cell_3_layer_call_and_return_conditional_losses, lstm_cell_2_layer_call_fn while saving (showing 5 of 10). These functions will not be directly callable after loading.\n",
            "WARNING:absl:Found untraced functions such as lstm_cell_2_layer_call_fn, lstm_cell_2_layer_call_and_return_conditional_losses, lstm_cell_3_layer_call_fn, lstm_cell_3_layer_call_and_return_conditional_losses, lstm_cell_2_layer_call_fn while saving (showing 5 of 10). These functions will not be directly callable after loading.\n"
          ],
          "name": "stderr"
        },
        {
          "output_type": "stream",
          "text": [
            "INFO:tensorflow:Assets written to: model.h1.1_may_21_model1/assets\n"
          ],
          "name": "stdout"
        },
        {
          "output_type": "stream",
          "text": [
            "INFO:tensorflow:Assets written to: model.h1.1_may_21_model1/assets\n"
          ],
          "name": "stderr"
        },
        {
          "output_type": "stream",
          "text": [
            "Epoch 8/30\n",
            "13/13 [==============================] - 1s 54ms/step - loss: 2.9544 - accuracy: 0.5128 - val_loss: 3.1277 - val_accuracy: 0.5100\n",
            "\n",
            "Epoch 00008: val_loss improved from 3.17349 to 3.12772, saving model to model.h1.1_may_21_model1\n"
          ],
          "name": "stdout"
        },
        {
          "output_type": "stream",
          "text": [
            "WARNING:absl:Found untraced functions such as lstm_cell_2_layer_call_fn, lstm_cell_2_layer_call_and_return_conditional_losses, lstm_cell_3_layer_call_fn, lstm_cell_3_layer_call_and_return_conditional_losses, lstm_cell_2_layer_call_fn while saving (showing 5 of 10). These functions will not be directly callable after loading.\n",
            "WARNING:absl:Found untraced functions such as lstm_cell_2_layer_call_fn, lstm_cell_2_layer_call_and_return_conditional_losses, lstm_cell_3_layer_call_fn, lstm_cell_3_layer_call_and_return_conditional_losses, lstm_cell_2_layer_call_fn while saving (showing 5 of 10). These functions will not be directly callable after loading.\n"
          ],
          "name": "stderr"
        },
        {
          "output_type": "stream",
          "text": [
            "INFO:tensorflow:Assets written to: model.h1.1_may_21_model1/assets\n"
          ],
          "name": "stdout"
        },
        {
          "output_type": "stream",
          "text": [
            "INFO:tensorflow:Assets written to: model.h1.1_may_21_model1/assets\n"
          ],
          "name": "stderr"
        },
        {
          "output_type": "stream",
          "text": [
            "Epoch 9/30\n",
            "13/13 [==============================] - 1s 55ms/step - loss: 2.8632 - accuracy: 0.5207 - val_loss: 3.0532 - val_accuracy: 0.5161\n",
            "\n",
            "Epoch 00009: val_loss improved from 3.12772 to 3.05319, saving model to model.h1.1_may_21_model1\n"
          ],
          "name": "stdout"
        },
        {
          "output_type": "stream",
          "text": [
            "WARNING:absl:Found untraced functions such as lstm_cell_2_layer_call_fn, lstm_cell_2_layer_call_and_return_conditional_losses, lstm_cell_3_layer_call_fn, lstm_cell_3_layer_call_and_return_conditional_losses, lstm_cell_2_layer_call_fn while saving (showing 5 of 10). These functions will not be directly callable after loading.\n",
            "WARNING:absl:Found untraced functions such as lstm_cell_2_layer_call_fn, lstm_cell_2_layer_call_and_return_conditional_losses, lstm_cell_3_layer_call_fn, lstm_cell_3_layer_call_and_return_conditional_losses, lstm_cell_2_layer_call_fn while saving (showing 5 of 10). These functions will not be directly callable after loading.\n"
          ],
          "name": "stderr"
        },
        {
          "output_type": "stream",
          "text": [
            "INFO:tensorflow:Assets written to: model.h1.1_may_21_model1/assets\n"
          ],
          "name": "stdout"
        },
        {
          "output_type": "stream",
          "text": [
            "INFO:tensorflow:Assets written to: model.h1.1_may_21_model1/assets\n"
          ],
          "name": "stderr"
        },
        {
          "output_type": "stream",
          "text": [
            "Epoch 10/30\n",
            "13/13 [==============================] - 1s 55ms/step - loss: 2.7785 - accuracy: 0.5308 - val_loss: 2.9781 - val_accuracy: 0.5314\n",
            "\n",
            "Epoch 00010: val_loss improved from 3.05319 to 2.97808, saving model to model.h1.1_may_21_model1\n"
          ],
          "name": "stdout"
        },
        {
          "output_type": "stream",
          "text": [
            "WARNING:absl:Found untraced functions such as lstm_cell_2_layer_call_fn, lstm_cell_2_layer_call_and_return_conditional_losses, lstm_cell_3_layer_call_fn, lstm_cell_3_layer_call_and_return_conditional_losses, lstm_cell_2_layer_call_fn while saving (showing 5 of 10). These functions will not be directly callable after loading.\n",
            "WARNING:absl:Found untraced functions such as lstm_cell_2_layer_call_fn, lstm_cell_2_layer_call_and_return_conditional_losses, lstm_cell_3_layer_call_fn, lstm_cell_3_layer_call_and_return_conditional_losses, lstm_cell_2_layer_call_fn while saving (showing 5 of 10). These functions will not be directly callable after loading.\n"
          ],
          "name": "stderr"
        },
        {
          "output_type": "stream",
          "text": [
            "INFO:tensorflow:Assets written to: model.h1.1_may_21_model1/assets\n"
          ],
          "name": "stdout"
        },
        {
          "output_type": "stream",
          "text": [
            "INFO:tensorflow:Assets written to: model.h1.1_may_21_model1/assets\n"
          ],
          "name": "stderr"
        },
        {
          "output_type": "stream",
          "text": [
            "Epoch 11/30\n",
            "13/13 [==============================] - 1s 51ms/step - loss: 2.6892 - accuracy: 0.5398 - val_loss: 2.9222 - val_accuracy: 0.5345\n",
            "\n",
            "Epoch 00011: val_loss improved from 2.97808 to 2.92221, saving model to model.h1.1_may_21_model1\n"
          ],
          "name": "stdout"
        },
        {
          "output_type": "stream",
          "text": [
            "WARNING:absl:Found untraced functions such as lstm_cell_2_layer_call_fn, lstm_cell_2_layer_call_and_return_conditional_losses, lstm_cell_3_layer_call_fn, lstm_cell_3_layer_call_and_return_conditional_losses, lstm_cell_2_layer_call_fn while saving (showing 5 of 10). These functions will not be directly callable after loading.\n",
            "WARNING:absl:Found untraced functions such as lstm_cell_2_layer_call_fn, lstm_cell_2_layer_call_and_return_conditional_losses, lstm_cell_3_layer_call_fn, lstm_cell_3_layer_call_and_return_conditional_losses, lstm_cell_2_layer_call_fn while saving (showing 5 of 10). These functions will not be directly callable after loading.\n"
          ],
          "name": "stderr"
        },
        {
          "output_type": "stream",
          "text": [
            "INFO:tensorflow:Assets written to: model.h1.1_may_21_model1/assets\n"
          ],
          "name": "stdout"
        },
        {
          "output_type": "stream",
          "text": [
            "INFO:tensorflow:Assets written to: model.h1.1_may_21_model1/assets\n"
          ],
          "name": "stderr"
        },
        {
          "output_type": "stream",
          "text": [
            "Epoch 12/30\n",
            "13/13 [==============================] - 1s 51ms/step - loss: 2.5908 - accuracy: 0.5490 - val_loss: 2.8997 - val_accuracy: 0.5408\n",
            "\n",
            "Epoch 00012: val_loss improved from 2.92221 to 2.89965, saving model to model.h1.1_may_21_model1\n"
          ],
          "name": "stdout"
        },
        {
          "output_type": "stream",
          "text": [
            "WARNING:absl:Found untraced functions such as lstm_cell_2_layer_call_fn, lstm_cell_2_layer_call_and_return_conditional_losses, lstm_cell_3_layer_call_fn, lstm_cell_3_layer_call_and_return_conditional_losses, lstm_cell_2_layer_call_fn while saving (showing 5 of 10). These functions will not be directly callable after loading.\n",
            "WARNING:absl:Found untraced functions such as lstm_cell_2_layer_call_fn, lstm_cell_2_layer_call_and_return_conditional_losses, lstm_cell_3_layer_call_fn, lstm_cell_3_layer_call_and_return_conditional_losses, lstm_cell_2_layer_call_fn while saving (showing 5 of 10). These functions will not be directly callable after loading.\n"
          ],
          "name": "stderr"
        },
        {
          "output_type": "stream",
          "text": [
            "INFO:tensorflow:Assets written to: model.h1.1_may_21_model1/assets\n"
          ],
          "name": "stdout"
        },
        {
          "output_type": "stream",
          "text": [
            "INFO:tensorflow:Assets written to: model.h1.1_may_21_model1/assets\n"
          ],
          "name": "stderr"
        },
        {
          "output_type": "stream",
          "text": [
            "Epoch 13/30\n",
            "13/13 [==============================] - 1s 54ms/step - loss: 2.5142 - accuracy: 0.5573 - val_loss: 2.8951 - val_accuracy: 0.5447\n",
            "\n",
            "Epoch 00013: val_loss improved from 2.89965 to 2.89507, saving model to model.h1.1_may_21_model1\n"
          ],
          "name": "stdout"
        },
        {
          "output_type": "stream",
          "text": [
            "WARNING:absl:Found untraced functions such as lstm_cell_2_layer_call_fn, lstm_cell_2_layer_call_and_return_conditional_losses, lstm_cell_3_layer_call_fn, lstm_cell_3_layer_call_and_return_conditional_losses, lstm_cell_2_layer_call_fn while saving (showing 5 of 10). These functions will not be directly callable after loading.\n",
            "WARNING:absl:Found untraced functions such as lstm_cell_2_layer_call_fn, lstm_cell_2_layer_call_and_return_conditional_losses, lstm_cell_3_layer_call_fn, lstm_cell_3_layer_call_and_return_conditional_losses, lstm_cell_2_layer_call_fn while saving (showing 5 of 10). These functions will not be directly callable after loading.\n"
          ],
          "name": "stderr"
        },
        {
          "output_type": "stream",
          "text": [
            "INFO:tensorflow:Assets written to: model.h1.1_may_21_model1/assets\n"
          ],
          "name": "stdout"
        },
        {
          "output_type": "stream",
          "text": [
            "INFO:tensorflow:Assets written to: model.h1.1_may_21_model1/assets\n"
          ],
          "name": "stderr"
        },
        {
          "output_type": "stream",
          "text": [
            "Epoch 14/30\n",
            "13/13 [==============================] - 1s 55ms/step - loss: 2.4515 - accuracy: 0.5669 - val_loss: 2.8773 - val_accuracy: 0.5436\n",
            "\n",
            "Epoch 00014: val_loss improved from 2.89507 to 2.87725, saving model to model.h1.1_may_21_model1\n"
          ],
          "name": "stdout"
        },
        {
          "output_type": "stream",
          "text": [
            "WARNING:absl:Found untraced functions such as lstm_cell_2_layer_call_fn, lstm_cell_2_layer_call_and_return_conditional_losses, lstm_cell_3_layer_call_fn, lstm_cell_3_layer_call_and_return_conditional_losses, lstm_cell_2_layer_call_fn while saving (showing 5 of 10). These functions will not be directly callable after loading.\n",
            "WARNING:absl:Found untraced functions such as lstm_cell_2_layer_call_fn, lstm_cell_2_layer_call_and_return_conditional_losses, lstm_cell_3_layer_call_fn, lstm_cell_3_layer_call_and_return_conditional_losses, lstm_cell_2_layer_call_fn while saving (showing 5 of 10). These functions will not be directly callable after loading.\n"
          ],
          "name": "stderr"
        },
        {
          "output_type": "stream",
          "text": [
            "INFO:tensorflow:Assets written to: model.h1.1_may_21_model1/assets\n"
          ],
          "name": "stdout"
        },
        {
          "output_type": "stream",
          "text": [
            "INFO:tensorflow:Assets written to: model.h1.1_may_21_model1/assets\n"
          ],
          "name": "stderr"
        },
        {
          "output_type": "stream",
          "text": [
            "Epoch 15/30\n",
            "13/13 [==============================] - 1s 51ms/step - loss: 2.3749 - accuracy: 0.5715 - val_loss: 2.8373 - val_accuracy: 0.5562\n",
            "\n",
            "Epoch 00015: val_loss improved from 2.87725 to 2.83726, saving model to model.h1.1_may_21_model1\n"
          ],
          "name": "stdout"
        },
        {
          "output_type": "stream",
          "text": [
            "WARNING:absl:Found untraced functions such as lstm_cell_2_layer_call_fn, lstm_cell_2_layer_call_and_return_conditional_losses, lstm_cell_3_layer_call_fn, lstm_cell_3_layer_call_and_return_conditional_losses, lstm_cell_2_layer_call_fn while saving (showing 5 of 10). These functions will not be directly callable after loading.\n",
            "WARNING:absl:Found untraced functions such as lstm_cell_2_layer_call_fn, lstm_cell_2_layer_call_and_return_conditional_losses, lstm_cell_3_layer_call_fn, lstm_cell_3_layer_call_and_return_conditional_losses, lstm_cell_2_layer_call_fn while saving (showing 5 of 10). These functions will not be directly callable after loading.\n"
          ],
          "name": "stderr"
        },
        {
          "output_type": "stream",
          "text": [
            "INFO:tensorflow:Assets written to: model.h1.1_may_21_model1/assets\n"
          ],
          "name": "stdout"
        },
        {
          "output_type": "stream",
          "text": [
            "INFO:tensorflow:Assets written to: model.h1.1_may_21_model1/assets\n"
          ],
          "name": "stderr"
        },
        {
          "output_type": "stream",
          "text": [
            "Epoch 16/30\n",
            "13/13 [==============================] - 1s 54ms/step - loss: 2.2832 - accuracy: 0.5836 - val_loss: 2.7896 - val_accuracy: 0.5574\n",
            "\n",
            "Epoch 00016: val_loss improved from 2.83726 to 2.78959, saving model to model.h1.1_may_21_model1\n"
          ],
          "name": "stdout"
        },
        {
          "output_type": "stream",
          "text": [
            "WARNING:absl:Found untraced functions such as lstm_cell_2_layer_call_fn, lstm_cell_2_layer_call_and_return_conditional_losses, lstm_cell_3_layer_call_fn, lstm_cell_3_layer_call_and_return_conditional_losses, lstm_cell_2_layer_call_fn while saving (showing 5 of 10). These functions will not be directly callable after loading.\n",
            "WARNING:absl:Found untraced functions such as lstm_cell_2_layer_call_fn, lstm_cell_2_layer_call_and_return_conditional_losses, lstm_cell_3_layer_call_fn, lstm_cell_3_layer_call_and_return_conditional_losses, lstm_cell_2_layer_call_fn while saving (showing 5 of 10). These functions will not be directly callable after loading.\n"
          ],
          "name": "stderr"
        },
        {
          "output_type": "stream",
          "text": [
            "INFO:tensorflow:Assets written to: model.h1.1_may_21_model1/assets\n"
          ],
          "name": "stdout"
        },
        {
          "output_type": "stream",
          "text": [
            "INFO:tensorflow:Assets written to: model.h1.1_may_21_model1/assets\n"
          ],
          "name": "stderr"
        },
        {
          "output_type": "stream",
          "text": [
            "Epoch 17/30\n",
            "13/13 [==============================] - 1s 55ms/step - loss: 2.2166 - accuracy: 0.5887 - val_loss: 2.7626 - val_accuracy: 0.5651\n",
            "\n",
            "Epoch 00017: val_loss improved from 2.78959 to 2.76259, saving model to model.h1.1_may_21_model1\n"
          ],
          "name": "stdout"
        },
        {
          "output_type": "stream",
          "text": [
            "WARNING:absl:Found untraced functions such as lstm_cell_2_layer_call_fn, lstm_cell_2_layer_call_and_return_conditional_losses, lstm_cell_3_layer_call_fn, lstm_cell_3_layer_call_and_return_conditional_losses, lstm_cell_2_layer_call_fn while saving (showing 5 of 10). These functions will not be directly callable after loading.\n",
            "WARNING:absl:Found untraced functions such as lstm_cell_2_layer_call_fn, lstm_cell_2_layer_call_and_return_conditional_losses, lstm_cell_3_layer_call_fn, lstm_cell_3_layer_call_and_return_conditional_losses, lstm_cell_2_layer_call_fn while saving (showing 5 of 10). These functions will not be directly callable after loading.\n"
          ],
          "name": "stderr"
        },
        {
          "output_type": "stream",
          "text": [
            "INFO:tensorflow:Assets written to: model.h1.1_may_21_model1/assets\n"
          ],
          "name": "stdout"
        },
        {
          "output_type": "stream",
          "text": [
            "INFO:tensorflow:Assets written to: model.h1.1_may_21_model1/assets\n"
          ],
          "name": "stderr"
        },
        {
          "output_type": "stream",
          "text": [
            "Epoch 18/30\n",
            "13/13 [==============================] - 1s 54ms/step - loss: 2.1632 - accuracy: 0.5926 - val_loss: 2.7226 - val_accuracy: 0.5732\n",
            "\n",
            "Epoch 00018: val_loss improved from 2.76259 to 2.72265, saving model to model.h1.1_may_21_model1\n"
          ],
          "name": "stdout"
        },
        {
          "output_type": "stream",
          "text": [
            "WARNING:absl:Found untraced functions such as lstm_cell_2_layer_call_fn, lstm_cell_2_layer_call_and_return_conditional_losses, lstm_cell_3_layer_call_fn, lstm_cell_3_layer_call_and_return_conditional_losses, lstm_cell_2_layer_call_fn while saving (showing 5 of 10). These functions will not be directly callable after loading.\n",
            "WARNING:absl:Found untraced functions such as lstm_cell_2_layer_call_fn, lstm_cell_2_layer_call_and_return_conditional_losses, lstm_cell_3_layer_call_fn, lstm_cell_3_layer_call_and_return_conditional_losses, lstm_cell_2_layer_call_fn while saving (showing 5 of 10). These functions will not be directly callable after loading.\n"
          ],
          "name": "stderr"
        },
        {
          "output_type": "stream",
          "text": [
            "INFO:tensorflow:Assets written to: model.h1.1_may_21_model1/assets\n"
          ],
          "name": "stdout"
        },
        {
          "output_type": "stream",
          "text": [
            "INFO:tensorflow:Assets written to: model.h1.1_may_21_model1/assets\n"
          ],
          "name": "stderr"
        },
        {
          "output_type": "stream",
          "text": [
            "Epoch 19/30\n",
            "13/13 [==============================] - 1s 56ms/step - loss: 2.0971 - accuracy: 0.5976 - val_loss: 2.7021 - val_accuracy: 0.5782\n",
            "\n",
            "Epoch 00019: val_loss improved from 2.72265 to 2.70214, saving model to model.h1.1_may_21_model1\n"
          ],
          "name": "stdout"
        },
        {
          "output_type": "stream",
          "text": [
            "WARNING:absl:Found untraced functions such as lstm_cell_2_layer_call_fn, lstm_cell_2_layer_call_and_return_conditional_losses, lstm_cell_3_layer_call_fn, lstm_cell_3_layer_call_and_return_conditional_losses, lstm_cell_2_layer_call_fn while saving (showing 5 of 10). These functions will not be directly callable after loading.\n",
            "WARNING:absl:Found untraced functions such as lstm_cell_2_layer_call_fn, lstm_cell_2_layer_call_and_return_conditional_losses, lstm_cell_3_layer_call_fn, lstm_cell_3_layer_call_and_return_conditional_losses, lstm_cell_2_layer_call_fn while saving (showing 5 of 10). These functions will not be directly callable after loading.\n"
          ],
          "name": "stderr"
        },
        {
          "output_type": "stream",
          "text": [
            "INFO:tensorflow:Assets written to: model.h1.1_may_21_model1/assets\n"
          ],
          "name": "stdout"
        },
        {
          "output_type": "stream",
          "text": [
            "INFO:tensorflow:Assets written to: model.h1.1_may_21_model1/assets\n"
          ],
          "name": "stderr"
        },
        {
          "output_type": "stream",
          "text": [
            "Epoch 20/30\n",
            "13/13 [==============================] - 1s 55ms/step - loss: 2.0064 - accuracy: 0.6104 - val_loss: 2.7220 - val_accuracy: 0.5732\n",
            "\n",
            "Epoch 00020: val_loss did not improve from 2.70214\n",
            "Epoch 21/30\n",
            "13/13 [==============================] - 1s 47ms/step - loss: 2.0094 - accuracy: 0.6099 - val_loss: 2.7070 - val_accuracy: 0.5804\n",
            "\n",
            "Epoch 00021: val_loss did not improve from 2.70214\n",
            "Epoch 22/30\n",
            "13/13 [==============================] - 1s 49ms/step - loss: 1.9144 - accuracy: 0.6188 - val_loss: 2.6984 - val_accuracy: 0.5809\n",
            "\n",
            "Epoch 00022: val_loss improved from 2.70214 to 2.69840, saving model to model.h1.1_may_21_model1\n"
          ],
          "name": "stdout"
        },
        {
          "output_type": "stream",
          "text": [
            "WARNING:absl:Found untraced functions such as lstm_cell_2_layer_call_fn, lstm_cell_2_layer_call_and_return_conditional_losses, lstm_cell_3_layer_call_fn, lstm_cell_3_layer_call_and_return_conditional_losses, lstm_cell_2_layer_call_fn while saving (showing 5 of 10). These functions will not be directly callable after loading.\n",
            "WARNING:absl:Found untraced functions such as lstm_cell_2_layer_call_fn, lstm_cell_2_layer_call_and_return_conditional_losses, lstm_cell_3_layer_call_fn, lstm_cell_3_layer_call_and_return_conditional_losses, lstm_cell_2_layer_call_fn while saving (showing 5 of 10). These functions will not be directly callable after loading.\n"
          ],
          "name": "stderr"
        },
        {
          "output_type": "stream",
          "text": [
            "INFO:tensorflow:Assets written to: model.h1.1_may_21_model1/assets\n"
          ],
          "name": "stdout"
        },
        {
          "output_type": "stream",
          "text": [
            "INFO:tensorflow:Assets written to: model.h1.1_may_21_model1/assets\n"
          ],
          "name": "stderr"
        },
        {
          "output_type": "stream",
          "text": [
            "Epoch 23/30\n",
            "13/13 [==============================] - 1s 53ms/step - loss: 1.9032 - accuracy: 0.6181 - val_loss: 2.6607 - val_accuracy: 0.5773\n",
            "\n",
            "Epoch 00023: val_loss improved from 2.69840 to 2.66068, saving model to model.h1.1_may_21_model1\n"
          ],
          "name": "stdout"
        },
        {
          "output_type": "stream",
          "text": [
            "WARNING:absl:Found untraced functions such as lstm_cell_2_layer_call_fn, lstm_cell_2_layer_call_and_return_conditional_losses, lstm_cell_3_layer_call_fn, lstm_cell_3_layer_call_and_return_conditional_losses, lstm_cell_2_layer_call_fn while saving (showing 5 of 10). These functions will not be directly callable after loading.\n",
            "WARNING:absl:Found untraced functions such as lstm_cell_2_layer_call_fn, lstm_cell_2_layer_call_and_return_conditional_losses, lstm_cell_3_layer_call_fn, lstm_cell_3_layer_call_and_return_conditional_losses, lstm_cell_2_layer_call_fn while saving (showing 5 of 10). These functions will not be directly callable after loading.\n"
          ],
          "name": "stderr"
        },
        {
          "output_type": "stream",
          "text": [
            "INFO:tensorflow:Assets written to: model.h1.1_may_21_model1/assets\n"
          ],
          "name": "stdout"
        },
        {
          "output_type": "stream",
          "text": [
            "INFO:tensorflow:Assets written to: model.h1.1_may_21_model1/assets\n"
          ],
          "name": "stderr"
        },
        {
          "output_type": "stream",
          "text": [
            "Epoch 24/30\n",
            "13/13 [==============================] - 1s 54ms/step - loss: 1.8591 - accuracy: 0.6227 - val_loss: 2.6571 - val_accuracy: 0.5944\n",
            "\n",
            "Epoch 00024: val_loss improved from 2.66068 to 2.65709, saving model to model.h1.1_may_21_model1\n"
          ],
          "name": "stdout"
        },
        {
          "output_type": "stream",
          "text": [
            "WARNING:absl:Found untraced functions such as lstm_cell_2_layer_call_fn, lstm_cell_2_layer_call_and_return_conditional_losses, lstm_cell_3_layer_call_fn, lstm_cell_3_layer_call_and_return_conditional_losses, lstm_cell_2_layer_call_fn while saving (showing 5 of 10). These functions will not be directly callable after loading.\n",
            "WARNING:absl:Found untraced functions such as lstm_cell_2_layer_call_fn, lstm_cell_2_layer_call_and_return_conditional_losses, lstm_cell_3_layer_call_fn, lstm_cell_3_layer_call_and_return_conditional_losses, lstm_cell_2_layer_call_fn while saving (showing 5 of 10). These functions will not be directly callable after loading.\n"
          ],
          "name": "stderr"
        },
        {
          "output_type": "stream",
          "text": [
            "INFO:tensorflow:Assets written to: model.h1.1_may_21_model1/assets\n"
          ],
          "name": "stdout"
        },
        {
          "output_type": "stream",
          "text": [
            "INFO:tensorflow:Assets written to: model.h1.1_may_21_model1/assets\n"
          ],
          "name": "stderr"
        },
        {
          "output_type": "stream",
          "text": [
            "Epoch 25/30\n",
            "13/13 [==============================] - 1s 53ms/step - loss: 1.8163 - accuracy: 0.6297 - val_loss: 2.6660 - val_accuracy: 0.5771\n",
            "\n",
            "Epoch 00025: val_loss did not improve from 2.65709\n",
            "Epoch 26/30\n",
            "13/13 [==============================] - 1s 47ms/step - loss: 1.7698 - accuracy: 0.6312 - val_loss: 2.6028 - val_accuracy: 0.5943\n",
            "\n",
            "Epoch 00026: val_loss improved from 2.65709 to 2.60280, saving model to model.h1.1_may_21_model1\n"
          ],
          "name": "stdout"
        },
        {
          "output_type": "stream",
          "text": [
            "WARNING:absl:Found untraced functions such as lstm_cell_2_layer_call_fn, lstm_cell_2_layer_call_and_return_conditional_losses, lstm_cell_3_layer_call_fn, lstm_cell_3_layer_call_and_return_conditional_losses, lstm_cell_2_layer_call_fn while saving (showing 5 of 10). These functions will not be directly callable after loading.\n",
            "WARNING:absl:Found untraced functions such as lstm_cell_2_layer_call_fn, lstm_cell_2_layer_call_and_return_conditional_losses, lstm_cell_3_layer_call_fn, lstm_cell_3_layer_call_and_return_conditional_losses, lstm_cell_2_layer_call_fn while saving (showing 5 of 10). These functions will not be directly callable after loading.\n"
          ],
          "name": "stderr"
        },
        {
          "output_type": "stream",
          "text": [
            "INFO:tensorflow:Assets written to: model.h1.1_may_21_model1/assets\n"
          ],
          "name": "stdout"
        },
        {
          "output_type": "stream",
          "text": [
            "INFO:tensorflow:Assets written to: model.h1.1_may_21_model1/assets\n"
          ],
          "name": "stderr"
        },
        {
          "output_type": "stream",
          "text": [
            "Epoch 27/30\n",
            "13/13 [==============================] - 1s 54ms/step - loss: 1.6958 - accuracy: 0.6403 - val_loss: 2.5985 - val_accuracy: 0.5968\n",
            "\n",
            "Epoch 00027: val_loss improved from 2.60280 to 2.59849, saving model to model.h1.1_may_21_model1\n"
          ],
          "name": "stdout"
        },
        {
          "output_type": "stream",
          "text": [
            "WARNING:absl:Found untraced functions such as lstm_cell_2_layer_call_fn, lstm_cell_2_layer_call_and_return_conditional_losses, lstm_cell_3_layer_call_fn, lstm_cell_3_layer_call_and_return_conditional_losses, lstm_cell_2_layer_call_fn while saving (showing 5 of 10). These functions will not be directly callable after loading.\n",
            "WARNING:absl:Found untraced functions such as lstm_cell_2_layer_call_fn, lstm_cell_2_layer_call_and_return_conditional_losses, lstm_cell_3_layer_call_fn, lstm_cell_3_layer_call_and_return_conditional_losses, lstm_cell_2_layer_call_fn while saving (showing 5 of 10). These functions will not be directly callable after loading.\n"
          ],
          "name": "stderr"
        },
        {
          "output_type": "stream",
          "text": [
            "INFO:tensorflow:Assets written to: model.h1.1_may_21_model1/assets\n"
          ],
          "name": "stdout"
        },
        {
          "output_type": "stream",
          "text": [
            "INFO:tensorflow:Assets written to: model.h1.1_may_21_model1/assets\n"
          ],
          "name": "stderr"
        },
        {
          "output_type": "stream",
          "text": [
            "Epoch 28/30\n",
            "13/13 [==============================] - 1s 55ms/step - loss: 1.6718 - accuracy: 0.6471 - val_loss: 2.5749 - val_accuracy: 0.5993\n",
            "\n",
            "Epoch 00028: val_loss improved from 2.59849 to 2.57491, saving model to model.h1.1_may_21_model1\n"
          ],
          "name": "stdout"
        },
        {
          "output_type": "stream",
          "text": [
            "WARNING:absl:Found untraced functions such as lstm_cell_2_layer_call_fn, lstm_cell_2_layer_call_and_return_conditional_losses, lstm_cell_3_layer_call_fn, lstm_cell_3_layer_call_and_return_conditional_losses, lstm_cell_2_layer_call_fn while saving (showing 5 of 10). These functions will not be directly callable after loading.\n",
            "WARNING:absl:Found untraced functions such as lstm_cell_2_layer_call_fn, lstm_cell_2_layer_call_and_return_conditional_losses, lstm_cell_3_layer_call_fn, lstm_cell_3_layer_call_and_return_conditional_losses, lstm_cell_2_layer_call_fn while saving (showing 5 of 10). These functions will not be directly callable after loading.\n"
          ],
          "name": "stderr"
        },
        {
          "output_type": "stream",
          "text": [
            "INFO:tensorflow:Assets written to: model.h1.1_may_21_model1/assets\n"
          ],
          "name": "stdout"
        },
        {
          "output_type": "stream",
          "text": [
            "INFO:tensorflow:Assets written to: model.h1.1_may_21_model1/assets\n"
          ],
          "name": "stderr"
        },
        {
          "output_type": "stream",
          "text": [
            "Epoch 29/30\n",
            "13/13 [==============================] - 1s 55ms/step - loss: 1.6051 - accuracy: 0.6560 - val_loss: 2.5802 - val_accuracy: 0.6010\n",
            "\n",
            "Epoch 00029: val_loss did not improve from 2.57491\n",
            "Epoch 30/30\n",
            "13/13 [==============================] - 1s 47ms/step - loss: 1.5770 - accuracy: 0.6578 - val_loss: 2.5789 - val_accuracy: 0.6005\n",
            "\n",
            "Epoch 00030: val_loss did not improve from 2.57491\n"
          ],
          "name": "stdout"
        }
      ]
    },
    {
      "cell_type": "code",
      "metadata": {
        "colab": {
          "base_uri": "https://localhost:8080/"
        },
        "id": "NCf-mZm1pJtQ",
        "outputId": "a3546cc5-9f3d-4104-cc62-0a273c109cb6"
      },
      "source": [
        "#make predictions on the test data\n",
        "model_de_pred_1 = load_model('model.h1.1_may_21_model1')\n",
        "preds_de_1 = model_de_pred_1.predict_classes(testGermanX.reshape(testGermanX.shape[0], testGermanX.shape[1]))"
      ],
      "id": "NCf-mZm1pJtQ",
      "execution_count": null,
      "outputs": [
        {
          "output_type": "stream",
          "text": [
            "/usr/local/lib/python3.7/dist-packages/tensorflow/python/keras/engine/sequential.py:450: UserWarning: `model.predict_classes()` is deprecated and will be removed after 2021-01-01. Please use instead:* `np.argmax(model.predict(x), axis=-1)`,   if your model does multi-class classification   (e.g. if it uses a `softmax` last-layer activation).* `(model.predict(x) > 0.5).astype(\"int32\")`,   if your model does binary classification   (e.g. if it uses a `sigmoid` last-layer activation).\n",
            "  warnings.warn('`model.predict_classes()` is deprecated and '\n"
          ],
          "name": "stderr"
        }
      ]
    },
    {
      "cell_type": "code",
      "metadata": {
        "id": "xdQh0aX-pMrk"
      },
      "source": [
        "#Define function to get a word from the tokenizer.\n",
        "def get_word(n, tokenizer):\n",
        "    for word, index in tokenizer.word_index.items():\n",
        "        if index == n:\n",
        "            return word\n",
        "    return None"
      ],
      "id": "xdQh0aX-pMrk",
      "execution_count": null,
      "outputs": []
    },
    {
      "cell_type": "code",
      "metadata": {
        "id": "ac1fHaR1pbC2"
      },
      "source": [
        "#Convert predictions into text (English)\n",
        "preds_text_eng_de_1 = []\n",
        "for i in preds_de_1:\n",
        "    temp = []\n",
        "    for j in range(len(i)):\n",
        "        t = get_word(i[j], eng_de_tokenizer)\n",
        "        if j > 0:\n",
        "            if (t == get_word(i[j-1], eng_de_tokenizer)) or (t == None):\n",
        "                temp.append('')\n",
        "            else:\n",
        "                temp.append(t)\n",
        "        else:\n",
        "            if (t == None):\n",
        "                temp.append('')\n",
        "            else:\n",
        "                temp.append(t)\n",
        "    preds_text_eng_de_1.append(' '.join(temp))"
      ],
      "id": "ac1fHaR1pbC2",
      "execution_count": null,
      "outputs": []
    },
    {
      "cell_type": "code",
      "metadata": {
        "id": "5Py3Hh2Upguc"
      },
      "source": [
        "#Convert the predictions into a dataframe and display the first fifteen rows.\n",
        "pred_df_de_1 = pd.DataFrame({'actual': testDeu[:,0], 'predicted': preds_text_eng_de_1})"
      ],
      "id": "5Py3Hh2Upguc",
      "execution_count": null,
      "outputs": []
    },
    {
      "cell_type": "code",
      "metadata": {
        "id": "ahF5a6KrplWt"
      },
      "source": [
        "pd.set_option('display.max_colwidth', 200)"
      ],
      "id": "ahF5a6KrplWt",
      "execution_count": null,
      "outputs": []
    },
    {
      "cell_type": "code",
      "metadata": {
        "colab": {
          "base_uri": "https://localhost:8080/",
          "height": 497
        },
        "id": "6Ly9tMAgpmRF",
        "outputId": "816b23e7-8bd2-4010-b7f7-07a29c4aac01"
      },
      "source": [
        "pred_df_de_1.head(15)"
      ],
      "id": "6Ly9tMAgpmRF",
      "execution_count": null,
      "outputs": [
        {
          "output_type": "execute_result",
          "data": {
            "text/html": [
              "<div>\n",
              "<style scoped>\n",
              "    .dataframe tbody tr th:only-of-type {\n",
              "        vertical-align: middle;\n",
              "    }\n",
              "\n",
              "    .dataframe tbody tr th {\n",
              "        vertical-align: top;\n",
              "    }\n",
              "\n",
              "    .dataframe thead th {\n",
              "        text-align: right;\n",
              "    }\n",
              "</style>\n",
              "<table border=\"1\" class=\"dataframe\">\n",
              "  <thead>\n",
              "    <tr style=\"text-align: right;\">\n",
              "      <th></th>\n",
              "      <th>actual</th>\n",
              "      <th>predicted</th>\n",
              "    </tr>\n",
              "  </thead>\n",
              "  <tbody>\n",
              "    <tr>\n",
              "      <th>0</th>\n",
              "      <td>have tom do it</td>\n",
              "      <td>she you him it</td>\n",
              "    </tr>\n",
              "    <tr>\n",
              "      <th>1</th>\n",
              "      <td>call the fbi</td>\n",
              "      <td>hold the fun</td>\n",
              "    </tr>\n",
              "    <tr>\n",
              "      <th>2</th>\n",
              "      <td>tom agreed</td>\n",
              "      <td>tom will</td>\n",
              "    </tr>\n",
              "    <tr>\n",
              "      <th>3</th>\n",
              "      <td>there is hope</td>\n",
              "      <td>take it</td>\n",
              "    </tr>\n",
              "    <tr>\n",
              "      <th>4</th>\n",
              "      <td>now i remember</td>\n",
              "      <td>ill get it</td>\n",
              "    </tr>\n",
              "    <tr>\n",
              "      <th>5</th>\n",
              "      <td>turn it on</td>\n",
              "      <td>keep it on</td>\n",
              "    </tr>\n",
              "    <tr>\n",
              "      <th>6</th>\n",
              "      <td>stay at home</td>\n",
              "      <td>come back</td>\n",
              "    </tr>\n",
              "    <tr>\n",
              "      <th>7</th>\n",
              "      <td>help yourself</td>\n",
              "      <td>keep back</td>\n",
              "    </tr>\n",
              "    <tr>\n",
              "      <th>8</th>\n",
              "      <td>step aside</td>\n",
              "      <td>shall we</td>\n",
              "    </tr>\n",
              "    <tr>\n",
              "      <th>9</th>\n",
              "      <td>i play tennis</td>\n",
              "      <td>i am hard</td>\n",
              "    </tr>\n",
              "    <tr>\n",
              "      <th>10</th>\n",
              "      <td>tom is helping</td>\n",
              "      <td>tom is</td>\n",
              "    </tr>\n",
              "    <tr>\n",
              "      <th>11</th>\n",
              "      <td>thats the way</td>\n",
              "      <td>its is</td>\n",
              "    </tr>\n",
              "    <tr>\n",
              "      <th>12</th>\n",
              "      <td>tom came by</td>\n",
              "      <td>tom was</td>\n",
              "    </tr>\n",
              "    <tr>\n",
              "      <th>13</th>\n",
              "      <td>this is a dog</td>\n",
              "      <td>this is a dog</td>\n",
              "    </tr>\n",
              "    <tr>\n",
              "      <th>14</th>\n",
              "      <td>stop moving</td>\n",
              "      <td>come away</td>\n",
              "    </tr>\n",
              "  </tbody>\n",
              "</table>\n",
              "</div>"
            ],
            "text/plain": [
              "            actual        predicted\n",
              "0   have tom do it  she you him it \n",
              "1     call the fbi   hold the fun  \n",
              "2       tom agreed      tom will   \n",
              "3    there is hope       take it   \n",
              "4   now i remember     ill get it  \n",
              "5       turn it on     keep it on  \n",
              "6     stay at home     come back   \n",
              "7    help yourself     keep back   \n",
              "8       step aside      shall we   \n",
              "9    i play tennis      i am hard  \n",
              "10  tom is helping        tom is   \n",
              "11   thats the way        its is   \n",
              "12     tom came by       tom was   \n",
              "13   this is a dog   this is a dog \n",
              "14     stop moving     come away   "
            ]
          },
          "metadata": {
            "tags": []
          },
          "execution_count": 45
        }
      ]
    },
    {
      "cell_type": "markdown",
      "metadata": {
        "id": "k0hNK_D5zRGA"
      },
      "source": [
        "### German Baseline Model Metrics"
      ],
      "id": "k0hNK_D5zRGA"
    },
    {
      "cell_type": "code",
      "metadata": {
        "colab": {
          "base_uri": "https://localhost:8080/"
        },
        "id": "pPU9jur6pmKq",
        "outputId": "23481001-d012-4478-a212-f05c50d84b92"
      },
      "source": [
        "#Calculate German metrics: accuracy, precision, recall\n",
        "y_pred_de_1 = model_de_1.predict_classes(testGermanX, verbose=0)\n",
        "print(y_pred_de_1)\n",
        "y_pred_de_1 = argmax(y_pred_de_1, axis=1)\n",
        "print(y_pred_de_1)\n",
        "y_test_de_1 = argmax(testEnglishGermanY, axis=1)\n",
        "print(y_test_de_1)\n",
        "\n",
        "from sklearn import metrics\n",
        "print(\"Accuracy:\",metrics.accuracy_score(y_test_de_1, y_pred_de_1))\n",
        "print(\"Precision:\",metrics.precision_score(y_test_de_1, y_pred_de_1, average = \"macro\"))\n",
        "print(\"Recall:\",metrics.recall_score(y_test_de_1, y_pred_de_1, average = \"macro\"))"
      ],
      "id": "pPU9jur6pmKq",
      "execution_count": null,
      "outputs": [
        {
          "output_type": "stream",
          "text": [
            "/usr/local/lib/python3.7/dist-packages/tensorflow/python/keras/engine/sequential.py:450: UserWarning: `model.predict_classes()` is deprecated and will be removed after 2021-01-01. Please use instead:* `np.argmax(model.predict(x), axis=-1)`,   if your model does multi-class classification   (e.g. if it uses a `softmax` last-layer activation).* `(model.predict(x) > 0.5).astype(\"int32\")`,   if your model does binary classification   (e.g. if it uses a `sigmoid` last-layer activation).\n",
            "  warnings.warn('`model.predict_classes()` is deprecated and '\n"
          ],
          "name": "stderr"
        },
        {
          "output_type": "stream",
          "text": [
            "[[ 24   3   1   3   0]\n",
            " [162  26 131   0   0]\n",
            " [  1  78   0   0   0]\n",
            " ...\n",
            " [  9   3   0   0   0]\n",
            " [ 48  87   0   0   0]\n",
            " [ 73  31   0   0   0]]\n",
            "[0 0 1 ... 0 1 0]\n",
            "[0 2 1 ... 0 1 2]\n",
            "Accuracy: 0.45327336331834084\n",
            "Precision: 0.39781515539518103\n",
            "Recall: 0.3221171402169746\n"
          ],
          "name": "stdout"
        },
        {
          "output_type": "stream",
          "text": [
            "/usr/local/lib/python3.7/dist-packages/sklearn/metrics/_classification.py:1272: UndefinedMetricWarning: Recall is ill-defined and being set to 0.0 in labels with no true samples. Use `zero_division` parameter to control this behavior.\n",
            "  _warn_prf(average, modifier, msg_start, len(result))\n"
          ],
          "name": "stderr"
        }
      ]
    },
    {
      "cell_type": "code",
      "metadata": {
        "colab": {
          "base_uri": "https://localhost:8080/"
        },
        "id": "cBdHfvLwp1_A",
        "outputId": "354568d8-a2bb-45e4-acac-85062e3b8aec"
      },
      "source": [
        "#Training accuracy\n",
        "metricsModelDe1 = model_de_1.evaluate(trainGermanX, trainEnglishGermanY, batch_size=512, return_dict=True)\n",
        "print(metricsModelDe1)"
      ],
      "id": "cBdHfvLwp1_A",
      "execution_count": null,
      "outputs": [
        {
          "output_type": "stream",
          "text": [
            "16/16 [==============================] - 2s 22ms/step - loss: 1.7134 - accuracy: 0.6565\n",
            "{'loss': 1.7133784294128418, 'accuracy': 0.6564750075340271}\n"
          ],
          "name": "stdout"
        }
      ]
    },
    {
      "cell_type": "code",
      "metadata": {
        "colab": {
          "base_uri": "https://localhost:8080/"
        },
        "id": "Dbu05G_5p8QC",
        "outputId": "6c498a91-0759-4143-e97d-4a636fa0b78b"
      },
      "source": [
        "#Test accuracy\n",
        "_, accuracy = model_de_1.evaluate(testGermanX, testEnglishGermanY, batch_size=512)\n",
        "print('Test accuracy: %.2f' % (accuracy*100))"
      ],
      "id": "Dbu05G_5p8QC",
      "execution_count": null,
      "outputs": [
        {
          "output_type": "stream",
          "text": [
            "4/4 [==============================] - 0s 24ms/step - loss: 2.5957 - accuracy: 0.6090\n",
            "Test accuracy: 60.90\n"
          ],
          "name": "stdout"
        }
      ]
    },
    {
      "cell_type": "code",
      "metadata": {
        "colab": {
          "base_uri": "https://localhost:8080/"
        },
        "id": "V9c2nwYfS235",
        "outputId": "1701cfac-7968-44da-e7fd-db48e13c6351"
      },
      "source": [
        "# calculate bleu metric\n",
        "\n",
        "references_de_1 = pred_df_de_1.actual\n",
        "candidates_de_1 = pred_df_de_1.predicted\n",
        "score_de_1 = corpus_bleu(references_de_1, candidates_de_1, weights=(1,0,0,0))\n",
        "print(score_de_1)"
      ],
      "id": "V9c2nwYfS235",
      "execution_count": null,
      "outputs": [
        {
          "output_type": "stream",
          "text": [
            "0.44630060493252677\n"
          ],
          "name": "stdout"
        },
        {
          "output_type": "stream",
          "text": [
            "/usr/local/lib/python3.7/dist-packages/nltk/translate/bleu_score.py:490: UserWarning: \n",
            "Corpus/Sentence contains 0 counts of 2-gram overlaps.\n",
            "BLEU scores might be undesirable; use SmoothingFunction().\n",
            "  warnings.warn(_msg)\n"
          ],
          "name": "stderr"
        }
      ]
    },
    {
      "cell_type": "code",
      "metadata": {
        "colab": {
          "base_uri": "https://localhost:8080/"
        },
        "id": "3cjdMCQnW6na",
        "outputId": "da080b29-a6f2-4b83-b8dc-5bd657c2be3e"
      },
      "source": [
        "#average BLEU score\n",
        "from statistics import mean\n",
        "\n",
        "def evaluate_test_model1(references, hypothesis):\n",
        "  bleuScores = []\n",
        "  for i in range(len(references)):\n",
        "    bleuScore = bleu_score.sentence_bleu(references[i], hypothesis[i], weights=(0.5, 0.5))\n",
        "    bleuScores.append(bleuScore)\n",
        "    bleuScoreMean = mean(bleuScores)\n",
        "    return bleuScoreMean\n",
        "bleuScoreMeanDeu1 = evaluate_test_model1(references_de_1, candidates_de_1)\n"
      ],
      "id": "3cjdMCQnW6na",
      "execution_count": null,
      "outputs": [
        {
          "output_type": "stream",
          "text": [
            "/usr/local/lib/python3.7/dist-packages/nltk/translate/bleu_score.py:490: UserWarning: \n",
            "Corpus/Sentence contains 0 counts of 2-gram overlaps.\n",
            "BLEU scores might be undesirable; use SmoothingFunction().\n",
            "  warnings.warn(_msg)\n"
          ],
          "name": "stderr"
        }
      ]
    },
    {
      "cell_type": "code",
      "metadata": {
        "colab": {
          "base_uri": "https://localhost:8080/"
        },
        "id": "9quuM-JfXrsc",
        "outputId": "cde8e95a-9bff-4c5b-977c-eb7a3c2fae71"
      },
      "source": [
        "print(\"Average BLEU score on test data for German model 1: \", bleuScoreMeanDeu1)"
      ],
      "id": "9quuM-JfXrsc",
      "execution_count": null,
      "outputs": [
        {
          "output_type": "stream",
          "text": [
            "Average BLEU score on test data for German model 1:  0.6831300510639733\n"
          ],
          "name": "stdout"
        }
      ]
    },
    {
      "cell_type": "code",
      "metadata": {
        "colab": {
          "base_uri": "https://localhost:8080/"
        },
        "id": "m9c027dn_X5f",
        "outputId": "4fcf3945-26be-47bc-e9c5-c585a9a4bd18"
      },
      "source": [
        "#Get ROUGE scores.\n",
        "rouge = Rouge()\n",
        "scores_de_1 = rouge.get_scores(candidates_de_1, references_de_1, avg = True)\n",
        "print(scores_de_1)"
      ],
      "id": "m9c027dn_X5f",
      "execution_count": null,
      "outputs": [
        {
          "output_type": "stream",
          "text": [
            "{'rouge-1': {'f': 0.35465481198518084, 'p': 0.3957604531067807, 'r': 0.33029318673996383}, 'rouge-2': {'f': 0.09898384062035895, 'p': 0.12218890554722638, 'r': 0.08712310511410964}, 'rouge-l': {'f': 0.3544917982544024, 'p': 0.3958853906380151, 'r': 0.33000166583375035}}\n"
          ],
          "name": "stdout"
        }
      ]
    },
    {
      "cell_type": "markdown",
      "metadata": {
        "id": "7m3ymsICzNZD"
      },
      "source": [
        "## German Final Model"
      ],
      "id": "7m3ymsICzNZD"
    },
    {
      "cell_type": "code",
      "metadata": {
        "id": "_EZE9h9qTMZi"
      },
      "source": [
        "#Model 2: An attempt at an encoder-decoder model. uses average BLEU as metric.\n",
        "#Source: https://medium.com/analytics-vidhya/seq2seq-models-french-to-english-translation-using-encoder-decoder-model-with-attention-9c05b2c09af8\n",
        "import unicodedata\n",
        "import io\n",
        "from tqdm import tqdm\n",
        "from numpy.random import shuffle\n",
        "def unicode_to_ascii(s) :\n",
        "  \"\"\"\n",
        "  Unicode to ascii conversion\n",
        "  \"\"\"\n",
        "  return ''.join(c for c in unicodedata.normalize('NFD', s) if unicodedata.category(c) != 'Mn')\n",
        "def cleanString(incomingString):\n",
        "  \"\"\"\n",
        "  Function to clean unwanted symbol from text\n",
        "  \"\"\"\n",
        "  newstring = incomingString\n",
        "  newstring = newstring.replace(\"!\",\"\")\n",
        "  newstring = newstring.replace(\"@\",\"\")\n",
        "  newstring = newstring.replace(\"#\",\"\")\n",
        "  newstring = newstring.replace(\"$\",\"\")\n",
        "  newstring = newstring.replace(\"%\",\"\")\n",
        "  newstring = newstring.replace(\"^\",\"\")\n",
        "  newstring = newstring.replace(\"&\",\"and\")\n",
        "  newstring = newstring.replace(\"*\",\"\")\n",
        "  newstring = newstring.replace(\"(\",\"\")\n",
        "  newstring = newstring.replace(\")\",\"\")\n",
        "  newstring = newstring.replace(\"+\",\"\")\n",
        "  newstring = newstring.replace(\"=\",\"\")\n",
        "  newstring = newstring.replace(\"?\",\"\")\n",
        "  newstring = newstring.replace(\"\\'\",\"\")\n",
        "  newstring = newstring.replace(\"\\\"\",\"\")\n",
        "  newstring = newstring.replace(\"{\",\"\")\n",
        "  newstring = newstring.replace(\"}\",\"\")\n",
        "  newstring = newstring.replace(\"[\",\"\")\n",
        "  newstring = newstring.replace(\"]\",\"\")\n",
        "  newstring = newstring.replace(\"<\",\"\")\n",
        "  newstring = newstring.replace(\">\",\"\")\n",
        "  newstring = newstring.replace(\"~\",\"\")\n",
        "  newstring = newstring.replace(\"`\",\"\")\n",
        "  newstring = newstring.replace(\":\",\"\")\n",
        "  newstring = newstring.replace(\";\",\"\")\n",
        "  newstring = newstring.replace(\"|\",\"\")\n",
        "  newstring = newstring.replace(\"\\\\\",\"\")\n",
        "  newstring = newstring.replace(\"/\",\"\")     \n",
        "  return ' '.join(newstring.split())\n",
        "def preprocess_string(data) :\n",
        "  \"\"\"\n",
        "  This function calls other\n",
        "  preprocessing function for\n",
        "  cleaning data\n",
        "  \"\"\"\n",
        "  data = unicode_to_ascii(data)\n",
        "  \n",
        "  #Remove unwanted symbols\n",
        "  data = cleanString(data)\n",
        "  return data\n",
        "\n",
        "lines_de = io.open(german_path, encoding = 'UTF-8').read().split('\\n')\n",
        "\n"
      ],
      "id": "_EZE9h9qTMZi",
      "execution_count": null,
      "outputs": []
    },
    {
      "cell_type": "code",
      "metadata": {
        "colab": {
          "base_uri": "https://localhost:8080/"
        },
        "id": "i4CIeK4Yvxc4",
        "outputId": "56d909f5-9ccb-4d8a-ee39-bda213e03547"
      },
      "source": [
        "def get_data(raw_lines) :\n",
        "  lang_a = []\n",
        "  english = []\n",
        "  for itr in tqdm(range(len(raw_lines))) :\n",
        "    if len(raw_lines[itr].split()) > 2 :\n",
        "      eng, langa, _ = raw_lines[itr].split('\\t')\n",
        "      english.append('<start> ' + preprocess_string(eng) + ' <end>')\n",
        "      lang_a.append('<start> ' + preprocess_string(langa) + ' <end>')\n",
        "  return lang_a, english\n",
        "  \n",
        "#Get data\n",
        "german, english = get_data(lines_de)\n",
        "#get manageable sample\n",
        "german = german[:10000:]\n",
        "#get manageable sample\n",
        "english = english[:10000:]\n",
        "print(german[0:10])"
      ],
      "id": "i4CIeK4Yvxc4",
      "execution_count": null,
      "outputs": [
        {
          "output_type": "stream",
          "text": [
            "100%|██████████| 10002/10002 [00:00<00:00, 54661.69it/s]"
          ],
          "name": "stderr"
        },
        {
          "output_type": "stream",
          "text": [
            "['<start> Geh. <end>', '<start> Hallo <end>', '<start> Gruß Gott <end>', '<start> Lauf <end>', '<start> Lauf <end>', '<start> Potzdonner <end>', '<start> Donnerwetter <end>', '<start> Feuer <end>', '<start> Hilfe <end>', '<start> Zu Hulf <end>']\n"
          ],
          "name": "stdout"
        },
        {
          "output_type": "stream",
          "text": [
            "\n"
          ],
          "name": "stderr"
        }
      ]
    },
    {
      "cell_type": "code",
      "metadata": {
        "id": "0QAGUM_kv9sK"
      },
      "source": [
        "#Define the train-test split\n",
        "deu_tr, deu_te, eng_tr, eng_te = train_test_split(german, english, test_size = 0.2, random_state = 42)"
      ],
      "id": "0QAGUM_kv9sK",
      "execution_count": null,
      "outputs": []
    },
    {
      "cell_type": "code",
      "metadata": {
        "id": "jwKkGGK6wH7G"
      },
      "source": [
        "#Tokenizing, padding input language\n",
        "deu_token = Tokenizer(filters = '', lower=False)\n",
        "deu_token.fit_on_texts(deu_tr)\n",
        "deu_tokenized = deu_token.texts_to_sequences(deu_tr)\n",
        "deu_padded = pad_sequences(deu_tokenized, padding='post')"
      ],
      "id": "jwKkGGK6wH7G",
      "execution_count": null,
      "outputs": []
    },
    {
      "cell_type": "code",
      "metadata": {
        "id": "C0zFbak2wnKV"
      },
      "source": [
        "#tokenizing and padding target language\n",
        "eng_token = Tokenizer(filters = '', lower = False)\n",
        "eng_token.fit_on_texts(eng_tr)\n",
        "eng_tokenized = eng_token.texts_to_sequences(eng_tr)\n",
        "eng_padded = pad_sequences(eng_tokenized, padding='post')"
      ],
      "id": "C0zFbak2wnKV",
      "execution_count": null,
      "outputs": []
    },
    {
      "cell_type": "code",
      "metadata": {
        "id": "7L-GdaoWw9uo"
      },
      "source": [
        "#find the vocabulary size and maximum sentence length\n",
        "num_ip_tokens = len(deu_token.word_index) #German\n",
        "num_op_tokens = len(eng_token.word_index) #English\n",
        "max_len_ip = deu_padded.shape[1] #German\n",
        "max_len_op = eng_padded.shape[1] #English\n"
      ],
      "id": "7L-GdaoWw9uo",
      "execution_count": null,
      "outputs": []
    },
    {
      "cell_type": "code",
      "metadata": {
        "id": "klZ9T5QsxN_F"
      },
      "source": [
        "#Define constants and create a tf.data dataset of language data.\n",
        "import tensorflow as tf\n",
        "\n",
        "BUFFER_SIZE = len(deu_padded)\n",
        "BATCH_SIZE = 64\n",
        "N_BATCH = BUFFER_SIZE // BATCH_SIZE\n",
        "embedding_dim = 256\n",
        "units = 512\n",
        "\n",
        "dataset_de = tf.data.Dataset.from_tensor_slices((deu_padded, eng_padded)).shuffle(BUFFER_SIZE)\n",
        "dataset_de = dataset_de.batch(BATCH_SIZE, drop_remainder=True)"
      ],
      "id": "klZ9T5QsxN_F",
      "execution_count": null,
      "outputs": []
    },
    {
      "cell_type": "code",
      "metadata": {
        "id": "LTAEi3Wm3zgE",
        "colab": {
          "base_uri": "https://localhost:8080/"
        },
        "outputId": "0dd8bf40-74cb-407e-a26a-4ef0b6ad9024"
      },
      "source": [
        "\n",
        "#This function will return CuDNNGRU if GPU is available for faster execution\n",
        "def gru(units):\n",
        "    # If you have a GPU, i recommend using CuDNNGRU(provides a 3x speedup than GRU)\n",
        "    # the code automatically does that.\n",
        "    if tf.test.is_gpu_available():\n",
        "        return tf.compat.v1.keras.layers.CuDNNGRU(units, \n",
        "                                    return_sequences=True, \n",
        "                                    return_state=True, \n",
        "                                    recurrent_initializer='glorot_uniform')\n",
        "    else:\n",
        "        return tf.keras.layers.GRU(units,\n",
        "                                  return_sequences=True,\n",
        "                                  return_state=True,\n",
        "                                  recurrent_initializer='glorot_uniform',\n",
        "                                  recurrent_activation='sigmoid')\n",
        "     \n",
        "#Encoder architecture :\n",
        "class Encoder(tf.keras.Model):\n",
        "    def __init__(self, vocab_size, embedding_dim, enc_units, batch_sz):\n",
        "        super(Encoder, self).__init__()\n",
        "        self.batch_sz = batch_sz\n",
        "        self.enc_units = enc_units\n",
        "        self.embedding = tf.keras.layers.Embedding(vocab_size, embedding_dim)\n",
        "        self.gru = gru(self.enc_units)\n",
        "    def call(self, x, hidden):\n",
        "        x = self.embedding(x)\n",
        "        output, state = self.gru(x, initial_state = hidden)\n",
        "        return output, state\n",
        "    def initial_hidden_state(self):\n",
        "        #Generating encoder initial states as all zeros\n",
        "        return tf.zeros((self.batch_sz, self.enc_units))\n",
        "   \n",
        "#Decoder with attention\n",
        "class Decoder(tf.keras.Model):\n",
        "    def __init__(self, vocab_size, embedding_dim, dec_units, batch_sz):\n",
        "        super(Decoder, self).__init__()\n",
        "        self.batch_sz = batch_sz\n",
        "        self.dec_units = dec_units\n",
        "        self.embedding = tf.keras.layers.Embedding(vocab_size, embedding_dim)\n",
        "        self.gru = gru(self.dec_units)\n",
        "        self.fc = tf.keras.layers.Dense(vocab_size)\n",
        "        \n",
        "        # used for attention\n",
        "        self.W1 = tf.keras.layers.Dense(self.dec_units)\n",
        "        self.W2 = tf.keras.layers.Dense(self.dec_units)\n",
        "        self.V = tf.keras.layers.Dense(1)\n",
        "    \n",
        "    def call(self, x, hidden, enc_output):\n",
        "        # enc_output shape == (batch_size, max_length, hidden_size)\n",
        "        # hidden shape == (batch_size, hidden size)\n",
        "        # hidden_with_time_axis shape == (batch_size, 1, hidden size)\n",
        "        # we are doing this to perform addition to calculate the score\n",
        "        hidden_with_time_axis = tf.expand_dims(hidden, 1)\n",
        "        # score shape == (batch_size, max_length, 1)\n",
        "        # we get 1 at the last axis because we are applying tanh(FC(EO) + FC(H)) to self.V\n",
        "        #Getting scores\n",
        "        score = self.V(tf.nn.tanh(self.W1(enc_output)+self.W2(hidden_with_time_axis)))\n",
        "        # attention_weights shape == (batch_size, max_length, 1)\n",
        "        #Attention weights from softmax\n",
        "        attention_weights = tf.nn.softmax(score, axis=1)\n",
        "        # context_vector shape after sum == (batch_size, hidden_size)\n",
        "        #getting context vector\n",
        "        context_vector = attention_weights*enc_output\n",
        "        context_vector = tf.reduce_sum(context_vector, axis=1)\n",
        "        # x shape after passing through embedding == (batch_size, 1, embedding_dim)\n",
        "        x = self.embedding(x)\n",
        "        # x shape after concatenation == (batch_size, 1, embedding_dim + hidden_size)\n",
        "        #Concatenating previous op with cv\n",
        "        x = tf.concat([tf.expand_dims(context_vector, 1), x], axis=-1)\n",
        "        # passing the concatenated vector to the GRU\n",
        "        output, state = self.gru(x)\n",
        "        # output shape == (batch_size * 1, hidden_size)\n",
        "        output = tf.reshape(output, (-1, output.shape[2]))\n",
        "        # output shape == (batch_size * 1, vocab)\n",
        "        x = self.fc(output)\n",
        "        return x, state, attention_weights\n",
        "    \n",
        "    def initialize_hidden_state(self):\n",
        "        return tf.zeros(self.batch_sz, self.dec_units)\n",
        "#Define an encoder and decoder.  \n",
        "encoder = Encoder(num_ip_tokens + 1, embedding_dim, units, BATCH_SIZE)\n",
        "decoder = Decoder(num_op_tokens + 1, embedding_dim, units, BATCH_SIZE)"
      ],
      "id": "LTAEi3Wm3zgE",
      "execution_count": null,
      "outputs": [
        {
          "output_type": "stream",
          "text": [
            "WARNING:tensorflow:From <ipython-input-62-97fd0bcc5858>:6: is_gpu_available (from tensorflow.python.framework.test_util) is deprecated and will be removed in a future version.\n",
            "Instructions for updating:\n",
            "Use `tf.config.list_physical_devices('GPU')` instead.\n"
          ],
          "name": "stdout"
        },
        {
          "output_type": "stream",
          "text": [
            "WARNING:tensorflow:From <ipython-input-62-97fd0bcc5858>:6: is_gpu_available (from tensorflow.python.framework.test_util) is deprecated and will be removed in a future version.\n",
            "Instructions for updating:\n",
            "Use `tf.config.list_physical_devices('GPU')` instead.\n"
          ],
          "name": "stderr"
        }
      ]
    },
    {
      "cell_type": "code",
      "metadata": {
        "id": "wG4YtaJH7Prh"
      },
      "source": [
        "#Define an optimizer.\n",
        "optimizer_de = tf.keras.optimizers.Adam()\n",
        "#Define a loss function.\n",
        "def loss_function_de(real, pred):\n",
        "  mask = 1 - np.equal(real, 0)\n",
        "  loss_ = tf.nn.sparse_softmax_cross_entropy_with_logits(labels = real, logits = pred)*mask\n",
        "  return tf.reduce_mean(loss_)\n",
        "#Define the checkpoint used to save\n",
        "import os\n",
        "from tensorflow.train import Checkpoint\n",
        "checkpoint_dir_de = '/content/drive/MyDrive/GermanToEnglish/CheckPoint'\n",
        "checkpoint_prefix_de = os.path.join(checkpoint_dir_de, 'ckpt')\n",
        "checkpoint_de = Checkpoint(optimizer=optimizer_de, encoder=encoder, decoder=decoder)"
      ],
      "id": "wG4YtaJH7Prh",
      "execution_count": null,
      "outputs": []
    },
    {
      "cell_type": "code",
      "metadata": {
        "colab": {
          "base_uri": "https://localhost:8080/"
        },
        "id": "BjHSjAP58GU2",
        "outputId": "fcd75f0c-96ae-4b41-ffff-f7b4216274d4"
      },
      "source": [
        "#train model\n",
        "import numpy as np\n",
        "import time\n",
        "EPOCH = 20\n",
        "for epoch in range(EPOCH) :\n",
        "  start = time.time()\n",
        "  #Getting initial encoder states (all zeros)\n",
        "  hidden = encoder.initial_hidden_state()\n",
        "  total_loss = 0\n",
        "  for (batch, (inp, targ)) in enumerate(dataset_de) :\n",
        "    loss = 0\n",
        "    with tf.GradientTape() as tape :\n",
        "      enc_output , enc_hidden = encoder(inp, hidden)\n",
        "      #Setting final encoder states as initial decoder states\n",
        "      dec_hidden = enc_hidden\n",
        "      # Teacher forcing - feeding the target as the next input\n",
        "      #Passing '<start>' token as initial token\n",
        "      dec_input = tf.expand_dims([eng_token.word_index['<start>']]*BATCH_SIZE, 1)\n",
        "      for t in range(1, targ.shape[1]) :\n",
        "        # passing enc_output to the decoder\n",
        "        predictions, dec_hidden, _ = decoder(dec_input, dec_hidden, enc_output)\n",
        "        loss += loss_function_de(targ[:,t], predictions)\n",
        "        # using teacher forcing\n",
        "        dec_input = tf.expand_dims(targ[:,t], 1)\n",
        "    batch_loss = (loss / int(targ.shape[1]))\n",
        "    total_loss += batch_loss        \n",
        "    variables = encoder.variables + decoder.variables\n",
        "    gradients = tape.gradient(loss, variables)\n",
        "    optimizer_de.apply_gradients(zip(gradients, variables))\n",
        "    if batch % 1000 == 0 :\n",
        "      print('Epoch {} Batch {} Loss {:.4f}'.format(epoch + 1, batch, batch_loss.numpy()))\n",
        "    # saving (checkpoint)  the model every 2 epochs\n",
        "  if (epoch + 1)%2 == 0 :\n",
        "    checkpoint_de.save(file_prefix=checkpoint_prefix_de)\n",
        "  print('Epoch {} Loss {:.4f}'.format(epoch + 1, total_loss / N_BATCH))\n",
        "  print('Time taken for 1 epoch {0:0.2f} minutes\\n'.format((time.time() - start)/60))"
      ],
      "id": "BjHSjAP58GU2",
      "execution_count": null,
      "outputs": [
        {
          "output_type": "stream",
          "text": [
            "Epoch 1 Batch 0 Loss 4.3762\n",
            "Epoch 1 Loss 2.7106\n",
            "Time taken for 1 epoch 0.29 minutes\n",
            "\n",
            "Epoch 2 Batch 0 Loss 2.2278\n",
            "Epoch 2 Loss 2.0775\n",
            "Time taken for 1 epoch 0.29 minutes\n",
            "\n",
            "Epoch 3 Batch 0 Loss 1.9113\n",
            "Epoch 3 Loss 1.8471\n",
            "Time taken for 1 epoch 0.30 minutes\n",
            "\n",
            "Epoch 4 Batch 0 Loss 1.7374\n",
            "Epoch 4 Loss 1.6650\n",
            "Time taken for 1 epoch 0.29 minutes\n",
            "\n",
            "Epoch 5 Batch 0 Loss 1.4324\n",
            "Epoch 5 Loss 1.4585\n",
            "Time taken for 1 epoch 0.29 minutes\n",
            "\n",
            "Epoch 6 Batch 0 Loss 1.2917\n",
            "Epoch 6 Loss 1.2643\n",
            "Time taken for 1 epoch 0.29 minutes\n",
            "\n",
            "Epoch 7 Batch 0 Loss 0.9395\n",
            "Epoch 7 Loss 1.0811\n",
            "Time taken for 1 epoch 0.29 minutes\n",
            "\n",
            "Epoch 8 Batch 0 Loss 0.9172\n",
            "Epoch 8 Loss 0.9207\n",
            "Time taken for 1 epoch 0.29 minutes\n",
            "\n",
            "Epoch 9 Batch 0 Loss 0.7819\n",
            "Epoch 9 Loss 0.7696\n",
            "Time taken for 1 epoch 0.29 minutes\n",
            "\n",
            "Epoch 10 Batch 0 Loss 0.5594\n",
            "Epoch 10 Loss 0.6444\n",
            "Time taken for 1 epoch 0.29 minutes\n",
            "\n",
            "Epoch 11 Batch 0 Loss 0.5172\n",
            "Epoch 11 Loss 0.5329\n",
            "Time taken for 1 epoch 0.29 minutes\n",
            "\n",
            "Epoch 12 Batch 0 Loss 0.3554\n",
            "Epoch 12 Loss 0.4315\n",
            "Time taken for 1 epoch 0.29 minutes\n",
            "\n",
            "Epoch 13 Batch 0 Loss 0.3268\n",
            "Epoch 13 Loss 0.3502\n",
            "Time taken for 1 epoch 0.29 minutes\n",
            "\n",
            "Epoch 14 Batch 0 Loss 0.2873\n",
            "Epoch 14 Loss 0.2839\n",
            "Time taken for 1 epoch 0.29 minutes\n",
            "\n",
            "Epoch 15 Batch 0 Loss 0.2018\n",
            "Epoch 15 Loss 0.2301\n",
            "Time taken for 1 epoch 0.29 minutes\n",
            "\n",
            "Epoch 16 Batch 0 Loss 0.1891\n",
            "Epoch 16 Loss 0.1881\n",
            "Time taken for 1 epoch 0.29 minutes\n",
            "\n",
            "Epoch 17 Batch 0 Loss 0.1572\n",
            "Epoch 17 Loss 0.1574\n",
            "Time taken for 1 epoch 0.29 minutes\n",
            "\n",
            "Epoch 18 Batch 0 Loss 0.1264\n",
            "Epoch 18 Loss 0.1311\n",
            "Time taken for 1 epoch 0.29 minutes\n",
            "\n",
            "Epoch 19 Batch 0 Loss 0.0846\n",
            "Epoch 19 Loss 0.1129\n",
            "Time taken for 1 epoch 0.29 minutes\n",
            "\n",
            "Epoch 20 Batch 0 Loss 0.0902\n",
            "Epoch 20 Loss 0.1003\n",
            "Time taken for 1 epoch 0.29 minutes\n",
            "\n"
          ],
          "name": "stdout"
        }
      ]
    },
    {
      "cell_type": "markdown",
      "metadata": {
        "id": "frFBrSFOzZKi"
      },
      "source": [
        "### German Final Model Metrics"
      ],
      "id": "frFBrSFOzZKi"
    },
    {
      "cell_type": "code",
      "metadata": {
        "id": "MbmmNBCzTP5m"
      },
      "source": [
        "#Evaluate model\n",
        "def evaluate(sentence, encoder, decoder, inp_lang, targ_lang, max_length_inp, max_length_targ):\n",
        "    #attention_plot = np.zeros((max_length_targ, max_length_inp))\n",
        "    \n",
        "    sentence = preprocess_string(sentence)\n",
        "    inputs = []\n",
        "    for w in sentence.split(' ') :\n",
        "      if w in inp_lang.word_index.keys() :\n",
        "        inputs.append(inp_lang.word_index[w])\n",
        "    \n",
        "    #inputs = [inp_lang.word_index[i] for i in sentence.split(' ')]\n",
        "    inputs = tf.keras.preprocessing.sequence.pad_sequences([inputs], maxlen=max_length_inp, padding='post')\n",
        "    inputs = tf.convert_to_tensor(inputs)\n",
        "    \n",
        "    result = ''\n",
        "    \n",
        "    hidden = [tf.zeros((1,units))]\n",
        "    enc_out, enc_hidden = encoder(inputs, hidden)\n",
        "\n",
        "    dec_hidden = enc_hidden\n",
        "    dec_input = tf.expand_dims([targ_lang.word_index['<start>']], 0)\n",
        "    \n",
        "    for t in range(max_length_targ):\n",
        "        predictions, dec_hidden, attention_weights = decoder(dec_input, dec_hidden, enc_out)\n",
        "        \n",
        "        # storing the attention weigths to plot later on\n",
        "        #attention_weights = tf.reshape(attention_weights, (-1, ))\n",
        "        #attention_plot[t] = attention_weights.numpy()\n",
        "\n",
        "        predicted_id = tf.argmax(predictions[0]).numpy()\n",
        "\n",
        "        result += targ_lang.index_word[predicted_id] + ' '\n",
        "\n",
        "        if targ_lang.index_word[predicted_id] == '<end>':\n",
        "            return result, sentence\n",
        "        \n",
        "        # the predicted ID is fed back into the model\n",
        "        dec_input = tf.expand_dims([predicted_id], 0)\n",
        "\n",
        "    return result, sentence\n",
        "  \n",
        "\n",
        "\n",
        "    \n",
        "def translate(sentence, eng_sen, encoder, decoder, inp_lang, targ_lang, max_length_inp, max_length_targ):\n",
        "    result, sentence = evaluate(sentence, encoder, decoder, inp_lang, targ_lang, max_length_inp, max_length_targ)\n",
        "    #print('Input: {}'.format(sentence))\n",
        "    #print('Actual translation: {}'.format(eng_sen))\n",
        "    #print('Predicted translation: {}'.format(result[:-7]))\n",
        "    bleu = bleu_score.sentence_bleu(eng_sen, result[:-7], weights=(0.5, 0.5))\n",
        "    #print(\"BLEU Score : {0:0.2f}\".format(bleu_score.sentence_bleu(eng_sen, result[:-7], weights=(0.5, 0.5))))\n",
        "    return bleu, result[:-7]\n",
        "    #attention_plot = attention_plot[:len(result.split(' ')), :len(sentence.split(' '))]\n",
        "    #plot_attention(attention_plot, sentence.split(' '), result.split(' '))\n",
        "    #plt.show()"
      ],
      "id": "MbmmNBCzTP5m",
      "execution_count": null,
      "outputs": []
    },
    {
      "cell_type": "code",
      "metadata": {
        "id": "Z1tt_lrYTmV4"
      },
      "source": [
        "#define function for average BLEU score\n",
        "from statistics import mean\n",
        "def evaluate_test_model2(testDataX, testDataY, encoder, decoder, inp_lang, targ_lang, max_length_inp, max_length_targ):\n",
        "  bleuScores = []\n",
        "  references = []\n",
        "  hypotheses = []\n",
        "  for i in range(len(testDataX)):\n",
        "    bleuScore, hypothesis = translate(testDataX[i], testDataY[i], encoder, decoder, inp_lang, targ_lang, max_length_inp, max_length_targ)\n",
        "    bleuScores.append(bleuScore)\n",
        "    references.append(testDataY[i])\n",
        "    hypotheses.append(hypothesis)\n",
        "  bleuScoreMean = mean(bleuScores)\n",
        "  return bleuScoreMean, references, hypotheses\n"
      ],
      "id": "Z1tt_lrYTmV4",
      "execution_count": null,
      "outputs": []
    },
    {
      "cell_type": "code",
      "metadata": {
        "colab": {
          "base_uri": "https://localhost:8080/"
        },
        "id": "tG2GQOUnVTdX",
        "outputId": "a79a0a1e-7f40-4807-87bf-122093dea7d3"
      },
      "source": [
        "#get average BLEU score\n",
        "bleuScoreMeanDeu, referencesDe2, hypothesesDe2 = evaluate_test_model2(deu_te, eng_te, encoder, decoder, deu_token, eng_token, max_len_ip, max_len_op)"
      ],
      "id": "tG2GQOUnVTdX",
      "execution_count": null,
      "outputs": [
        {
          "output_type": "stream",
          "text": [
            "/usr/local/lib/python3.7/dist-packages/nltk/translate/bleu_score.py:490: UserWarning: \n",
            "Corpus/Sentence contains 0 counts of 2-gram overlaps.\n",
            "BLEU scores might be undesirable; use SmoothingFunction().\n",
            "  warnings.warn(_msg)\n"
          ],
          "name": "stderr"
        }
      ]
    },
    {
      "cell_type": "code",
      "metadata": {
        "colab": {
          "base_uri": "https://localhost:8080/"
        },
        "id": "xCBNCW7SWgXZ",
        "outputId": "3300b399-b446-4085-b859-2638928aaac4"
      },
      "source": [
        "print(\"Average BLEU score on test data for German model 2: \", bleuScoreMeanDeu)"
      ],
      "id": "xCBNCW7SWgXZ",
      "execution_count": null,
      "outputs": [
        {
          "output_type": "stream",
          "text": [
            "Average BLEU score on test data for German model 2:  0.7550879965398356\n"
          ],
          "name": "stdout"
        }
      ]
    },
    {
      "cell_type": "code",
      "metadata": {
        "id": "4yEpsFiTWEjt"
      },
      "source": [
        "# Filter out hyps of 0 length\n",
        "hyps_and_refs = zip(hypothesesDe2, referencesDe2)\n",
        "hyps_and_refs = [ _ for _ in hyps_and_refs if len(_[0]) > 0]\n",
        "hypothesesDe2, referencesDe2 = zip(*hyps_and_refs)"
      ],
      "id": "4yEpsFiTWEjt",
      "execution_count": null,
      "outputs": []
    },
    {
      "cell_type": "code",
      "metadata": {
        "colab": {
          "base_uri": "https://localhost:8080/"
        },
        "id": "HjsTIcqoEHVR",
        "outputId": "605f932e-52fa-43fa-8ad4-56b1b4344a36"
      },
      "source": [
        "#Get ROUGE scores.\n",
        "rouge = Rouge()\n",
        "scores_de_2 = rouge.get_scores(hypothesesDe2, referencesDe2, avg = True)\n",
        "print(scores_de_2)"
      ],
      "id": "HjsTIcqoEHVR",
      "execution_count": null,
      "outputs": [
        {
          "output_type": "stream",
          "text": [
            "{'rouge-1': {'f': 0.19083947508532176, 'p': 0.2614599028963666, 'r': 0.15273731793068698}, 'rouge-2': {'f': 0.06431561001273459, 'p': 0.0976896032144651, 'r': 0.04869412355600201}, 'rouge-l': {'f': 0.19218122727618842, 'p': 0.26844969027289456, 'r': 0.1524694458396105}}\n"
          ],
          "name": "stdout"
        }
      ]
    },
    {
      "cell_type": "markdown",
      "metadata": {
        "id": "7LeN41YDDfaI"
      },
      "source": [
        "# Italian Models"
      ],
      "id": "7LeN41YDDfaI"
    },
    {
      "cell_type": "markdown",
      "metadata": {
        "id": "xCdnMCsWzb0h"
      },
      "source": [
        "## Italian Preprocessing"
      ],
      "id": "xCdnMCsWzb0h"
    },
    {
      "cell_type": "code",
      "metadata": {
        "id": "ZH0jNon40AYw"
      },
      "source": [
        "#Make sure this file is uploaded to your Google Drive in the same \n",
        "#folder as this notebook.\n",
        "italian_path = '/content/gdrive/MyDrive/ita_short.txt'"
      ],
      "id": "ZH0jNon40AYw",
      "execution_count": null,
      "outputs": []
    },
    {
      "cell_type": "code",
      "metadata": {
        "id": "8x13R7lW0KYb"
      },
      "source": [
        "#load Italian data\n",
        "data = read_text(italian_path)\n",
        "ita_eng = to_lines(data)\n",
        "ita_eng = array(ita_eng)"
      ],
      "id": "8x13R7lW0KYb",
      "execution_count": null,
      "outputs": []
    },
    {
      "cell_type": "code",
      "metadata": {
        "id": "Bx3S0O3P0cby"
      },
      "source": [
        "#Remove punctuation\n",
        "ita_eng[:,0] = [s.translate(str.maketrans('','', string.punctuation)) for s in ita_eng[:,0]]\n",
        "ita_eng[:,1] = [s.translate(str.maketrans('','', string.punctuation)) for s in ita_eng[:,1]]"
      ],
      "id": "Bx3S0O3P0cby",
      "execution_count": null,
      "outputs": []
    },
    {
      "cell_type": "code",
      "metadata": {
        "id": "62c_CEux0hL2"
      },
      "source": [
        "#Convert to lowercase.\n",
        "for i in range(len(ita_eng)):\n",
        "    ita_eng[i,0]=ita_eng[i,0].lower()\n",
        "    ita_eng[i,1]=ita_eng[i,1].lower()"
      ],
      "id": "62c_CEux0hL2",
      "execution_count": null,
      "outputs": []
    },
    {
      "cell_type": "code",
      "metadata": {
        "colab": {
          "base_uri": "https://localhost:8080/"
        },
        "id": "cuYhYfLHdDe9",
        "outputId": "489f00d4-b175-45e0-eae4-d00be5940a0a"
      },
      "source": [
        "#Analyze vocabulary of Italian dataset.\n",
        "italian_words_counter = collections.Counter([word for sentence in ita_eng[:,1] for word in sentence.split()])\n",
        "english_words_counter_ita = collections.Counter([word for sentence in ita_eng[:,0] for word in sentence.split()])\n",
        "print('{} English words/tokens in English-Italian corpus, sample'.format(len([word for sentence in ita_eng[:,0]\n",
        "                                                                     for word in sentence.split()])))\n",
        "print('{} unique English words/tokens in English-Italian corpus, sample'.format(len(english_words_counter_ita)))\n",
        "print('10 most common English word in the English-Italian sample corpus, stop words included:')\n",
        "print('\"\"'+'\" \"'.join(list(zip(*english_words_counter_ita.most_common(10)))[0])+'\"')\n",
        "print('{} Italian words/tokens in English-Italian sample corpus'.format(len([word for sentence in ita_eng[:,1] \n",
        "                                                                   for word in sentence.split()])))\n",
        "print('{} unique Italian words/tokens in English-Italian sample corpus'.format(len(italian_words_counter)))\n",
        "print('10 most common Italian words in the English-Italian sample corpus, stop words included:')\n",
        "print('\"'+'\" \"'.join(list(zip(*italian_words_counter.most_common(10)))[0])+'\"')"
      ],
      "id": "cuYhYfLHdDe9",
      "execution_count": null,
      "outputs": [
        {
          "output_type": "stream",
          "text": [
            "24739 English words/tokens in English-Italian corpus, sample\n",
            "1415 unique English words/tokens in English-Italian corpus, sample\n",
            "10 most common English word in the English-Italian sample corpus, stop words included:\n",
            "\"\"i\" \"im\" \"tom\" \"it\" \"you\" \"is\" \"a\" \"me\" \"was\" \"we\"\n",
            "26026 Italian words/tokens in English-Italian sample corpus\n",
            "3665 unique Italian words/tokens in English-Italian sample corpus\n",
            "10 most common Italian words in the English-Italian sample corpus, stop words included:\n",
            "\"sono\" \"io\" \"è\" \"tom\" \"mi\" \"a\" \"ho\" \"non\" \"la\" \"di\"\n"
          ],
          "name": "stdout"
        }
      ]
    },
    {
      "cell_type": "code",
      "metadata": {
        "id": "nfF2rr94dDn4"
      },
      "source": [
        "#create empty lists\n",
        "eng_l_ita_sample = []\n",
        "ita_l_sample = []\n",
        "#populate lists w/ sentence lengths\n",
        "for i in ita_eng[:,0]:\n",
        "    eng_l_ita_sample.append(len(i.split()))\n",
        "for i in ita_eng[:,1]:\n",
        "    ita_l_sample.append(len(i.split()))"
      ],
      "id": "nfF2rr94dDn4",
      "execution_count": null,
      "outputs": []
    },
    {
      "cell_type": "code",
      "metadata": {
        "colab": {
          "base_uri": "https://localhost:8080/"
        },
        "id": "17WOZZ5RdDtf",
        "outputId": "f5a272f5-3647-4c69-f909-fa57a47c8178"
      },
      "source": [
        "#Display descriptive statistics for English and French sentence lengths\n",
        "df_eng_ita_l_sample = pd.DataFrame(eng_l_ita_sample)\n",
        "print(df_eng_ita_l_sample.describe())\n",
        "print(\"Average English sentence length in English-Italian sample corpus: \",statistics.mean(df_eng_ita_l_sample.iloc[:,0]))\n",
        "\n",
        "df_ita_l_sample = pd.DataFrame(ita_l_sample)\n",
        "print(df_ita_l_sample.describe())\n",
        "print(\"Average Italian sentence length in English-Italian sample corpus: \", statistics.mean(df_ita_l_sample.iloc[:,0]))"
      ],
      "id": "17WOZZ5RdDtf",
      "execution_count": null,
      "outputs": [
        {
          "output_type": "stream",
          "text": [
            "                  0\n",
            "count  10001.000000\n",
            "mean       2.473653\n",
            "std        0.559223\n",
            "min        1.000000\n",
            "25%        2.000000\n",
            "50%        2.000000\n",
            "75%        3.000000\n",
            "max        4.000000\n",
            "Average English sentence length in English-Italian sample corpus:  2.4736526347365264\n",
            "                  0\n",
            "count  10001.000000\n",
            "mean       2.602340\n",
            "std        0.918668\n",
            "min        1.000000\n",
            "25%        2.000000\n",
            "50%        3.000000\n",
            "75%        3.000000\n",
            "max        7.000000\n",
            "Average Italian sentence length in English-Italian sample corpus:  2.602339766023398\n"
          ],
          "name": "stdout"
        }
      ]
    },
    {
      "cell_type": "code",
      "metadata": {
        "id": "rh2cLomAdDz3"
      },
      "source": [
        "#create length dataframe\n",
        "length_df_ita_sample = pd.DataFrame({'eng':eng_l_ita_sample, 'ital':ita_l_sample})"
      ],
      "id": "rh2cLomAdDz3",
      "execution_count": null,
      "outputs": []
    },
    {
      "cell_type": "code",
      "metadata": {
        "colab": {
          "base_uri": "https://localhost:8080/",
          "height": 281
        },
        "id": "cf3hdmRudD4w",
        "outputId": "5a81cfb2-5dff-411d-c5ea-060b40f98e26"
      },
      "source": [
        "#examine distribution of lengths\n",
        "length_df_ita_sample.hist(bins=30)\n",
        "plt.show()"
      ],
      "id": "cf3hdmRudD4w",
      "execution_count": null,
      "outputs": [
        {
          "output_type": "display_data",
          "data": {
            "image/png": "[encoded data removed]",
            "text/plain": [
              "<Figure size 432x288 with 2 Axes>"
            ]
          },
          "metadata": {
            "tags": [],
            "needs_background": "light"
          }
        }
      ]
    },
    {
      "cell_type": "code",
      "metadata": {
        "colab": {
          "base_uri": "https://localhost:8080/"
        },
        "id": "IPlQm2X70hQt",
        "outputId": "edce56d0-e7b6-40bc-b16e-ddd599d31596"
      },
      "source": [
        "#prep english tokenizer for italian translation\n",
        "eng_it_tokenizer = tokenization(ita_eng[:,0])\n",
        "#get english vocab size for italian translation\n",
        "eng_it_vocab_size = len(eng_it_tokenizer.word_index)+1\n",
        "eng_it_length = max_length(ita_eng[:,0])\n",
        "print(\"English vocabulary size: %d\" % eng_it_vocab_size)"
      ],
      "id": "IPlQm2X70hQt",
      "execution_count": null,
      "outputs": [
        {
          "output_type": "stream",
          "text": [
            "English vocabulary size: 1416\n"
          ],
          "name": "stdout"
        }
      ]
    },
    {
      "cell_type": "code",
      "metadata": {
        "colab": {
          "base_uri": "https://localhost:8080/"
        },
        "id": "G7xMsD1r0hTg",
        "outputId": "9217b014-a897-477a-d151-f354b8504b5b"
      },
      "source": [
        "#prepare italian tokenizer\n",
        "ita_tokenizer = tokenization(ita_eng[:, 1])\n",
        "ita_vocab_size = len(ita_tokenizer.word_index) + 1\n",
        "\n",
        "ita_length = max_length(ita_eng[:,1])\n",
        "print('Italian Vocabulary Size: %d' % ita_vocab_size)"
      ],
      "id": "G7xMsD1r0hTg",
      "execution_count": null,
      "outputs": [
        {
          "output_type": "stream",
          "text": [
            "Italian Vocabulary Size: 3666\n"
          ],
          "name": "stdout"
        }
      ]
    },
    {
      "cell_type": "markdown",
      "metadata": {
        "id": "WxAYq1h11iP8"
      },
      "source": [
        "## Italian Baseline Model"
      ],
      "id": "WxAYq1h11iP8"
    },
    {
      "cell_type": "code",
      "metadata": {
        "id": "a2fuAgXj1YC9"
      },
      "source": [
        "#Get training, test data\n",
        "trainIta, testIta = train_test_split(ita_eng, test_size=0.2, random_state=12)"
      ],
      "id": "a2fuAgXj1YC9",
      "execution_count": null,
      "outputs": []
    },
    {
      "cell_type": "code",
      "metadata": {
        "id": "umxQHgE01gm0"
      },
      "source": [
        "#prepare training data\n",
        "trainItalianX = encode_sequences(ita_tokenizer, ita_length, trainIta[:,1])\n",
        "trainEnglishItalianY = encode_sequences(eng_it_tokenizer, eng_it_length, trainIta[:,0])"
      ],
      "id": "umxQHgE01gm0",
      "execution_count": null,
      "outputs": []
    },
    {
      "cell_type": "code",
      "metadata": {
        "id": "fbAE8GHV1gsl"
      },
      "source": [
        "#prepare test data\n",
        "testItalianX = encode_sequences(ita_tokenizer, ita_length, testIta[:,1])\n",
        "testEnglishItalianY=encode_sequences(eng_it_tokenizer, eng_it_length, testIta[:,0])"
      ],
      "id": "fbAE8GHV1gsl",
      "execution_count": null,
      "outputs": []
    },
    {
      "cell_type": "code",
      "metadata": {
        "colab": {
          "base_uri": "https://localhost:8080/"
        },
        "id": "0O1V2lFe1gxV",
        "outputId": "7c33b952-ab37-4987-e19e-b0fbc4c77e3e"
      },
      "source": [
        "#Build model\n",
        "model_it_1 = build_model1(ita_vocab_size, eng_it_vocab_size, ita_length, eng_it_length, 512)\n",
        "model_it_1.summary()\n",
        "rms_it_1 = optimizers.RMSprop(lr=0.001)\n",
        "model_it_1.compile(optimizer=rms_it_1, loss='sparse_categorical_crossentropy', metrics = ['accuracy'])"
      ],
      "id": "0O1V2lFe1gxV",
      "execution_count": null,
      "outputs": [
        {
          "output_type": "stream",
          "text": [
            "Model: \"sequential_2\"\n",
            "_________________________________________________________________\n",
            "Layer (type)                 Output Shape              Param #   \n",
            "=================================================================\n",
            "embedding_4 (Embedding)      (None, 7, 512)            1876992   \n",
            "_________________________________________________________________\n",
            "lstm_4 (LSTM)                (None, 512)               2099200   \n",
            "_________________________________________________________________\n",
            "repeat_vector_2 (RepeatVecto (None, 4, 512)            0         \n",
            "_________________________________________________________________\n",
            "lstm_5 (LSTM)                (None, 4, 512)            2099200   \n",
            "_________________________________________________________________\n",
            "dense_6 (Dense)              (None, 4, 1416)           726408    \n",
            "=================================================================\n",
            "Total params: 6,801,800\n",
            "Trainable params: 6,801,800\n",
            "Non-trainable params: 0\n",
            "_________________________________________________________________\n"
          ],
          "name": "stdout"
        }
      ]
    },
    {
      "cell_type": "code",
      "metadata": {
        "colab": {
          "base_uri": "https://localhost:8080/"
        },
        "id": "j31H1C3_1g08",
        "outputId": "87194d09-3ec2-45f1-e947-2e1929105336"
      },
      "source": [
        "#Train model and save\n",
        "filename_it_1 = 'model.h1.1_may_21_model1'\n",
        "checkpoint_it_1 = ModelCheckpoint(filename_it_1, monitor='val_loss', verbose=1, save_best_only=True, mode='min')\n",
        "history_it_1 = model_it_1.fit(trainItalianX, trainEnglishItalianY.reshape(trainEnglishItalianY.shape[0], trainEnglishItalianY.shape[1],1),\n",
        "                      epochs=30, batch_size=512, validation_split=0.2, callbacks=[checkpoint_it_1], verbose =1)"
      ],
      "id": "j31H1C3_1g08",
      "execution_count": null,
      "outputs": [
        {
          "output_type": "stream",
          "text": [
            "Epoch 1/30\n",
            "13/13 [==============================] - 6s 163ms/step - loss: 6.1454 - accuracy: 0.2911 - val_loss: 4.3490 - val_accuracy: 0.3837\n",
            "\n",
            "Epoch 00001: val_loss improved from inf to 4.34899, saving model to model.h1.1_may_21_model1\n"
          ],
          "name": "stdout"
        },
        {
          "output_type": "stream",
          "text": [
            "WARNING:absl:Found untraced functions such as lstm_cell_6_layer_call_fn, lstm_cell_6_layer_call_and_return_conditional_losses, lstm_cell_7_layer_call_fn, lstm_cell_7_layer_call_and_return_conditional_losses, lstm_cell_6_layer_call_fn while saving (showing 5 of 10). These functions will not be directly callable after loading.\n",
            "WARNING:absl:Found untraced functions such as lstm_cell_6_layer_call_fn, lstm_cell_6_layer_call_and_return_conditional_losses, lstm_cell_7_layer_call_fn, lstm_cell_7_layer_call_and_return_conditional_losses, lstm_cell_6_layer_call_fn while saving (showing 5 of 10). These functions will not be directly callable after loading.\n"
          ],
          "name": "stderr"
        },
        {
          "output_type": "stream",
          "text": [
            "INFO:tensorflow:Assets written to: model.h1.1_may_21_model1/assets\n"
          ],
          "name": "stdout"
        },
        {
          "output_type": "stream",
          "text": [
            "INFO:tensorflow:Assets written to: model.h1.1_may_21_model1/assets\n"
          ],
          "name": "stderr"
        },
        {
          "output_type": "stream",
          "text": [
            "Epoch 2/30\n",
            "13/13 [==============================] - 1s 47ms/step - loss: 4.0377 - accuracy: 0.4162 - val_loss: 3.7028 - val_accuracy: 0.4327\n",
            "\n",
            "Epoch 00002: val_loss improved from 4.34899 to 3.70282, saving model to model.h1.1_may_21_model1\n"
          ],
          "name": "stdout"
        },
        {
          "output_type": "stream",
          "text": [
            "WARNING:absl:Found untraced functions such as lstm_cell_6_layer_call_fn, lstm_cell_6_layer_call_and_return_conditional_losses, lstm_cell_7_layer_call_fn, lstm_cell_7_layer_call_and_return_conditional_losses, lstm_cell_6_layer_call_fn while saving (showing 5 of 10). These functions will not be directly callable after loading.\n",
            "WARNING:absl:Found untraced functions such as lstm_cell_6_layer_call_fn, lstm_cell_6_layer_call_and_return_conditional_losses, lstm_cell_7_layer_call_fn, lstm_cell_7_layer_call_and_return_conditional_losses, lstm_cell_6_layer_call_fn while saving (showing 5 of 10). These functions will not be directly callable after loading.\n"
          ],
          "name": "stderr"
        },
        {
          "output_type": "stream",
          "text": [
            "INFO:tensorflow:Assets written to: model.h1.1_may_21_model1/assets\n"
          ],
          "name": "stdout"
        },
        {
          "output_type": "stream",
          "text": [
            "INFO:tensorflow:Assets written to: model.h1.1_may_21_model1/assets\n"
          ],
          "name": "stderr"
        },
        {
          "output_type": "stream",
          "text": [
            "Epoch 3/30\n",
            "13/13 [==============================] - 1s 46ms/step - loss: 3.5869 - accuracy: 0.4328 - val_loss: 3.5357 - val_accuracy: 0.4317\n",
            "\n",
            "Epoch 00003: val_loss improved from 3.70282 to 3.53571, saving model to model.h1.1_may_21_model1\n"
          ],
          "name": "stdout"
        },
        {
          "output_type": "stream",
          "text": [
            "WARNING:absl:Found untraced functions such as lstm_cell_6_layer_call_fn, lstm_cell_6_layer_call_and_return_conditional_losses, lstm_cell_7_layer_call_fn, lstm_cell_7_layer_call_and_return_conditional_losses, lstm_cell_6_layer_call_fn while saving (showing 5 of 10). These functions will not be directly callable after loading.\n",
            "WARNING:absl:Found untraced functions such as lstm_cell_6_layer_call_fn, lstm_cell_6_layer_call_and_return_conditional_losses, lstm_cell_7_layer_call_fn, lstm_cell_7_layer_call_and_return_conditional_losses, lstm_cell_6_layer_call_fn while saving (showing 5 of 10). These functions will not be directly callable after loading.\n"
          ],
          "name": "stderr"
        },
        {
          "output_type": "stream",
          "text": [
            "INFO:tensorflow:Assets written to: model.h1.1_may_21_model1/assets\n"
          ],
          "name": "stdout"
        },
        {
          "output_type": "stream",
          "text": [
            "INFO:tensorflow:Assets written to: model.h1.1_may_21_model1/assets\n"
          ],
          "name": "stderr"
        },
        {
          "output_type": "stream",
          "text": [
            "Epoch 4/30\n",
            "13/13 [==============================] - 1s 46ms/step - loss: 3.4208 - accuracy: 0.4350 - val_loss: 3.4174 - val_accuracy: 0.4359\n",
            "\n",
            "Epoch 00004: val_loss improved from 3.53571 to 3.41740, saving model to model.h1.1_may_21_model1\n"
          ],
          "name": "stdout"
        },
        {
          "output_type": "stream",
          "text": [
            "WARNING:absl:Found untraced functions such as lstm_cell_6_layer_call_fn, lstm_cell_6_layer_call_and_return_conditional_losses, lstm_cell_7_layer_call_fn, lstm_cell_7_layer_call_and_return_conditional_losses, lstm_cell_6_layer_call_fn while saving (showing 5 of 10). These functions will not be directly callable after loading.\n",
            "WARNING:absl:Found untraced functions such as lstm_cell_6_layer_call_fn, lstm_cell_6_layer_call_and_return_conditional_losses, lstm_cell_7_layer_call_fn, lstm_cell_7_layer_call_and_return_conditional_losses, lstm_cell_6_layer_call_fn while saving (showing 5 of 10). These functions will not be directly callable after loading.\n"
          ],
          "name": "stderr"
        },
        {
          "output_type": "stream",
          "text": [
            "INFO:tensorflow:Assets written to: model.h1.1_may_21_model1/assets\n"
          ],
          "name": "stdout"
        },
        {
          "output_type": "stream",
          "text": [
            "INFO:tensorflow:Assets written to: model.h1.1_may_21_model1/assets\n"
          ],
          "name": "stderr"
        },
        {
          "output_type": "stream",
          "text": [
            "Epoch 5/30\n",
            "13/13 [==============================] - 1s 44ms/step - loss: 3.2942 - accuracy: 0.4406 - val_loss: 3.3506 - val_accuracy: 0.4484\n",
            "\n",
            "Epoch 00005: val_loss improved from 3.41740 to 3.35058, saving model to model.h1.1_may_21_model1\n"
          ],
          "name": "stdout"
        },
        {
          "output_type": "stream",
          "text": [
            "WARNING:absl:Found untraced functions such as lstm_cell_6_layer_call_fn, lstm_cell_6_layer_call_and_return_conditional_losses, lstm_cell_7_layer_call_fn, lstm_cell_7_layer_call_and_return_conditional_losses, lstm_cell_6_layer_call_fn while saving (showing 5 of 10). These functions will not be directly callable after loading.\n",
            "WARNING:absl:Found untraced functions such as lstm_cell_6_layer_call_fn, lstm_cell_6_layer_call_and_return_conditional_losses, lstm_cell_7_layer_call_fn, lstm_cell_7_layer_call_and_return_conditional_losses, lstm_cell_6_layer_call_fn while saving (showing 5 of 10). These functions will not be directly callable after loading.\n"
          ],
          "name": "stderr"
        },
        {
          "output_type": "stream",
          "text": [
            "INFO:tensorflow:Assets written to: model.h1.1_may_21_model1/assets\n"
          ],
          "name": "stdout"
        },
        {
          "output_type": "stream",
          "text": [
            "INFO:tensorflow:Assets written to: model.h1.1_may_21_model1/assets\n"
          ],
          "name": "stderr"
        },
        {
          "output_type": "stream",
          "text": [
            "Epoch 6/30\n",
            "13/13 [==============================] - 1s 47ms/step - loss: 3.1856 - accuracy: 0.4550 - val_loss: 3.2849 - val_accuracy: 0.4577\n",
            "\n",
            "Epoch 00006: val_loss improved from 3.35058 to 3.28492, saving model to model.h1.1_may_21_model1\n"
          ],
          "name": "stdout"
        },
        {
          "output_type": "stream",
          "text": [
            "WARNING:absl:Found untraced functions such as lstm_cell_6_layer_call_fn, lstm_cell_6_layer_call_and_return_conditional_losses, lstm_cell_7_layer_call_fn, lstm_cell_7_layer_call_and_return_conditional_losses, lstm_cell_6_layer_call_fn while saving (showing 5 of 10). These functions will not be directly callable after loading.\n",
            "WARNING:absl:Found untraced functions such as lstm_cell_6_layer_call_fn, lstm_cell_6_layer_call_and_return_conditional_losses, lstm_cell_7_layer_call_fn, lstm_cell_7_layer_call_and_return_conditional_losses, lstm_cell_6_layer_call_fn while saving (showing 5 of 10). These functions will not be directly callable after loading.\n"
          ],
          "name": "stderr"
        },
        {
          "output_type": "stream",
          "text": [
            "INFO:tensorflow:Assets written to: model.h1.1_may_21_model1/assets\n"
          ],
          "name": "stdout"
        },
        {
          "output_type": "stream",
          "text": [
            "INFO:tensorflow:Assets written to: model.h1.1_may_21_model1/assets\n"
          ],
          "name": "stderr"
        },
        {
          "output_type": "stream",
          "text": [
            "Epoch 7/30\n",
            "13/13 [==============================] - 1s 45ms/step - loss: 3.0967 - accuracy: 0.4656 - val_loss: 3.1591 - val_accuracy: 0.4697\n",
            "\n",
            "Epoch 00007: val_loss improved from 3.28492 to 3.15912, saving model to model.h1.1_may_21_model1\n"
          ],
          "name": "stdout"
        },
        {
          "output_type": "stream",
          "text": [
            "WARNING:absl:Found untraced functions such as lstm_cell_6_layer_call_fn, lstm_cell_6_layer_call_and_return_conditional_losses, lstm_cell_7_layer_call_fn, lstm_cell_7_layer_call_and_return_conditional_losses, lstm_cell_6_layer_call_fn while saving (showing 5 of 10). These functions will not be directly callable after loading.\n",
            "WARNING:absl:Found untraced functions such as lstm_cell_6_layer_call_fn, lstm_cell_6_layer_call_and_return_conditional_losses, lstm_cell_7_layer_call_fn, lstm_cell_7_layer_call_and_return_conditional_losses, lstm_cell_6_layer_call_fn while saving (showing 5 of 10). These functions will not be directly callable after loading.\n"
          ],
          "name": "stderr"
        },
        {
          "output_type": "stream",
          "text": [
            "INFO:tensorflow:Assets written to: model.h1.1_may_21_model1/assets\n"
          ],
          "name": "stdout"
        },
        {
          "output_type": "stream",
          "text": [
            "INFO:tensorflow:Assets written to: model.h1.1_may_21_model1/assets\n"
          ],
          "name": "stderr"
        },
        {
          "output_type": "stream",
          "text": [
            "Epoch 8/30\n",
            "13/13 [==============================] - 1s 47ms/step - loss: 2.9450 - accuracy: 0.4802 - val_loss: 3.0728 - val_accuracy: 0.4825\n",
            "\n",
            "Epoch 00008: val_loss improved from 3.15912 to 3.07278, saving model to model.h1.1_may_21_model1\n"
          ],
          "name": "stdout"
        },
        {
          "output_type": "stream",
          "text": [
            "WARNING:absl:Found untraced functions such as lstm_cell_6_layer_call_fn, lstm_cell_6_layer_call_and_return_conditional_losses, lstm_cell_7_layer_call_fn, lstm_cell_7_layer_call_and_return_conditional_losses, lstm_cell_6_layer_call_fn while saving (showing 5 of 10). These functions will not be directly callable after loading.\n",
            "WARNING:absl:Found untraced functions such as lstm_cell_6_layer_call_fn, lstm_cell_6_layer_call_and_return_conditional_losses, lstm_cell_7_layer_call_fn, lstm_cell_7_layer_call_and_return_conditional_losses, lstm_cell_6_layer_call_fn while saving (showing 5 of 10). These functions will not be directly callable after loading.\n"
          ],
          "name": "stderr"
        },
        {
          "output_type": "stream",
          "text": [
            "INFO:tensorflow:Assets written to: model.h1.1_may_21_model1/assets\n"
          ],
          "name": "stdout"
        },
        {
          "output_type": "stream",
          "text": [
            "INFO:tensorflow:Assets written to: model.h1.1_may_21_model1/assets\n"
          ],
          "name": "stderr"
        },
        {
          "output_type": "stream",
          "text": [
            "Epoch 9/30\n",
            "13/13 [==============================] - 1s 49ms/step - loss: 2.8317 - accuracy: 0.4914 - val_loss: 2.9786 - val_accuracy: 0.4981\n",
            "\n",
            "Epoch 00009: val_loss improved from 3.07278 to 2.97856, saving model to model.h1.1_may_21_model1\n"
          ],
          "name": "stdout"
        },
        {
          "output_type": "stream",
          "text": [
            "WARNING:absl:Found untraced functions such as lstm_cell_6_layer_call_fn, lstm_cell_6_layer_call_and_return_conditional_losses, lstm_cell_7_layer_call_fn, lstm_cell_7_layer_call_and_return_conditional_losses, lstm_cell_6_layer_call_fn while saving (showing 5 of 10). These functions will not be directly callable after loading.\n",
            "WARNING:absl:Found untraced functions such as lstm_cell_6_layer_call_fn, lstm_cell_6_layer_call_and_return_conditional_losses, lstm_cell_7_layer_call_fn, lstm_cell_7_layer_call_and_return_conditional_losses, lstm_cell_6_layer_call_fn while saving (showing 5 of 10). These functions will not be directly callable after loading.\n"
          ],
          "name": "stderr"
        },
        {
          "output_type": "stream",
          "text": [
            "INFO:tensorflow:Assets written to: model.h1.1_may_21_model1/assets\n"
          ],
          "name": "stdout"
        },
        {
          "output_type": "stream",
          "text": [
            "INFO:tensorflow:Assets written to: model.h1.1_may_21_model1/assets\n"
          ],
          "name": "stderr"
        },
        {
          "output_type": "stream",
          "text": [
            "Epoch 10/30\n",
            "13/13 [==============================] - 1s 46ms/step - loss: 2.7128 - accuracy: 0.5089 - val_loss: 2.9092 - val_accuracy: 0.5011\n",
            "\n",
            "Epoch 00010: val_loss improved from 2.97856 to 2.90920, saving model to model.h1.1_may_21_model1\n"
          ],
          "name": "stdout"
        },
        {
          "output_type": "stream",
          "text": [
            "WARNING:absl:Found untraced functions such as lstm_cell_6_layer_call_fn, lstm_cell_6_layer_call_and_return_conditional_losses, lstm_cell_7_layer_call_fn, lstm_cell_7_layer_call_and_return_conditional_losses, lstm_cell_6_layer_call_fn while saving (showing 5 of 10). These functions will not be directly callable after loading.\n",
            "WARNING:absl:Found untraced functions such as lstm_cell_6_layer_call_fn, lstm_cell_6_layer_call_and_return_conditional_losses, lstm_cell_7_layer_call_fn, lstm_cell_7_layer_call_and_return_conditional_losses, lstm_cell_6_layer_call_fn while saving (showing 5 of 10). These functions will not be directly callable after loading.\n"
          ],
          "name": "stderr"
        },
        {
          "output_type": "stream",
          "text": [
            "INFO:tensorflow:Assets written to: model.h1.1_may_21_model1/assets\n"
          ],
          "name": "stdout"
        },
        {
          "output_type": "stream",
          "text": [
            "INFO:tensorflow:Assets written to: model.h1.1_may_21_model1/assets\n"
          ],
          "name": "stderr"
        },
        {
          "output_type": "stream",
          "text": [
            "Epoch 11/30\n",
            "13/13 [==============================] - 1s 47ms/step - loss: 2.6175 - accuracy: 0.5166 - val_loss: 2.8338 - val_accuracy: 0.5134\n",
            "\n",
            "Epoch 00011: val_loss improved from 2.90920 to 2.83384, saving model to model.h1.1_may_21_model1\n"
          ],
          "name": "stdout"
        },
        {
          "output_type": "stream",
          "text": [
            "WARNING:absl:Found untraced functions such as lstm_cell_6_layer_call_fn, lstm_cell_6_layer_call_and_return_conditional_losses, lstm_cell_7_layer_call_fn, lstm_cell_7_layer_call_and_return_conditional_losses, lstm_cell_6_layer_call_fn while saving (showing 5 of 10). These functions will not be directly callable after loading.\n",
            "WARNING:absl:Found untraced functions such as lstm_cell_6_layer_call_fn, lstm_cell_6_layer_call_and_return_conditional_losses, lstm_cell_7_layer_call_fn, lstm_cell_7_layer_call_and_return_conditional_losses, lstm_cell_6_layer_call_fn while saving (showing 5 of 10). These functions will not be directly callable after loading.\n"
          ],
          "name": "stderr"
        },
        {
          "output_type": "stream",
          "text": [
            "INFO:tensorflow:Assets written to: model.h1.1_may_21_model1/assets\n"
          ],
          "name": "stdout"
        },
        {
          "output_type": "stream",
          "text": [
            "INFO:tensorflow:Assets written to: model.h1.1_may_21_model1/assets\n"
          ],
          "name": "stderr"
        },
        {
          "output_type": "stream",
          "text": [
            "Epoch 12/30\n",
            "13/13 [==============================] - 1s 46ms/step - loss: 2.4954 - accuracy: 0.5267 - val_loss: 2.8171 - val_accuracy: 0.5092\n",
            "\n",
            "Epoch 00012: val_loss improved from 2.83384 to 2.81709, saving model to model.h1.1_may_21_model1\n"
          ],
          "name": "stdout"
        },
        {
          "output_type": "stream",
          "text": [
            "WARNING:absl:Found untraced functions such as lstm_cell_6_layer_call_fn, lstm_cell_6_layer_call_and_return_conditional_losses, lstm_cell_7_layer_call_fn, lstm_cell_7_layer_call_and_return_conditional_losses, lstm_cell_6_layer_call_fn while saving (showing 5 of 10). These functions will not be directly callable after loading.\n",
            "WARNING:absl:Found untraced functions such as lstm_cell_6_layer_call_fn, lstm_cell_6_layer_call_and_return_conditional_losses, lstm_cell_7_layer_call_fn, lstm_cell_7_layer_call_and_return_conditional_losses, lstm_cell_6_layer_call_fn while saving (showing 5 of 10). These functions will not be directly callable after loading.\n"
          ],
          "name": "stderr"
        },
        {
          "output_type": "stream",
          "text": [
            "INFO:tensorflow:Assets written to: model.h1.1_may_21_model1/assets\n"
          ],
          "name": "stdout"
        },
        {
          "output_type": "stream",
          "text": [
            "INFO:tensorflow:Assets written to: model.h1.1_may_21_model1/assets\n"
          ],
          "name": "stderr"
        },
        {
          "output_type": "stream",
          "text": [
            "Epoch 13/30\n",
            "13/13 [==============================] - 1s 46ms/step - loss: 2.4432 - accuracy: 0.5333 - val_loss: 2.7028 - val_accuracy: 0.5255\n",
            "\n",
            "Epoch 00013: val_loss improved from 2.81709 to 2.70283, saving model to model.h1.1_may_21_model1\n"
          ],
          "name": "stdout"
        },
        {
          "output_type": "stream",
          "text": [
            "WARNING:absl:Found untraced functions such as lstm_cell_6_layer_call_fn, lstm_cell_6_layer_call_and_return_conditional_losses, lstm_cell_7_layer_call_fn, lstm_cell_7_layer_call_and_return_conditional_losses, lstm_cell_6_layer_call_fn while saving (showing 5 of 10). These functions will not be directly callable after loading.\n",
            "WARNING:absl:Found untraced functions such as lstm_cell_6_layer_call_fn, lstm_cell_6_layer_call_and_return_conditional_losses, lstm_cell_7_layer_call_fn, lstm_cell_7_layer_call_and_return_conditional_losses, lstm_cell_6_layer_call_fn while saving (showing 5 of 10). These functions will not be directly callable after loading.\n"
          ],
          "name": "stderr"
        },
        {
          "output_type": "stream",
          "text": [
            "INFO:tensorflow:Assets written to: model.h1.1_may_21_model1/assets\n"
          ],
          "name": "stdout"
        },
        {
          "output_type": "stream",
          "text": [
            "INFO:tensorflow:Assets written to: model.h1.1_may_21_model1/assets\n"
          ],
          "name": "stderr"
        },
        {
          "output_type": "stream",
          "text": [
            "Epoch 14/30\n",
            "13/13 [==============================] - 1s 47ms/step - loss: 2.3284 - accuracy: 0.5462 - val_loss: 2.6359 - val_accuracy: 0.5342\n",
            "\n",
            "Epoch 00014: val_loss improved from 2.70283 to 2.63592, saving model to model.h1.1_may_21_model1\n"
          ],
          "name": "stdout"
        },
        {
          "output_type": "stream",
          "text": [
            "WARNING:absl:Found untraced functions such as lstm_cell_6_layer_call_fn, lstm_cell_6_layer_call_and_return_conditional_losses, lstm_cell_7_layer_call_fn, lstm_cell_7_layer_call_and_return_conditional_losses, lstm_cell_6_layer_call_fn while saving (showing 5 of 10). These functions will not be directly callable after loading.\n",
            "WARNING:absl:Found untraced functions such as lstm_cell_6_layer_call_fn, lstm_cell_6_layer_call_and_return_conditional_losses, lstm_cell_7_layer_call_fn, lstm_cell_7_layer_call_and_return_conditional_losses, lstm_cell_6_layer_call_fn while saving (showing 5 of 10). These functions will not be directly callable after loading.\n"
          ],
          "name": "stderr"
        },
        {
          "output_type": "stream",
          "text": [
            "INFO:tensorflow:Assets written to: model.h1.1_may_21_model1/assets\n"
          ],
          "name": "stdout"
        },
        {
          "output_type": "stream",
          "text": [
            "INFO:tensorflow:Assets written to: model.h1.1_may_21_model1/assets\n"
          ],
          "name": "stderr"
        },
        {
          "output_type": "stream",
          "text": [
            "Epoch 15/30\n",
            "13/13 [==============================] - 1s 46ms/step - loss: 2.2319 - accuracy: 0.5539 - val_loss: 2.6024 - val_accuracy: 0.5381\n",
            "\n",
            "Epoch 00015: val_loss improved from 2.63592 to 2.60238, saving model to model.h1.1_may_21_model1\n"
          ],
          "name": "stdout"
        },
        {
          "output_type": "stream",
          "text": [
            "WARNING:absl:Found untraced functions such as lstm_cell_6_layer_call_fn, lstm_cell_6_layer_call_and_return_conditional_losses, lstm_cell_7_layer_call_fn, lstm_cell_7_layer_call_and_return_conditional_losses, lstm_cell_6_layer_call_fn while saving (showing 5 of 10). These functions will not be directly callable after loading.\n",
            "WARNING:absl:Found untraced functions such as lstm_cell_6_layer_call_fn, lstm_cell_6_layer_call_and_return_conditional_losses, lstm_cell_7_layer_call_fn, lstm_cell_7_layer_call_and_return_conditional_losses, lstm_cell_6_layer_call_fn while saving (showing 5 of 10). These functions will not be directly callable after loading.\n"
          ],
          "name": "stderr"
        },
        {
          "output_type": "stream",
          "text": [
            "INFO:tensorflow:Assets written to: model.h1.1_may_21_model1/assets\n"
          ],
          "name": "stdout"
        },
        {
          "output_type": "stream",
          "text": [
            "INFO:tensorflow:Assets written to: model.h1.1_may_21_model1/assets\n"
          ],
          "name": "stderr"
        },
        {
          "output_type": "stream",
          "text": [
            "Epoch 16/30\n",
            "13/13 [==============================] - 1s 48ms/step - loss: 2.1432 - accuracy: 0.5660 - val_loss: 2.5676 - val_accuracy: 0.5469\n",
            "\n",
            "Epoch 00016: val_loss improved from 2.60238 to 2.56756, saving model to model.h1.1_may_21_model1\n"
          ],
          "name": "stdout"
        },
        {
          "output_type": "stream",
          "text": [
            "WARNING:absl:Found untraced functions such as lstm_cell_6_layer_call_fn, lstm_cell_6_layer_call_and_return_conditional_losses, lstm_cell_7_layer_call_fn, lstm_cell_7_layer_call_and_return_conditional_losses, lstm_cell_6_layer_call_fn while saving (showing 5 of 10). These functions will not be directly callable after loading.\n",
            "WARNING:absl:Found untraced functions such as lstm_cell_6_layer_call_fn, lstm_cell_6_layer_call_and_return_conditional_losses, lstm_cell_7_layer_call_fn, lstm_cell_7_layer_call_and_return_conditional_losses, lstm_cell_6_layer_call_fn while saving (showing 5 of 10). These functions will not be directly callable after loading.\n"
          ],
          "name": "stderr"
        },
        {
          "output_type": "stream",
          "text": [
            "INFO:tensorflow:Assets written to: model.h1.1_may_21_model1/assets\n"
          ],
          "name": "stdout"
        },
        {
          "output_type": "stream",
          "text": [
            "INFO:tensorflow:Assets written to: model.h1.1_may_21_model1/assets\n"
          ],
          "name": "stderr"
        },
        {
          "output_type": "stream",
          "text": [
            "Epoch 17/30\n",
            "13/13 [==============================] - 1s 48ms/step - loss: 2.0573 - accuracy: 0.5779 - val_loss: 2.4670 - val_accuracy: 0.5602\n",
            "\n",
            "Epoch 00017: val_loss improved from 2.56756 to 2.46697, saving model to model.h1.1_may_21_model1\n"
          ],
          "name": "stdout"
        },
        {
          "output_type": "stream",
          "text": [
            "WARNING:absl:Found untraced functions such as lstm_cell_6_layer_call_fn, lstm_cell_6_layer_call_and_return_conditional_losses, lstm_cell_7_layer_call_fn, lstm_cell_7_layer_call_and_return_conditional_losses, lstm_cell_6_layer_call_fn while saving (showing 5 of 10). These functions will not be directly callable after loading.\n",
            "WARNING:absl:Found untraced functions such as lstm_cell_6_layer_call_fn, lstm_cell_6_layer_call_and_return_conditional_losses, lstm_cell_7_layer_call_fn, lstm_cell_7_layer_call_and_return_conditional_losses, lstm_cell_6_layer_call_fn while saving (showing 5 of 10). These functions will not be directly callable after loading.\n"
          ],
          "name": "stderr"
        },
        {
          "output_type": "stream",
          "text": [
            "INFO:tensorflow:Assets written to: model.h1.1_may_21_model1/assets\n"
          ],
          "name": "stdout"
        },
        {
          "output_type": "stream",
          "text": [
            "INFO:tensorflow:Assets written to: model.h1.1_may_21_model1/assets\n"
          ],
          "name": "stderr"
        },
        {
          "output_type": "stream",
          "text": [
            "Epoch 18/30\n",
            "13/13 [==============================] - 1s 48ms/step - loss: 1.9613 - accuracy: 0.5894 - val_loss: 2.4212 - val_accuracy: 0.5702\n",
            "\n",
            "Epoch 00018: val_loss improved from 2.46697 to 2.42115, saving model to model.h1.1_may_21_model1\n"
          ],
          "name": "stdout"
        },
        {
          "output_type": "stream",
          "text": [
            "WARNING:absl:Found untraced functions such as lstm_cell_6_layer_call_fn, lstm_cell_6_layer_call_and_return_conditional_losses, lstm_cell_7_layer_call_fn, lstm_cell_7_layer_call_and_return_conditional_losses, lstm_cell_6_layer_call_fn while saving (showing 5 of 10). These functions will not be directly callable after loading.\n",
            "WARNING:absl:Found untraced functions such as lstm_cell_6_layer_call_fn, lstm_cell_6_layer_call_and_return_conditional_losses, lstm_cell_7_layer_call_fn, lstm_cell_7_layer_call_and_return_conditional_losses, lstm_cell_6_layer_call_fn while saving (showing 5 of 10). These functions will not be directly callable after loading.\n"
          ],
          "name": "stderr"
        },
        {
          "output_type": "stream",
          "text": [
            "INFO:tensorflow:Assets written to: model.h1.1_may_21_model1/assets\n"
          ],
          "name": "stdout"
        },
        {
          "output_type": "stream",
          "text": [
            "INFO:tensorflow:Assets written to: model.h1.1_may_21_model1/assets\n"
          ],
          "name": "stderr"
        },
        {
          "output_type": "stream",
          "text": [
            "Epoch 19/30\n",
            "13/13 [==============================] - 1s 49ms/step - loss: 1.8745 - accuracy: 0.6044 - val_loss: 2.3821 - val_accuracy: 0.5733\n",
            "\n",
            "Epoch 00019: val_loss improved from 2.42115 to 2.38207, saving model to model.h1.1_may_21_model1\n"
          ],
          "name": "stdout"
        },
        {
          "output_type": "stream",
          "text": [
            "WARNING:absl:Found untraced functions such as lstm_cell_6_layer_call_fn, lstm_cell_6_layer_call_and_return_conditional_losses, lstm_cell_7_layer_call_fn, lstm_cell_7_layer_call_and_return_conditional_losses, lstm_cell_6_layer_call_fn while saving (showing 5 of 10). These functions will not be directly callable after loading.\n",
            "WARNING:absl:Found untraced functions such as lstm_cell_6_layer_call_fn, lstm_cell_6_layer_call_and_return_conditional_losses, lstm_cell_7_layer_call_fn, lstm_cell_7_layer_call_and_return_conditional_losses, lstm_cell_6_layer_call_fn while saving (showing 5 of 10). These functions will not be directly callable after loading.\n"
          ],
          "name": "stderr"
        },
        {
          "output_type": "stream",
          "text": [
            "INFO:tensorflow:Assets written to: model.h1.1_may_21_model1/assets\n"
          ],
          "name": "stdout"
        },
        {
          "output_type": "stream",
          "text": [
            "INFO:tensorflow:Assets written to: model.h1.1_may_21_model1/assets\n"
          ],
          "name": "stderr"
        },
        {
          "output_type": "stream",
          "text": [
            "Epoch 20/30\n",
            "13/13 [==============================] - 1s 47ms/step - loss: 1.7845 - accuracy: 0.6151 - val_loss: 2.3741 - val_accuracy: 0.5745\n",
            "\n",
            "Epoch 00020: val_loss improved from 2.38207 to 2.37410, saving model to model.h1.1_may_21_model1\n"
          ],
          "name": "stdout"
        },
        {
          "output_type": "stream",
          "text": [
            "WARNING:absl:Found untraced functions such as lstm_cell_6_layer_call_fn, lstm_cell_6_layer_call_and_return_conditional_losses, lstm_cell_7_layer_call_fn, lstm_cell_7_layer_call_and_return_conditional_losses, lstm_cell_6_layer_call_fn while saving (showing 5 of 10). These functions will not be directly callable after loading.\n",
            "WARNING:absl:Found untraced functions such as lstm_cell_6_layer_call_fn, lstm_cell_6_layer_call_and_return_conditional_losses, lstm_cell_7_layer_call_fn, lstm_cell_7_layer_call_and_return_conditional_losses, lstm_cell_6_layer_call_fn while saving (showing 5 of 10). These functions will not be directly callable after loading.\n"
          ],
          "name": "stderr"
        },
        {
          "output_type": "stream",
          "text": [
            "INFO:tensorflow:Assets written to: model.h1.1_may_21_model1/assets\n"
          ],
          "name": "stdout"
        },
        {
          "output_type": "stream",
          "text": [
            "INFO:tensorflow:Assets written to: model.h1.1_may_21_model1/assets\n"
          ],
          "name": "stderr"
        },
        {
          "output_type": "stream",
          "text": [
            "Epoch 21/30\n",
            "13/13 [==============================] - 1s 46ms/step - loss: 1.7153 - accuracy: 0.6260 - val_loss: 2.2772 - val_accuracy: 0.5894\n",
            "\n",
            "Epoch 00021: val_loss improved from 2.37410 to 2.27723, saving model to model.h1.1_may_21_model1\n"
          ],
          "name": "stdout"
        },
        {
          "output_type": "stream",
          "text": [
            "WARNING:absl:Found untraced functions such as lstm_cell_6_layer_call_fn, lstm_cell_6_layer_call_and_return_conditional_losses, lstm_cell_7_layer_call_fn, lstm_cell_7_layer_call_and_return_conditional_losses, lstm_cell_6_layer_call_fn while saving (showing 5 of 10). These functions will not be directly callable after loading.\n",
            "WARNING:absl:Found untraced functions such as lstm_cell_6_layer_call_fn, lstm_cell_6_layer_call_and_return_conditional_losses, lstm_cell_7_layer_call_fn, lstm_cell_7_layer_call_and_return_conditional_losses, lstm_cell_6_layer_call_fn while saving (showing 5 of 10). These functions will not be directly callable after loading.\n"
          ],
          "name": "stderr"
        },
        {
          "output_type": "stream",
          "text": [
            "INFO:tensorflow:Assets written to: model.h1.1_may_21_model1/assets\n"
          ],
          "name": "stdout"
        },
        {
          "output_type": "stream",
          "text": [
            "INFO:tensorflow:Assets written to: model.h1.1_may_21_model1/assets\n"
          ],
          "name": "stderr"
        },
        {
          "output_type": "stream",
          "text": [
            "Epoch 22/30\n",
            "13/13 [==============================] - 1s 48ms/step - loss: 1.6358 - accuracy: 0.6382 - val_loss: 2.2816 - val_accuracy: 0.5830\n",
            "\n",
            "Epoch 00022: val_loss did not improve from 2.27723\n",
            "Epoch 23/30\n",
            "13/13 [==============================] - 1s 40ms/step - loss: 1.5778 - accuracy: 0.6491 - val_loss: 2.2207 - val_accuracy: 0.5945\n",
            "\n",
            "Epoch 00023: val_loss improved from 2.27723 to 2.22068, saving model to model.h1.1_may_21_model1\n"
          ],
          "name": "stdout"
        },
        {
          "output_type": "stream",
          "text": [
            "WARNING:absl:Found untraced functions such as lstm_cell_6_layer_call_fn, lstm_cell_6_layer_call_and_return_conditional_losses, lstm_cell_7_layer_call_fn, lstm_cell_7_layer_call_and_return_conditional_losses, lstm_cell_6_layer_call_fn while saving (showing 5 of 10). These functions will not be directly callable after loading.\n",
            "WARNING:absl:Found untraced functions such as lstm_cell_6_layer_call_fn, lstm_cell_6_layer_call_and_return_conditional_losses, lstm_cell_7_layer_call_fn, lstm_cell_7_layer_call_and_return_conditional_losses, lstm_cell_6_layer_call_fn while saving (showing 5 of 10). These functions will not be directly callable after loading.\n"
          ],
          "name": "stderr"
        },
        {
          "output_type": "stream",
          "text": [
            "INFO:tensorflow:Assets written to: model.h1.1_may_21_model1/assets\n"
          ],
          "name": "stdout"
        },
        {
          "output_type": "stream",
          "text": [
            "INFO:tensorflow:Assets written to: model.h1.1_may_21_model1/assets\n"
          ],
          "name": "stderr"
        },
        {
          "output_type": "stream",
          "text": [
            "Epoch 24/30\n",
            "13/13 [==============================] - 1s 46ms/step - loss: 1.4844 - accuracy: 0.6628 - val_loss: 2.2133 - val_accuracy: 0.6033\n",
            "\n",
            "Epoch 00024: val_loss improved from 2.22068 to 2.21325, saving model to model.h1.1_may_21_model1\n"
          ],
          "name": "stdout"
        },
        {
          "output_type": "stream",
          "text": [
            "WARNING:absl:Found untraced functions such as lstm_cell_6_layer_call_fn, lstm_cell_6_layer_call_and_return_conditional_losses, lstm_cell_7_layer_call_fn, lstm_cell_7_layer_call_and_return_conditional_losses, lstm_cell_6_layer_call_fn while saving (showing 5 of 10). These functions will not be directly callable after loading.\n",
            "WARNING:absl:Found untraced functions such as lstm_cell_6_layer_call_fn, lstm_cell_6_layer_call_and_return_conditional_losses, lstm_cell_7_layer_call_fn, lstm_cell_7_layer_call_and_return_conditional_losses, lstm_cell_6_layer_call_fn while saving (showing 5 of 10). These functions will not be directly callable after loading.\n"
          ],
          "name": "stderr"
        },
        {
          "output_type": "stream",
          "text": [
            "INFO:tensorflow:Assets written to: model.h1.1_may_21_model1/assets\n"
          ],
          "name": "stdout"
        },
        {
          "output_type": "stream",
          "text": [
            "INFO:tensorflow:Assets written to: model.h1.1_may_21_model1/assets\n"
          ],
          "name": "stderr"
        },
        {
          "output_type": "stream",
          "text": [
            "Epoch 25/30\n",
            "13/13 [==============================] - 1s 46ms/step - loss: 1.4317 - accuracy: 0.6723 - val_loss: 2.1778 - val_accuracy: 0.6000\n",
            "\n",
            "Epoch 00025: val_loss improved from 2.21325 to 2.17781, saving model to model.h1.1_may_21_model1\n"
          ],
          "name": "stdout"
        },
        {
          "output_type": "stream",
          "text": [
            "WARNING:absl:Found untraced functions such as lstm_cell_6_layer_call_fn, lstm_cell_6_layer_call_and_return_conditional_losses, lstm_cell_7_layer_call_fn, lstm_cell_7_layer_call_and_return_conditional_losses, lstm_cell_6_layer_call_fn while saving (showing 5 of 10). These functions will not be directly callable after loading.\n",
            "WARNING:absl:Found untraced functions such as lstm_cell_6_layer_call_fn, lstm_cell_6_layer_call_and_return_conditional_losses, lstm_cell_7_layer_call_fn, lstm_cell_7_layer_call_and_return_conditional_losses, lstm_cell_6_layer_call_fn while saving (showing 5 of 10). These functions will not be directly callable after loading.\n"
          ],
          "name": "stderr"
        },
        {
          "output_type": "stream",
          "text": [
            "INFO:tensorflow:Assets written to: model.h1.1_may_21_model1/assets\n"
          ],
          "name": "stdout"
        },
        {
          "output_type": "stream",
          "text": [
            "INFO:tensorflow:Assets written to: model.h1.1_may_21_model1/assets\n"
          ],
          "name": "stderr"
        },
        {
          "output_type": "stream",
          "text": [
            "Epoch 26/30\n",
            "13/13 [==============================] - 1s 47ms/step - loss: 1.3725 - accuracy: 0.6842 - val_loss: 2.1270 - val_accuracy: 0.6105\n",
            "\n",
            "Epoch 00026: val_loss improved from 2.17781 to 2.12703, saving model to model.h1.1_may_21_model1\n"
          ],
          "name": "stdout"
        },
        {
          "output_type": "stream",
          "text": [
            "WARNING:absl:Found untraced functions such as lstm_cell_6_layer_call_fn, lstm_cell_6_layer_call_and_return_conditional_losses, lstm_cell_7_layer_call_fn, lstm_cell_7_layer_call_and_return_conditional_losses, lstm_cell_6_layer_call_fn while saving (showing 5 of 10). These functions will not be directly callable after loading.\n",
            "WARNING:absl:Found untraced functions such as lstm_cell_6_layer_call_fn, lstm_cell_6_layer_call_and_return_conditional_losses, lstm_cell_7_layer_call_fn, lstm_cell_7_layer_call_and_return_conditional_losses, lstm_cell_6_layer_call_fn while saving (showing 5 of 10). These functions will not be directly callable after loading.\n"
          ],
          "name": "stderr"
        },
        {
          "output_type": "stream",
          "text": [
            "INFO:tensorflow:Assets written to: model.h1.1_may_21_model1/assets\n"
          ],
          "name": "stdout"
        },
        {
          "output_type": "stream",
          "text": [
            "INFO:tensorflow:Assets written to: model.h1.1_may_21_model1/assets\n"
          ],
          "name": "stderr"
        },
        {
          "output_type": "stream",
          "text": [
            "Epoch 27/30\n",
            "13/13 [==============================] - 1s 46ms/step - loss: 1.3283 - accuracy: 0.6930 - val_loss: 2.1261 - val_accuracy: 0.6167\n",
            "\n",
            "Epoch 00027: val_loss improved from 2.12703 to 2.12608, saving model to model.h1.1_may_21_model1\n"
          ],
          "name": "stdout"
        },
        {
          "output_type": "stream",
          "text": [
            "WARNING:absl:Found untraced functions such as lstm_cell_6_layer_call_fn, lstm_cell_6_layer_call_and_return_conditional_losses, lstm_cell_7_layer_call_fn, lstm_cell_7_layer_call_and_return_conditional_losses, lstm_cell_6_layer_call_fn while saving (showing 5 of 10). These functions will not be directly callable after loading.\n",
            "WARNING:absl:Found untraced functions such as lstm_cell_6_layer_call_fn, lstm_cell_6_layer_call_and_return_conditional_losses, lstm_cell_7_layer_call_fn, lstm_cell_7_layer_call_and_return_conditional_losses, lstm_cell_6_layer_call_fn while saving (showing 5 of 10). These functions will not be directly callable after loading.\n"
          ],
          "name": "stderr"
        },
        {
          "output_type": "stream",
          "text": [
            "INFO:tensorflow:Assets written to: model.h1.1_may_21_model1/assets\n"
          ],
          "name": "stdout"
        },
        {
          "output_type": "stream",
          "text": [
            "INFO:tensorflow:Assets written to: model.h1.1_may_21_model1/assets\n"
          ],
          "name": "stderr"
        },
        {
          "output_type": "stream",
          "text": [
            "Epoch 28/30\n",
            "13/13 [==============================] - 1s 45ms/step - loss: 1.2585 - accuracy: 0.7097 - val_loss: 2.0810 - val_accuracy: 0.6203\n",
            "\n",
            "Epoch 00028: val_loss improved from 2.12608 to 2.08105, saving model to model.h1.1_may_21_model1\n"
          ],
          "name": "stdout"
        },
        {
          "output_type": "stream",
          "text": [
            "WARNING:absl:Found untraced functions such as lstm_cell_6_layer_call_fn, lstm_cell_6_layer_call_and_return_conditional_losses, lstm_cell_7_layer_call_fn, lstm_cell_7_layer_call_and_return_conditional_losses, lstm_cell_6_layer_call_fn while saving (showing 5 of 10). These functions will not be directly callable after loading.\n",
            "WARNING:absl:Found untraced functions such as lstm_cell_6_layer_call_fn, lstm_cell_6_layer_call_and_return_conditional_losses, lstm_cell_7_layer_call_fn, lstm_cell_7_layer_call_and_return_conditional_losses, lstm_cell_6_layer_call_fn while saving (showing 5 of 10). These functions will not be directly callable after loading.\n"
          ],
          "name": "stderr"
        },
        {
          "output_type": "stream",
          "text": [
            "INFO:tensorflow:Assets written to: model.h1.1_may_21_model1/assets\n"
          ],
          "name": "stdout"
        },
        {
          "output_type": "stream",
          "text": [
            "INFO:tensorflow:Assets written to: model.h1.1_may_21_model1/assets\n"
          ],
          "name": "stderr"
        },
        {
          "output_type": "stream",
          "text": [
            "Epoch 29/30\n",
            "13/13 [==============================] - 1s 48ms/step - loss: 1.1951 - accuracy: 0.7167 - val_loss: 2.0593 - val_accuracy: 0.6320\n",
            "\n",
            "Epoch 00029: val_loss improved from 2.08105 to 2.05927, saving model to model.h1.1_may_21_model1\n"
          ],
          "name": "stdout"
        },
        {
          "output_type": "stream",
          "text": [
            "WARNING:absl:Found untraced functions such as lstm_cell_6_layer_call_fn, lstm_cell_6_layer_call_and_return_conditional_losses, lstm_cell_7_layer_call_fn, lstm_cell_7_layer_call_and_return_conditional_losses, lstm_cell_6_layer_call_fn while saving (showing 5 of 10). These functions will not be directly callable after loading.\n",
            "WARNING:absl:Found untraced functions such as lstm_cell_6_layer_call_fn, lstm_cell_6_layer_call_and_return_conditional_losses, lstm_cell_7_layer_call_fn, lstm_cell_7_layer_call_and_return_conditional_losses, lstm_cell_6_layer_call_fn while saving (showing 5 of 10). These functions will not be directly callable after loading.\n"
          ],
          "name": "stderr"
        },
        {
          "output_type": "stream",
          "text": [
            "INFO:tensorflow:Assets written to: model.h1.1_may_21_model1/assets\n"
          ],
          "name": "stdout"
        },
        {
          "output_type": "stream",
          "text": [
            "INFO:tensorflow:Assets written to: model.h1.1_may_21_model1/assets\n"
          ],
          "name": "stderr"
        },
        {
          "output_type": "stream",
          "text": [
            "Epoch 30/30\n",
            "13/13 [==============================] - 1s 46ms/step - loss: 1.1391 - accuracy: 0.7320 - val_loss: 2.0393 - val_accuracy: 0.6302\n",
            "\n",
            "Epoch 00030: val_loss improved from 2.05927 to 2.03926, saving model to model.h1.1_may_21_model1\n"
          ],
          "name": "stdout"
        },
        {
          "output_type": "stream",
          "text": [
            "WARNING:absl:Found untraced functions such as lstm_cell_6_layer_call_fn, lstm_cell_6_layer_call_and_return_conditional_losses, lstm_cell_7_layer_call_fn, lstm_cell_7_layer_call_and_return_conditional_losses, lstm_cell_6_layer_call_fn while saving (showing 5 of 10). These functions will not be directly callable after loading.\n",
            "WARNING:absl:Found untraced functions such as lstm_cell_6_layer_call_fn, lstm_cell_6_layer_call_and_return_conditional_losses, lstm_cell_7_layer_call_fn, lstm_cell_7_layer_call_and_return_conditional_losses, lstm_cell_6_layer_call_fn while saving (showing 5 of 10). These functions will not be directly callable after loading.\n"
          ],
          "name": "stderr"
        },
        {
          "output_type": "stream",
          "text": [
            "INFO:tensorflow:Assets written to: model.h1.1_may_21_model1/assets\n"
          ],
          "name": "stdout"
        },
        {
          "output_type": "stream",
          "text": [
            "INFO:tensorflow:Assets written to: model.h1.1_may_21_model1/assets\n"
          ],
          "name": "stderr"
        }
      ]
    },
    {
      "cell_type": "code",
      "metadata": {
        "colab": {
          "base_uri": "https://localhost:8080/"
        },
        "id": "V2V9Kx6Q3Gwb",
        "outputId": "9fa93d02-d7a0-4dd6-80fa-94b2cc19ebf3"
      },
      "source": [
        "#make predictions on test data\n",
        "model_it_pred_1 = load_model('model.h1.1_may_21_model1')\n",
        "preds_it_1 = model_it_pred_1.predict_classes(testItalianX.reshape(testItalianX.shape[0], testItalianX.shape[1]))"
      ],
      "id": "V2V9Kx6Q3Gwb",
      "execution_count": null,
      "outputs": [
        {
          "output_type": "stream",
          "text": [
            "/usr/local/lib/python3.7/dist-packages/tensorflow/python/keras/engine/sequential.py:450: UserWarning: `model.predict_classes()` is deprecated and will be removed after 2021-01-01. Please use instead:* `np.argmax(model.predict(x), axis=-1)`,   if your model does multi-class classification   (e.g. if it uses a `softmax` last-layer activation).* `(model.predict(x) > 0.5).astype(\"int32\")`,   if your model does binary classification   (e.g. if it uses a `sigmoid` last-layer activation).\n",
            "  warnings.warn('`model.predict_classes()` is deprecated and '\n"
          ],
          "name": "stderr"
        }
      ]
    },
    {
      "cell_type": "code",
      "metadata": {
        "id": "yU8ffPyz3HCz"
      },
      "source": [
        "#Convert predictions into text (English)\n",
        "preds_text_eng_it_1 = []\n",
        "for i in preds_it_1:\n",
        "    temp = []\n",
        "    for j in range(len(i)):\n",
        "        t = get_word(i[j], eng_it_tokenizer)\n",
        "        if j > 0:\n",
        "            if (t == get_word(i[j-1], eng_it_tokenizer)) or (t == None):\n",
        "                temp.append('')\n",
        "            else:\n",
        "                temp.append(t)\n",
        "        else:\n",
        "            if (t == None):\n",
        "                temp.append('')\n",
        "            else:\n",
        "                temp.append(t)\n",
        "    preds_text_eng_it_1.append(' '.join(temp))"
      ],
      "id": "yU8ffPyz3HCz",
      "execution_count": null,
      "outputs": []
    },
    {
      "cell_type": "code",
      "metadata": {
        "id": "FhYJp2a73HHy"
      },
      "source": [
        "#display first 15 predictions\n",
        "pred_df_it_1 = pd.DataFrame({'actual': testIta[:,0], 'predicted': preds_text_eng_it_1})"
      ],
      "id": "FhYJp2a73HHy",
      "execution_count": null,
      "outputs": []
    },
    {
      "cell_type": "code",
      "metadata": {
        "id": "UJrI4CmC3HLT"
      },
      "source": [
        "pd.set_option('display.max_colwidth', 200)"
      ],
      "id": "UJrI4CmC3HLT",
      "execution_count": null,
      "outputs": []
    },
    {
      "cell_type": "code",
      "metadata": {
        "colab": {
          "base_uri": "https://localhost:8080/",
          "height": 497
        },
        "id": "xLvmsHRT3IYw",
        "outputId": "496477fe-65ba-49f9-9d3c-0f160416e1ad"
      },
      "source": [
        "pred_df_it_1.head(15)"
      ],
      "id": "xLvmsHRT3IYw",
      "execution_count": null,
      "outputs": [
        {
          "output_type": "execute_result",
          "data": {
            "text/html": [
              "<div>\n",
              "<style scoped>\n",
              "    .dataframe tbody tr th:only-of-type {\n",
              "        vertical-align: middle;\n",
              "    }\n",
              "\n",
              "    .dataframe tbody tr th {\n",
              "        vertical-align: top;\n",
              "    }\n",
              "\n",
              "    .dataframe thead th {\n",
              "        text-align: right;\n",
              "    }\n",
              "</style>\n",
              "<table border=\"1\" class=\"dataframe\">\n",
              "  <thead>\n",
              "    <tr style=\"text-align: right;\">\n",
              "      <th></th>\n",
              "      <th>actual</th>\n",
              "      <th>predicted</th>\n",
              "    </tr>\n",
              "  </thead>\n",
              "  <tbody>\n",
              "    <tr>\n",
              "      <th>0</th>\n",
              "      <td>hes married</td>\n",
              "      <td>its it</td>\n",
              "    </tr>\n",
              "    <tr>\n",
              "      <th>1</th>\n",
              "      <td>its my cd</td>\n",
              "      <td>its my job</td>\n",
              "    </tr>\n",
              "    <tr>\n",
              "      <th>2</th>\n",
              "      <td>im tough</td>\n",
              "      <td>im yours</td>\n",
              "    </tr>\n",
              "    <tr>\n",
              "      <th>3</th>\n",
              "      <td>turn it off</td>\n",
              "      <td>come up</td>\n",
              "    </tr>\n",
              "    <tr>\n",
              "      <th>4</th>\n",
              "      <td>it wasnt me</td>\n",
              "      <td>i was afraid</td>\n",
              "    </tr>\n",
              "    <tr>\n",
              "      <th>5</th>\n",
              "      <td>its warm</td>\n",
              "      <td>its it</td>\n",
              "    </tr>\n",
              "    <tr>\n",
              "      <th>6</th>\n",
              "      <td>can we talk</td>\n",
              "      <td>we can walk</td>\n",
              "    </tr>\n",
              "    <tr>\n",
              "      <th>7</th>\n",
              "      <td>im bipolar</td>\n",
              "      <td>im yours</td>\n",
              "    </tr>\n",
              "    <tr>\n",
              "      <th>8</th>\n",
              "      <td>im loyal</td>\n",
              "      <td>im blind</td>\n",
              "    </tr>\n",
              "    <tr>\n",
              "      <th>9</th>\n",
              "      <td>is it small</td>\n",
              "      <td>its up</td>\n",
              "    </tr>\n",
              "    <tr>\n",
              "      <th>10</th>\n",
              "      <td>they all sat</td>\n",
              "      <td>i didnt up</td>\n",
              "    </tr>\n",
              "    <tr>\n",
              "      <th>11</th>\n",
              "      <td>no one knows</td>\n",
              "      <td>he left</td>\n",
              "    </tr>\n",
              "    <tr>\n",
              "      <th>12</th>\n",
              "      <td>i like him</td>\n",
              "      <td>i need you</td>\n",
              "    </tr>\n",
              "    <tr>\n",
              "      <th>13</th>\n",
              "      <td>we just met</td>\n",
              "      <td>we was read</td>\n",
              "    </tr>\n",
              "    <tr>\n",
              "      <th>14</th>\n",
              "      <td>i envy him</td>\n",
              "      <td>i envy you</td>\n",
              "    </tr>\n",
              "  </tbody>\n",
              "</table>\n",
              "</div>"
            ],
            "text/plain": [
              "          actual      predicted\n",
              "0    hes married       its it  \n",
              "1      its my cd    its my job \n",
              "2       im tough     im yours  \n",
              "3    turn it off      come up  \n",
              "4    it wasnt me  i was afraid \n",
              "5       its warm       its it  \n",
              "6    can we talk   we can walk \n",
              "7     im bipolar     im yours  \n",
              "8       im loyal     im blind  \n",
              "9    is it small       its up  \n",
              "10  they all sat    i didnt up \n",
              "11  no one knows      he left  \n",
              "12    i like him    i need you \n",
              "13   we just met   we was read \n",
              "14    i envy him    i envy you "
            ]
          },
          "metadata": {
            "tags": []
          },
          "execution_count": 96
        }
      ]
    },
    {
      "cell_type": "markdown",
      "metadata": {
        "id": "auRbPADs4HNG"
      },
      "source": [
        "### Italian Baseline Model Metrics"
      ],
      "id": "auRbPADs4HNG"
    },
    {
      "cell_type": "code",
      "metadata": {
        "colab": {
          "base_uri": "https://localhost:8080/"
        },
        "id": "qnigO34d4KO1",
        "outputId": "db229e82-2f11-4c78-a098-fcbeffb0bbf9"
      },
      "source": [
        "#Calculate Italian metrics: accuracy, precision, recall\n",
        "y_pred_it_1 = model_it_1.predict_classes(testItalianX, verbose=0)\n",
        "print(y_pred_it_1)\n",
        "y_pred_it_1 = argmax(y_pred_it_1, axis=1)\n",
        "print(y_pred_it_1)\n",
        "y_test_it_1 = argmax(testEnglishItalianY, axis=1)\n",
        "print(y_test_it_1)\n",
        "\n",
        "from sklearn import metrics\n",
        "print(\"Accuracy:\",metrics.accuracy_score(y_test_it_1, y_pred_it_1))\n",
        "print(\"Precision:\",metrics.precision_score(y_test_it_1, y_pred_it_1, average = \"macro\"))\n",
        "print(\"Recall:\",metrics.recall_score(y_test_it_1, y_pred_it_1, average = \"macro\"))"
      ],
      "id": "qnigO34d4KO1",
      "execution_count": null,
      "outputs": [
        {
          "output_type": "stream",
          "text": [
            "/usr/local/lib/python3.7/dist-packages/tensorflow/python/keras/engine/sequential.py:450: UserWarning: `model.predict_classes()` is deprecated and will be removed after 2021-01-01. Please use instead:* `np.argmax(model.predict(x), axis=-1)`,   if your model does multi-class classification   (e.g. if it uses a `softmax` last-layer activation).* `(model.predict(x) > 0.5).astype(\"int32\")`,   if your model does binary classification   (e.g. if it uses a `sigmoid` last-layer activation).\n",
            "  warnings.warn('`model.predict_classes()` is deprecated and '\n"
          ],
          "name": "stderr"
        },
        {
          "output_type": "stream",
          "text": [
            "[[ 11   4   0   0]\n",
            " [ 11  89 301   0]\n",
            " [  2 213   0   0]\n",
            " ...\n",
            " [ 24  75   0   0]\n",
            " [ 24  15   0   0]\n",
            " [ 48   8   0   0]]\n",
            "[0 2 1 ... 1 0 0]\n",
            "[1 2 1 ... 1 0 0]\n",
            "Accuracy: 0.7136431784107946\n",
            "Precision: 0.6951588709401708\n",
            "Recall: 0.6169793269061308\n"
          ],
          "name": "stdout"
        }
      ]
    },
    {
      "cell_type": "code",
      "metadata": {
        "colab": {
          "base_uri": "https://localhost:8080/"
        },
        "id": "cQyhshIX4KUi",
        "outputId": "fe017155-63d0-41e3-c3da-95fe6e31ee35"
      },
      "source": [
        "#Training accuracy\n",
        "metricsModelIt1 = model_it_1.evaluate(trainItalianX, trainEnglishItalianY, batch_size=512, return_dict=True)\n",
        "print(metricsModelIt1)"
      ],
      "id": "cQyhshIX4KUi",
      "execution_count": null,
      "outputs": [
        {
          "output_type": "stream",
          "text": [
            "16/16 [==============================] - 2s 18ms/step - loss: 1.2531 - accuracy: 0.7280\n",
            "{'loss': 1.2530708312988281, 'accuracy': 0.7279687523841858}\n"
          ],
          "name": "stdout"
        }
      ]
    },
    {
      "cell_type": "code",
      "metadata": {
        "colab": {
          "base_uri": "https://localhost:8080/"
        },
        "id": "MMYoaL-j4Kiv",
        "outputId": "0d97f64c-27f0-4dac-b1e5-562550b4c2ed"
      },
      "source": [
        "#Test accuracy\n",
        "_, accuracy = model_it_1.evaluate(testItalianX, testEnglishItalianY, batch_size=512)\n",
        "print('Test accuracy: %.2f' % (accuracy*100))"
      ],
      "id": "MMYoaL-j4Kiv",
      "execution_count": null,
      "outputs": [
        {
          "output_type": "stream",
          "text": [
            "4/4 [==============================] - 0s 14ms/step - loss: 2.1090 - accuracy: 0.6289\n",
            "Test accuracy: 62.89\n"
          ],
          "name": "stdout"
        }
      ]
    },
    {
      "cell_type": "code",
      "metadata": {
        "colab": {
          "base_uri": "https://localhost:8080/"
        },
        "id": "r4adRYpC4KxR",
        "outputId": "fe9eb269-4bfd-45fc-dc4b-94bfce141f91"
      },
      "source": [
        "# calculate bleu metric\n",
        "\n",
        "references_it_1 = pred_df_it_1.actual\n",
        "candidates_it_1 = pred_df_it_1.predicted\n",
        "score_it_1 = corpus_bleu(references_it_1, candidates_it_1, weights=(1,0,0,0))\n",
        "print(score_it_1)"
      ],
      "id": "r4adRYpC4KxR",
      "execution_count": null,
      "outputs": [
        {
          "output_type": "stream",
          "text": [
            "0.47988070441204317\n"
          ],
          "name": "stdout"
        },
        {
          "output_type": "stream",
          "text": [
            "/usr/local/lib/python3.7/dist-packages/nltk/translate/bleu_score.py:490: UserWarning: \n",
            "Corpus/Sentence contains 0 counts of 2-gram overlaps.\n",
            "BLEU scores might be undesirable; use SmoothingFunction().\n",
            "  warnings.warn(_msg)\n"
          ],
          "name": "stderr"
        }
      ]
    },
    {
      "cell_type": "code",
      "metadata": {
        "colab": {
          "base_uri": "https://localhost:8080/"
        },
        "id": "twR0RKHs4K67",
        "outputId": "5c65177c-c885-4191-db10-9c35ff1aeb3d"
      },
      "source": [
        "#average BLEU score\n",
        "bleuScoreMeanIta1 = evaluate_test_model1(references_it_1, candidates_it_1)\n"
      ],
      "id": "twR0RKHs4K67",
      "execution_count": null,
      "outputs": [
        {
          "output_type": "stream",
          "text": [
            "/usr/local/lib/python3.7/dist-packages/nltk/translate/bleu_score.py:490: UserWarning: \n",
            "Corpus/Sentence contains 0 counts of 2-gram overlaps.\n",
            "BLEU scores might be undesirable; use SmoothingFunction().\n",
            "  warnings.warn(_msg)\n"
          ],
          "name": "stderr"
        }
      ]
    },
    {
      "cell_type": "code",
      "metadata": {
        "colab": {
          "base_uri": "https://localhost:8080/"
        },
        "id": "e4htaTlE4LDn",
        "outputId": "be9a68e5-f438-49ef-e3d8-70d0d713bede"
      },
      "source": [
        "print(\"Average BLEU score on test data for Italian model 1: \", bleuScoreMeanIta1)"
      ],
      "id": "e4htaTlE4LDn",
      "execution_count": null,
      "outputs": [
        {
          "output_type": "stream",
          "text": [
            "Average BLEU score on test data for Italian model 1:  0.6123724356957946\n"
          ],
          "name": "stdout"
        }
      ]
    },
    {
      "cell_type": "code",
      "metadata": {
        "colab": {
          "base_uri": "https://localhost:8080/"
        },
        "id": "sj8R2yy7M4Oz",
        "outputId": "ad303811-9971-49b6-b40f-2117ce4b0c1e"
      },
      "source": [
        "#Get ROUGE scores.\n",
        "rouge = Rouge()\n",
        "scores_it_1 = rouge.get_scores(candidates_it_1, references_it_1, avg = True)\n",
        "print(scores_it_1)"
      ],
      "id": "sj8R2yy7M4Oz",
      "execution_count": null,
      "outputs": [
        {
          "output_type": "stream",
          "text": [
            "{'rouge-1': {'f': 0.43920063408175014, 'p': 0.4605197401299342, 'r': 0.427952690321506}, 'rouge-2': {'f': 0.16243544784550154, 'p': 0.17283025154089623, 'r': 0.15733799766783274}, 'rouge-l': {'f': 0.4348837449077892, 'p': 0.45627186406796527, 'r': 0.4236215225720477}}\n"
          ],
          "name": "stdout"
        }
      ]
    },
    {
      "cell_type": "markdown",
      "metadata": {
        "id": "k2E8FB815AV7"
      },
      "source": [
        "## Italian Final Model"
      ],
      "id": "k2E8FB815AV7"
    },
    {
      "cell_type": "code",
      "metadata": {
        "id": "Vol6TmCZ5RxY"
      },
      "source": [
        "#Model 2: An attempt at an encoder-decoder model. uses average BLEU as metric.\n",
        "lines_it = io.open(italian_path, encoding = 'UTF-8').read().split('\\n')"
      ],
      "id": "Vol6TmCZ5RxY",
      "execution_count": null,
      "outputs": []
    },
    {
      "cell_type": "code",
      "metadata": {
        "colab": {
          "base_uri": "https://localhost:8080/"
        },
        "id": "msixz39S5R3-",
        "outputId": "a12d8708-bd06-4684-bf47-e5adf4095c75"
      },
      "source": [
        "#Get data\n",
        "italian, english_it = get_data(lines_it)\n",
        "#get manageable sample\n",
        "italian = italian[:10000:]\n",
        "#get manageable sample\n",
        "english_it = english_it[:10000:]\n",
        "print(italian[0:10])"
      ],
      "id": "msixz39S5R3-",
      "execution_count": null,
      "outputs": [
        {
          "output_type": "stream",
          "text": [
            "100%|██████████| 10002/10002 [00:00<00:00, 63158.37it/s]"
          ],
          "name": "stderr"
        },
        {
          "output_type": "stream",
          "text": [
            "['<start> Ciao <end>', '<start> Corri <end>', '<start> Corra <end>', '<start> Correte <end>', '<start> Chi <end>', '<start> Wow <end>', '<start> Salta <end>', '<start> Salti <end>', '<start> Saltate <end>', '<start> Salta. <end>']\n"
          ],
          "name": "stdout"
        },
        {
          "output_type": "stream",
          "text": [
            "\n"
          ],
          "name": "stderr"
        }
      ]
    },
    {
      "cell_type": "code",
      "metadata": {
        "id": "UWHvmd_a5SH1"
      },
      "source": [
        "#train-test split\n",
        "ita_tr, ita_te, eng_it_tr, eng_it_te = train_test_split(italian, english_it, test_size = 0.2, random_state = 42)"
      ],
      "id": "UWHvmd_a5SH1",
      "execution_count": null,
      "outputs": []
    },
    {
      "cell_type": "code",
      "metadata": {
        "id": "6vzkI68-6Gah"
      },
      "source": [
        "#Tokenizing, padding input language\n",
        "ita_token = Tokenizer(filters = '', lower=False)\n",
        "ita_token.fit_on_texts(ita_tr)\n",
        "ita_tokenized = ita_token.texts_to_sequences(ita_tr)\n",
        "ita_padded = pad_sequences(ita_tokenized, padding='post')"
      ],
      "id": "6vzkI68-6Gah",
      "execution_count": null,
      "outputs": []
    },
    {
      "cell_type": "code",
      "metadata": {
        "id": "pV30rpxl6GpR"
      },
      "source": [
        "#tokenizing and padding target language\n",
        "eng_it_token = Tokenizer(filters = '', lower = False)\n",
        "eng_it_token.fit_on_texts(eng_it_tr)\n",
        "eng_it_tokenized = eng_it_token.texts_to_sequences(eng_it_tr)\n",
        "eng_it_padded = pad_sequences(eng_it_tokenized, padding='post')"
      ],
      "id": "pV30rpxl6GpR",
      "execution_count": null,
      "outputs": []
    },
    {
      "cell_type": "code",
      "metadata": {
        "id": "gv-EvQew6GuS"
      },
      "source": [
        "#get vocab size, sequence length\n",
        "num_ip_tokens = len(ita_token.word_index) #Italian\n",
        "num_op_tokens = len(eng_it_token.word_index) #English\n",
        "max_len_ip = ita_padded.shape[1] #Italian\n",
        "max_len_op = eng_it_padded.shape[1] #English"
      ],
      "id": "gv-EvQew6GuS",
      "execution_count": null,
      "outputs": []
    },
    {
      "cell_type": "code",
      "metadata": {
        "id": "zNBW2p3b6jyW"
      },
      "source": [
        "#Create tf.data dataset for Italian and set constants\n",
        "BUFFER_SIZE = len(ita_padded)\n",
        "BATCH_SIZE = 64\n",
        "N_BATCH = BUFFER_SIZE // BATCH_SIZE\n",
        "embedding_dim = 256\n",
        "units = 512\n",
        "\n",
        "dataset_it = tf.data.Dataset.from_tensor_slices((ita_padded, eng_it_padded)).shuffle(BUFFER_SIZE)\n",
        "dataset_it = dataset_it.batch(BATCH_SIZE, drop_remainder=True)"
      ],
      "id": "zNBW2p3b6jyW",
      "execution_count": null,
      "outputs": []
    },
    {
      "cell_type": "code",
      "metadata": {
        "id": "iND9j3vs6j4x"
      },
      "source": [
        "#Create encoder and decoder\n",
        "encoder = Encoder(num_ip_tokens + 1, embedding_dim, units, BATCH_SIZE)\n",
        "decoder = Decoder(num_op_tokens + 1, embedding_dim, units, BATCH_SIZE)"
      ],
      "id": "iND9j3vs6j4x",
      "execution_count": null,
      "outputs": []
    },
    {
      "cell_type": "code",
      "metadata": {
        "id": "XibFewjA6j74"
      },
      "source": [
        "#Define optimizer and loss function for Italian\n",
        "optimizer_it = tf.keras.optimizers.Adam()\n",
        "\n",
        "def loss_function_it(real, pred):\n",
        "  mask = 1 - np.equal(real, 0)\n",
        "  loss_ = tf.nn.sparse_softmax_cross_entropy_with_logits(labels = real, logits = pred)*mask\n",
        "  return tf.reduce_mean(loss_)\n",
        "#Create checkpoint for Italian\n",
        "checkpoint_dir_it = '/content/drive/MyDrive/ItalianToEnglish/CheckPoint'\n",
        "checkpoint_prefix_it = os.path.join(checkpoint_dir_it, 'ckpt')\n",
        "checkpoint_it = Checkpoint(optimizer=optimizer_it, encoder=encoder, decoder=decoder)"
      ],
      "id": "XibFewjA6j74",
      "execution_count": null,
      "outputs": []
    },
    {
      "cell_type": "code",
      "metadata": {
        "colab": {
          "base_uri": "https://localhost:8080/"
        },
        "id": "oUzAOCBS6j__",
        "outputId": "1ae9b11d-07bf-4603-b145-be874c46933b"
      },
      "source": [
        "#Train Italian model\n",
        "EPOCH = 20\n",
        "for epoch in range(EPOCH) :\n",
        "  start = time.time()\n",
        "  #Getting initial encoder states (all zeros)\n",
        "  hidden = encoder.initial_hidden_state()\n",
        "  total_loss = 0\n",
        "  for (batch, (inp, targ)) in enumerate(dataset_it) :\n",
        "    loss = 0\n",
        "    with tf.GradientTape() as tape :\n",
        "      enc_output , enc_hidden = encoder(inp, hidden)\n",
        "      #Setting final encoder states as initial decoder states\n",
        "      dec_hidden = enc_hidden\n",
        "      # Teacher forcing - feeding the target as the next input\n",
        "      #Passing '<start>' token as initial token\n",
        "      dec_input = tf.expand_dims([eng_token.word_index['<start>']]*BATCH_SIZE, 1)\n",
        "      for t in range(1, targ.shape[1]) :\n",
        "        # passing enc_output to the decoder\n",
        "        predictions, dec_hidden, _ = decoder(dec_input, dec_hidden, enc_output)\n",
        "        loss += loss_function_it(targ[:,t], predictions)\n",
        "        # using teacher forcing\n",
        "        dec_input = tf.expand_dims(targ[:,t], 1)\n",
        "    batch_loss = (loss / int(targ.shape[1]))\n",
        "    total_loss += batch_loss        \n",
        "    variables = encoder.variables + decoder.variables\n",
        "    gradients = tape.gradient(loss, variables)\n",
        "    optimizer_it.apply_gradients(zip(gradients, variables))\n",
        "    if batch % 1000 == 0 :\n",
        "      print('Epoch {} Batch {} Loss {:.4f}'.format(epoch + 1, batch, batch_loss.numpy()))\n",
        "    # saving (checkpoint)  the model every 2 epochs\n",
        "  if (epoch + 1)%2 == 0 :\n",
        "    checkpoint_it.save(file_prefix=checkpoint_prefix_it)\n",
        "  print('Epoch {} Loss {:.4f}'.format(epoch + 1, total_loss / N_BATCH))\n",
        "  print('Time taken for 1 epoch {0:0.2f} minutes\\n'.format((time.time() - start)/60))"
      ],
      "id": "oUzAOCBS6j__",
      "execution_count": null,
      "outputs": [
        {
          "output_type": "stream",
          "text": [
            "Epoch 1 Batch 0 Loss 4.2111\n",
            "Epoch 1 Loss 2.6235\n",
            "Time taken for 1 epoch 0.26 minutes\n",
            "\n",
            "Epoch 2 Batch 0 Loss 2.1392\n",
            "Epoch 2 Loss 2.0175\n",
            "Time taken for 1 epoch 0.25 minutes\n",
            "\n",
            "Epoch 3 Batch 0 Loss 1.7327\n",
            "Epoch 3 Loss 1.7140\n",
            "Time taken for 1 epoch 0.25 minutes\n",
            "\n",
            "Epoch 4 Batch 0 Loss 1.5125\n",
            "Epoch 4 Loss 1.4176\n",
            "Time taken for 1 epoch 0.26 minutes\n",
            "\n",
            "Epoch 5 Batch 0 Loss 1.3103\n",
            "Epoch 5 Loss 1.1810\n",
            "Time taken for 1 epoch 0.26 minutes\n",
            "\n",
            "Epoch 6 Batch 0 Loss 0.9949\n",
            "Epoch 6 Loss 0.9814\n",
            "Time taken for 1 epoch 0.25 minutes\n",
            "\n",
            "Epoch 7 Batch 0 Loss 0.8432\n",
            "Epoch 7 Loss 0.8097\n",
            "Time taken for 1 epoch 0.25 minutes\n",
            "\n",
            "Epoch 8 Batch 0 Loss 0.6800\n",
            "Epoch 8 Loss 0.6523\n",
            "Time taken for 1 epoch 0.25 minutes\n",
            "\n",
            "Epoch 9 Batch 0 Loss 0.4693\n",
            "Epoch 9 Loss 0.5194\n",
            "Time taken for 1 epoch 0.25 minutes\n",
            "\n",
            "Epoch 10 Batch 0 Loss 0.3815\n",
            "Epoch 10 Loss 0.4028\n",
            "Time taken for 1 epoch 0.25 minutes\n",
            "\n",
            "Epoch 11 Batch 0 Loss 0.2299\n",
            "Epoch 11 Loss 0.3087\n",
            "Time taken for 1 epoch 0.25 minutes\n",
            "\n",
            "Epoch 12 Batch 0 Loss 0.2226\n",
            "Epoch 12 Loss 0.2398\n",
            "Time taken for 1 epoch 0.24 minutes\n",
            "\n",
            "Epoch 13 Batch 0 Loss 0.1592\n",
            "Epoch 13 Loss 0.1913\n",
            "Time taken for 1 epoch 0.24 minutes\n",
            "\n",
            "Epoch 14 Batch 0 Loss 0.1033\n",
            "Epoch 14 Loss 0.1533\n",
            "Time taken for 1 epoch 0.24 minutes\n",
            "\n",
            "Epoch 15 Batch 0 Loss 0.1178\n",
            "Epoch 15 Loss 0.1292\n",
            "Time taken for 1 epoch 0.24 minutes\n",
            "\n",
            "Epoch 16 Batch 0 Loss 0.1207\n",
            "Epoch 16 Loss 0.1096\n",
            "Time taken for 1 epoch 0.26 minutes\n",
            "\n",
            "Epoch 17 Batch 0 Loss 0.1049\n",
            "Epoch 17 Loss 0.0952\n",
            "Time taken for 1 epoch 0.24 minutes\n",
            "\n",
            "Epoch 18 Batch 0 Loss 0.1105\n",
            "Epoch 18 Loss 0.0842\n",
            "Time taken for 1 epoch 0.24 minutes\n",
            "\n",
            "Epoch 19 Batch 0 Loss 0.0635\n",
            "Epoch 19 Loss 0.0787\n",
            "Time taken for 1 epoch 0.24 minutes\n",
            "\n",
            "Epoch 20 Batch 0 Loss 0.0614\n",
            "Epoch 20 Loss 0.0719\n",
            "Time taken for 1 epoch 0.25 minutes\n",
            "\n"
          ],
          "name": "stdout"
        }
      ]
    },
    {
      "cell_type": "markdown",
      "metadata": {
        "id": "PwbUZcXQ87fL"
      },
      "source": [
        "### Italian Final Model Metrics"
      ],
      "id": "PwbUZcXQ87fL"
    },
    {
      "cell_type": "code",
      "metadata": {
        "colab": {
          "base_uri": "https://localhost:8080/"
        },
        "id": "vI41Vp_09HWh",
        "outputId": "0fbaef0f-c150-4063-a087-7bd4dbbf9336"
      },
      "source": [
        "#Obtain average BLEU score for Italian on the test data\n",
        "bleuScoreMeanIta, referencesIt2, hypothesesIt2 = evaluate_test_model2(ita_te, eng_it_te, encoder, decoder, ita_token, eng_it_token, max_len_ip, max_len_op)"
      ],
      "id": "vI41Vp_09HWh",
      "execution_count": null,
      "outputs": [
        {
          "output_type": "stream",
          "text": [
            "/usr/local/lib/python3.7/dist-packages/nltk/translate/bleu_score.py:490: UserWarning: \n",
            "Corpus/Sentence contains 0 counts of 2-gram overlaps.\n",
            "BLEU scores might be undesirable; use SmoothingFunction().\n",
            "  warnings.warn(_msg)\n"
          ],
          "name": "stderr"
        }
      ]
    },
    {
      "cell_type": "code",
      "metadata": {
        "colab": {
          "base_uri": "https://localhost:8080/"
        },
        "id": "GNdH3HIM9HaO",
        "outputId": "8d484724-977c-47dc-dbbe-9e84adad9563"
      },
      "source": [
        "print(\"Average BLEU score on test data for Italian model 2: \", bleuScoreMeanIta)"
      ],
      "id": "GNdH3HIM9HaO",
      "execution_count": null,
      "outputs": [
        {
          "output_type": "stream",
          "text": [
            "Average BLEU score on test data for Italian model 2:  0.7646796413477719\n"
          ],
          "name": "stdout"
        }
      ]
    },
    {
      "cell_type": "code",
      "metadata": {
        "colab": {
          "base_uri": "https://localhost:8080/"
        },
        "id": "IzaVX_xSGb7J",
        "outputId": "c042833d-2b93-4c9b-8718-01d594d28b3d"
      },
      "source": [
        "#Get ROUGE scores.\n",
        "rouge = Rouge()\n",
        "scores_it_2 = rouge.get_scores(hypothesesIt2, referencesIt2, avg = True)\n",
        "print(scores_it_2)"
      ],
      "id": "IzaVX_xSGb7J",
      "execution_count": null,
      "outputs": [
        {
          "output_type": "stream",
          "text": [
            "{'rouge-1': {'f': 0.19482698197956977, 'p': 0.28539166666666627, 'r': 0.15005833333333254}, 'rouge-2': {'f': 0.07342857078081047, 'p': 0.12225000000000003, 'r': 0.05320833333333328}, 'rouge-l': {'f': 0.19571745818978037, 'p': 0.2931416666666664, 'r': 0.15005833333333254}}\n"
          ],
          "name": "stdout"
        }
      ]
    },
    {
      "cell_type": "markdown",
      "metadata": {
        "id": "8pgkamwMDtBt"
      },
      "source": [
        "# French Models"
      ],
      "id": "8pgkamwMDtBt"
    },
    {
      "cell_type": "markdown",
      "metadata": {
        "id": "iCVK7Rmg94Nf"
      },
      "source": [
        "## French Preprocessing"
      ],
      "id": "iCVK7Rmg94Nf"
    },
    {
      "cell_type": "code",
      "metadata": {
        "id": "z-elMUOJ97ui"
      },
      "source": [
        "#Make sure this file is uploaded to your Google Drive in the same \n",
        "#folder as this notebook.\n",
        "french_path = '/content/gdrive/MyDrive/fra.txt'"
      ],
      "id": "z-elMUOJ97ui",
      "execution_count": null,
      "outputs": []
    },
    {
      "cell_type": "code",
      "metadata": {
        "id": "q0VyRxHH3dV7"
      },
      "source": [
        "#load French data\n",
        "data = read_text(french_path)\n",
        "fra_eng = to_lines(data)\n",
        "fra_eng = array(fra_eng)"
      ],
      "id": "q0VyRxHH3dV7",
      "execution_count": null,
      "outputs": []
    },
    {
      "cell_type": "code",
      "metadata": {
        "id": "PGnu6wax4W1u"
      },
      "source": [
        "#get manageable sample\n",
        "fra_eng = fra_eng[:10000,:]"
      ],
      "id": "PGnu6wax4W1u",
      "execution_count": null,
      "outputs": []
    },
    {
      "cell_type": "code",
      "metadata": {
        "id": "ZblChkSg4cZT"
      },
      "source": [
        "#Remove punctuation\n",
        "fra_eng[:,0] = [s.translate(str.maketrans('','', string.punctuation)) for s in fra_eng[:,0]]\n",
        "fra_eng[:,1] = [s.translate(str.maketrans('','', string.punctuation)) for s in fra_eng[:,1]]"
      ],
      "id": "ZblChkSg4cZT",
      "execution_count": null,
      "outputs": []
    },
    {
      "cell_type": "code",
      "metadata": {
        "id": "2CT4Rqfj4cfK"
      },
      "source": [
        "#Convert to lowercase.\n",
        "for i in range(len(fra_eng)):\n",
        "    fra_eng[i,0]=fra_eng[i,0].lower()\n",
        "    fra_eng[i,1]=fra_eng[i,1].lower()"
      ],
      "id": "2CT4Rqfj4cfK",
      "execution_count": null,
      "outputs": []
    },
    {
      "cell_type": "code",
      "metadata": {
        "colab": {
          "base_uri": "https://localhost:8080/"
        },
        "id": "Zefgz5K3bS0V",
        "outputId": "649e03fb-49a3-4500-911c-2d3d9fa21941"
      },
      "source": [
        "#Analyze vocabulary of French dataset.\n",
        "french_words_counter = collections.Counter([word for sentence in fra_eng[:,1] for word in sentence.split()])\n",
        "english_words_counter_fra = collections.Counter([word for sentence in fra_eng[:,0] for word in sentence.split()])\n",
        "print('{} English words/tokens in English-French corpus, sample'.format(len([word for sentence in fra_eng[:,0]\n",
        "                                                                     for word in sentence.split()])))\n",
        "print('{} unique English words/tokens in English-French corpus, sample'.format(len(english_words_counter_fra)))\n",
        "print('10 most common English word in the English-French sample corpus, stop words included:')\n",
        "print('\"\"'+'\" \"'.join(list(zip(*english_words_counter_fra.most_common(10)))[0])+'\"')\n",
        "print('{} French words/tokens in English-French sample corpus'.format(len([word for sentence in fra_eng[:,1] \n",
        "                                                                   for word in sentence.split()])))\n",
        "print('{} unique French words/tokens in English-French sample corpus'.format(len(french_words_counter)))\n",
        "print('10 most common French words in the English-French sample corpus, stop words included:')\n",
        "print('\"'+'\" \"'.join(list(zip(*french_words_counter.most_common(10)))[0])+'\"')"
      ],
      "id": "Zefgz5K3bS0V",
      "execution_count": null,
      "outputs": [
        {
          "output_type": "stream",
          "text": [
            "27016 English words/tokens in English-French corpus, sample\n",
            "2063 unique English words/tokens in English-French corpus, sample\n",
            "10 most common English word in the English-French sample corpus, stop words included:\n",
            "\"\"i\" \"it\" \"tom\" \"you\" \"im\" \"a\" \"is\" \"me\" \"he\" \"go\"\n",
            "30576 French words/tokens in English-French sample corpus\n",
            "4518 unique French words/tokens in English-French sample corpus\n",
            "10 most common French words in the English-French sample corpus, stop words included:\n",
            "\"je\" \"tom\" \"suis\" \"nous\" \"il\" \"pas\" \"cest\" \"vous\" \"est\" \"jai\"\n"
          ],
          "name": "stdout"
        }
      ]
    },
    {
      "cell_type": "code",
      "metadata": {
        "id": "aYfOe7mqbS5T"
      },
      "source": [
        "#create empty lists\n",
        "eng_l_fra_sample = []\n",
        "fra_l_sample = []\n",
        "#populate lists w/ sentence lengths\n",
        "for i in fra_eng[:,0]:\n",
        "    eng_l_fra_sample.append(len(i.split()))\n",
        "for i in fra_eng[:,1]:\n",
        "    fra_l_sample.append(len(i.split()))"
      ],
      "id": "aYfOe7mqbS5T",
      "execution_count": null,
      "outputs": []
    },
    {
      "cell_type": "code",
      "metadata": {
        "colab": {
          "base_uri": "https://localhost:8080/"
        },
        "id": "wwpqjBu3bS-y",
        "outputId": "a1d302d8-38cc-4bd9-a486-956af9157a19"
      },
      "source": [
        "#Display descriptive statistics for English and French sentence lengths\n",
        "df_eng_fra_l_sample = pd.DataFrame(eng_l_fra_sample)\n",
        "print(df_eng_fra_l_sample.describe())\n",
        "print(\"Average English sentence length in English-French sample corpus: \",statistics.mean(df_eng_fra_l_sample.iloc[:,0]))\n",
        "\n",
        "df_fra_l_sample = pd.DataFrame(fra_l_sample)\n",
        "print(df_fra_l_sample.describe())\n",
        "print(\"Average French sentence length in English-French sample corpus: \", statistics.mean(df_fra_l_sample.iloc[:,0]))"
      ],
      "id": "wwpqjBu3bS-y",
      "execution_count": null,
      "outputs": [
        {
          "output_type": "stream",
          "text": [
            "                  0\n",
            "count  10000.000000\n",
            "mean       2.701600\n",
            "std        0.667085\n",
            "min        1.000000\n",
            "25%        2.000000\n",
            "50%        3.000000\n",
            "75%        3.000000\n",
            "max        5.000000\n",
            "Average English sentence length in English-French sample corpus:  2.7016\n",
            "                  0\n",
            "count  10000.000000\n",
            "mean       3.057600\n",
            "std        1.175083\n",
            "min        1.000000\n",
            "25%        2.000000\n",
            "50%        3.000000\n",
            "75%        4.000000\n",
            "max       10.000000\n",
            "Average French sentence length in English-French sample corpus:  3.0576\n"
          ],
          "name": "stdout"
        }
      ]
    },
    {
      "cell_type": "code",
      "metadata": {
        "id": "9pkGaYwRbTEF"
      },
      "source": [
        "#create length dataframe\n",
        "length_df_fra_sample = pd.DataFrame({'eng':eng_l_fra_sample, 'fra':fra_l_sample})"
      ],
      "id": "9pkGaYwRbTEF",
      "execution_count": null,
      "outputs": []
    },
    {
      "cell_type": "code",
      "metadata": {
        "colab": {
          "base_uri": "https://localhost:8080/",
          "height": 281
        },
        "id": "EAPSGFPVc2bR",
        "outputId": "dfeb19f9-7610-48f2-f3e5-18ad8b73ccca"
      },
      "source": [
        "#examine distribution of lengths\n",
        "length_df_fra_sample.hist(bins=30)\n",
        "plt.show()"
      ],
      "id": "EAPSGFPVc2bR",
      "execution_count": null,
      "outputs": [
        {
          "output_type": "display_data",
          "data": {
            "image/png": "[encoded data removed]",
            "text/plain": [
              "<Figure size 432x288 with 2 Axes>"
            ]
          },
          "metadata": {
            "tags": [],
            "needs_background": "light"
          }
        }
      ]
    },
    {
      "cell_type": "code",
      "metadata": {
        "colab": {
          "base_uri": "https://localhost:8080/"
        },
        "id": "qAogp4L74cjf",
        "outputId": "924c4880-3c40-465b-fea7-d0096b36b373"
      },
      "source": [
        "#prep english tokenizer for french translation\n",
        "eng_fr_tokenizer = tokenization(fra_eng[:,0])\n",
        "#get english vocab size for french translation\n",
        "eng_fr_vocab_size = len(eng_fr_tokenizer.word_index)+1\n",
        "eng_fr_length = max_length(fra_eng[:,0])\n",
        "print(\"English vocabulary size: %d\" % eng_fr_vocab_size)"
      ],
      "id": "qAogp4L74cjf",
      "execution_count": null,
      "outputs": [
        {
          "output_type": "stream",
          "text": [
            "English vocabulary size: 2064\n"
          ],
          "name": "stdout"
        }
      ]
    },
    {
      "cell_type": "code",
      "metadata": {
        "colab": {
          "base_uri": "https://localhost:8080/"
        },
        "id": "pwJkxYAw4cnw",
        "outputId": "8108377c-d26f-4a1d-b2e7-a1ecaa2cc185"
      },
      "source": [
        "#prepare french tokenizer\n",
        "fra_tokenizer = tokenization(fra_eng[:, 1])\n",
        "fra_vocab_size = len(fra_tokenizer.word_index) + 1\n",
        "\n",
        "fra_length = max_length(fra_eng[:,1])\n",
        "print('French Vocabulary Size: %d' % fra_vocab_size)"
      ],
      "id": "pwJkxYAw4cnw",
      "execution_count": null,
      "outputs": [
        {
          "output_type": "stream",
          "text": [
            "French Vocabulary Size: 4769\n"
          ],
          "name": "stdout"
        }
      ]
    },
    {
      "cell_type": "markdown",
      "metadata": {
        "id": "emsHAe7y5BUm"
      },
      "source": [
        "## French Baseline Model"
      ],
      "id": "emsHAe7y5BUm"
    },
    {
      "cell_type": "code",
      "metadata": {
        "id": "5zWl8QaN8yuA"
      },
      "source": [
        "#Get training, test data\n",
        "trainFra, testFra = train_test_split(fra_eng, test_size=0.2, random_state=12)"
      ],
      "id": "5zWl8QaN8yuA",
      "execution_count": null,
      "outputs": []
    },
    {
      "cell_type": "code",
      "metadata": {
        "id": "H7CIBJTS8yyY"
      },
      "source": [
        "#prepare training data\n",
        "trainFrenchX = encode_sequences(fra_tokenizer, fra_length, trainFra[:,1])\n",
        "trainEnglishFrenchY = encode_sequences(eng_fr_tokenizer, eng_fr_length, trainFra[:,0])"
      ],
      "id": "H7CIBJTS8yyY",
      "execution_count": null,
      "outputs": []
    },
    {
      "cell_type": "code",
      "metadata": {
        "id": "RUwuOkYA8zAM"
      },
      "source": [
        "#prepare test data\n",
        "testFrenchX = encode_sequences(fra_tokenizer, fra_length, testFra[:,1])\n",
        "testEnglishFrenchY=encode_sequences(eng_fr_tokenizer, eng_fr_length, testFra[:,0])"
      ],
      "id": "RUwuOkYA8zAM",
      "execution_count": null,
      "outputs": []
    },
    {
      "cell_type": "code",
      "metadata": {
        "colab": {
          "base_uri": "https://localhost:8080/"
        },
        "id": "Nw7wmefg8zEF",
        "outputId": "e1895c27-ba9c-4f23-b6ec-06a69f80a5ca"
      },
      "source": [
        "#Build model\n",
        "model_fr_1 = build_model1(fra_vocab_size, eng_fr_vocab_size, fra_length, eng_fr_length, 512)\n",
        "model_fr_1.summary()\n",
        "rms_fr_1 = optimizers.RMSprop(lr=0.001)\n",
        "model_fr_1.compile(optimizer=rms_fr_1, loss='sparse_categorical_crossentropy', metrics = ['accuracy'])"
      ],
      "id": "Nw7wmefg8zEF",
      "execution_count": null,
      "outputs": [
        {
          "output_type": "stream",
          "text": [
            "Model: \"sequential_2\"\n",
            "_________________________________________________________________\n",
            "Layer (type)                 Output Shape              Param #   \n",
            "=================================================================\n",
            "embedding_6 (Embedding)      (None, 10, 512)           2441728   \n",
            "_________________________________________________________________\n",
            "lstm_4 (LSTM)                (None, 512)               2099200   \n",
            "_________________________________________________________________\n",
            "repeat_vector_2 (RepeatVecto (None, 5, 512)            0         \n",
            "_________________________________________________________________\n",
            "lstm_5 (LSTM)                (None, 5, 512)            2099200   \n",
            "_________________________________________________________________\n",
            "dense_10 (Dense)             (None, 5, 2064)           1058832   \n",
            "=================================================================\n",
            "Total params: 7,698,960\n",
            "Trainable params: 7,698,960\n",
            "Non-trainable params: 0\n",
            "_________________________________________________________________\n"
          ],
          "name": "stdout"
        }
      ]
    },
    {
      "cell_type": "code",
      "metadata": {
        "colab": {
          "base_uri": "https://localhost:8080/"
        },
        "id": "kb8oq2qb8zI2",
        "outputId": "a877ec5d-178f-441e-963a-87e98b64bf46"
      },
      "source": [
        "#Train French model\n",
        "filename_fr_1 = 'model.h1.1_may_21_model1'\n",
        "checkpoint_fr_1 = ModelCheckpoint(filename_fr_1, monitor='val_loss', verbose=1, save_best_only=True, mode='min')\n",
        "history_fr_1 = model_fr_1.fit(trainFrenchX, trainEnglishFrenchY.reshape(trainEnglishFrenchY.shape[0], trainEnglishFrenchY.shape[1],1),\n",
        "                      epochs=30, batch_size=512, validation_split=0.2, callbacks=[checkpoint_fr_1], verbose =1)"
      ],
      "id": "kb8oq2qb8zI2",
      "execution_count": null,
      "outputs": [
        {
          "output_type": "stream",
          "text": [
            "Epoch 1/30\n",
            "13/13 [==============================] - 7s 167ms/step - loss: 6.1489 - accuracy: 0.3526 - val_loss: 3.9340 - val_accuracy: 0.4796\n",
            "\n",
            "Epoch 00001: val_loss improved from inf to 3.93396, saving model to model.h1.1_may_21_model1\n"
          ],
          "name": "stdout"
        },
        {
          "output_type": "stream",
          "text": [
            "WARNING:absl:Found untraced functions such as lstm_cell_8_layer_call_and_return_conditional_losses, lstm_cell_8_layer_call_fn, lstm_cell_9_layer_call_and_return_conditional_losses, lstm_cell_9_layer_call_fn, lstm_cell_8_layer_call_fn while saving (showing 5 of 10). These functions will not be directly callable after loading.\n",
            "WARNING:absl:Found untraced functions such as lstm_cell_8_layer_call_and_return_conditional_losses, lstm_cell_8_layer_call_fn, lstm_cell_9_layer_call_and_return_conditional_losses, lstm_cell_9_layer_call_fn, lstm_cell_8_layer_call_fn while saving (showing 5 of 10). These functions will not be directly callable after loading.\n"
          ],
          "name": "stderr"
        },
        {
          "output_type": "stream",
          "text": [
            "INFO:tensorflow:Assets written to: model.h1.1_may_21_model1/assets\n"
          ],
          "name": "stdout"
        },
        {
          "output_type": "stream",
          "text": [
            "INFO:tensorflow:Assets written to: model.h1.1_may_21_model1/assets\n"
          ],
          "name": "stderr"
        },
        {
          "output_type": "stream",
          "text": [
            "Epoch 2/30\n",
            "13/13 [==============================] - 1s 55ms/step - loss: 3.7393 - accuracy: 0.4862 - val_loss: 3.4403 - val_accuracy: 0.4985\n",
            "\n",
            "Epoch 00002: val_loss improved from 3.93396 to 3.44032, saving model to model.h1.1_may_21_model1\n"
          ],
          "name": "stdout"
        },
        {
          "output_type": "stream",
          "text": [
            "WARNING:absl:Found untraced functions such as lstm_cell_8_layer_call_and_return_conditional_losses, lstm_cell_8_layer_call_fn, lstm_cell_9_layer_call_and_return_conditional_losses, lstm_cell_9_layer_call_fn, lstm_cell_8_layer_call_fn while saving (showing 5 of 10). These functions will not be directly callable after loading.\n",
            "WARNING:absl:Found untraced functions such as lstm_cell_8_layer_call_and_return_conditional_losses, lstm_cell_8_layer_call_fn, lstm_cell_9_layer_call_and_return_conditional_losses, lstm_cell_9_layer_call_fn, lstm_cell_8_layer_call_fn while saving (showing 5 of 10). These functions will not be directly callable after loading.\n"
          ],
          "name": "stderr"
        },
        {
          "output_type": "stream",
          "text": [
            "INFO:tensorflow:Assets written to: model.h1.1_may_21_model1/assets\n"
          ],
          "name": "stdout"
        },
        {
          "output_type": "stream",
          "text": [
            "INFO:tensorflow:Assets written to: model.h1.1_may_21_model1/assets\n"
          ],
          "name": "stderr"
        },
        {
          "output_type": "stream",
          "text": [
            "Epoch 3/30\n",
            "13/13 [==============================] - 1s 55ms/step - loss: 3.3049 - accuracy: 0.4967 - val_loss: 3.2731 - val_accuracy: 0.5010\n",
            "\n",
            "Epoch 00003: val_loss improved from 3.44032 to 3.27313, saving model to model.h1.1_may_21_model1\n"
          ],
          "name": "stdout"
        },
        {
          "output_type": "stream",
          "text": [
            "WARNING:absl:Found untraced functions such as lstm_cell_8_layer_call_and_return_conditional_losses, lstm_cell_8_layer_call_fn, lstm_cell_9_layer_call_and_return_conditional_losses, lstm_cell_9_layer_call_fn, lstm_cell_8_layer_call_fn while saving (showing 5 of 10). These functions will not be directly callable after loading.\n",
            "WARNING:absl:Found untraced functions such as lstm_cell_8_layer_call_and_return_conditional_losses, lstm_cell_8_layer_call_fn, lstm_cell_9_layer_call_and_return_conditional_losses, lstm_cell_9_layer_call_fn, lstm_cell_8_layer_call_fn while saving (showing 5 of 10). These functions will not be directly callable after loading.\n"
          ],
          "name": "stderr"
        },
        {
          "output_type": "stream",
          "text": [
            "INFO:tensorflow:Assets written to: model.h1.1_may_21_model1/assets\n"
          ],
          "name": "stdout"
        },
        {
          "output_type": "stream",
          "text": [
            "INFO:tensorflow:Assets written to: model.h1.1_may_21_model1/assets\n"
          ],
          "name": "stderr"
        },
        {
          "output_type": "stream",
          "text": [
            "Epoch 4/30\n",
            "13/13 [==============================] - 1s 56ms/step - loss: 3.1393 - accuracy: 0.4993 - val_loss: 3.1813 - val_accuracy: 0.5025\n",
            "\n",
            "Epoch 00004: val_loss improved from 3.27313 to 3.18134, saving model to model.h1.1_may_21_model1\n"
          ],
          "name": "stdout"
        },
        {
          "output_type": "stream",
          "text": [
            "WARNING:absl:Found untraced functions such as lstm_cell_8_layer_call_and_return_conditional_losses, lstm_cell_8_layer_call_fn, lstm_cell_9_layer_call_and_return_conditional_losses, lstm_cell_9_layer_call_fn, lstm_cell_8_layer_call_fn while saving (showing 5 of 10). These functions will not be directly callable after loading.\n",
            "WARNING:absl:Found untraced functions such as lstm_cell_8_layer_call_and_return_conditional_losses, lstm_cell_8_layer_call_fn, lstm_cell_9_layer_call_and_return_conditional_losses, lstm_cell_9_layer_call_fn, lstm_cell_8_layer_call_fn while saving (showing 5 of 10). These functions will not be directly callable after loading.\n"
          ],
          "name": "stderr"
        },
        {
          "output_type": "stream",
          "text": [
            "INFO:tensorflow:Assets written to: model.h1.1_may_21_model1/assets\n"
          ],
          "name": "stdout"
        },
        {
          "output_type": "stream",
          "text": [
            "INFO:tensorflow:Assets written to: model.h1.1_may_21_model1/assets\n"
          ],
          "name": "stderr"
        },
        {
          "output_type": "stream",
          "text": [
            "Epoch 5/30\n",
            "13/13 [==============================] - 1s 55ms/step - loss: 3.0551 - accuracy: 0.5044 - val_loss: 3.1655 - val_accuracy: 0.5051\n",
            "\n",
            "Epoch 00005: val_loss improved from 3.18134 to 3.16549, saving model to model.h1.1_may_21_model1\n"
          ],
          "name": "stdout"
        },
        {
          "output_type": "stream",
          "text": [
            "WARNING:absl:Found untraced functions such as lstm_cell_8_layer_call_and_return_conditional_losses, lstm_cell_8_layer_call_fn, lstm_cell_9_layer_call_and_return_conditional_losses, lstm_cell_9_layer_call_fn, lstm_cell_8_layer_call_fn while saving (showing 5 of 10). These functions will not be directly callable after loading.\n",
            "WARNING:absl:Found untraced functions such as lstm_cell_8_layer_call_and_return_conditional_losses, lstm_cell_8_layer_call_fn, lstm_cell_9_layer_call_and_return_conditional_losses, lstm_cell_9_layer_call_fn, lstm_cell_8_layer_call_fn while saving (showing 5 of 10). These functions will not be directly callable after loading.\n"
          ],
          "name": "stderr"
        },
        {
          "output_type": "stream",
          "text": [
            "INFO:tensorflow:Assets written to: model.h1.1_may_21_model1/assets\n"
          ],
          "name": "stdout"
        },
        {
          "output_type": "stream",
          "text": [
            "INFO:tensorflow:Assets written to: model.h1.1_may_21_model1/assets\n"
          ],
          "name": "stderr"
        },
        {
          "output_type": "stream",
          "text": [
            "Epoch 6/30\n",
            "13/13 [==============================] - 1s 54ms/step - loss: 2.9842 - accuracy: 0.5065 - val_loss: 3.0916 - val_accuracy: 0.5079\n",
            "\n",
            "Epoch 00006: val_loss improved from 3.16549 to 3.09158, saving model to model.h1.1_may_21_model1\n"
          ],
          "name": "stdout"
        },
        {
          "output_type": "stream",
          "text": [
            "WARNING:absl:Found untraced functions such as lstm_cell_8_layer_call_and_return_conditional_losses, lstm_cell_8_layer_call_fn, lstm_cell_9_layer_call_and_return_conditional_losses, lstm_cell_9_layer_call_fn, lstm_cell_8_layer_call_fn while saving (showing 5 of 10). These functions will not be directly callable after loading.\n",
            "WARNING:absl:Found untraced functions such as lstm_cell_8_layer_call_and_return_conditional_losses, lstm_cell_8_layer_call_fn, lstm_cell_9_layer_call_and_return_conditional_losses, lstm_cell_9_layer_call_fn, lstm_cell_8_layer_call_fn while saving (showing 5 of 10). These functions will not be directly callable after loading.\n"
          ],
          "name": "stderr"
        },
        {
          "output_type": "stream",
          "text": [
            "INFO:tensorflow:Assets written to: model.h1.1_may_21_model1/assets\n"
          ],
          "name": "stdout"
        },
        {
          "output_type": "stream",
          "text": [
            "INFO:tensorflow:Assets written to: model.h1.1_may_21_model1/assets\n"
          ],
          "name": "stderr"
        },
        {
          "output_type": "stream",
          "text": [
            "Epoch 7/30\n",
            "13/13 [==============================] - 1s 56ms/step - loss: 2.9220 - accuracy: 0.5061 - val_loss: 3.0583 - val_accuracy: 0.5145\n",
            "\n",
            "Epoch 00007: val_loss improved from 3.09158 to 3.05833, saving model to model.h1.1_may_21_model1\n"
          ],
          "name": "stdout"
        },
        {
          "output_type": "stream",
          "text": [
            "WARNING:absl:Found untraced functions such as lstm_cell_8_layer_call_and_return_conditional_losses, lstm_cell_8_layer_call_fn, lstm_cell_9_layer_call_and_return_conditional_losses, lstm_cell_9_layer_call_fn, lstm_cell_8_layer_call_fn while saving (showing 5 of 10). These functions will not be directly callable after loading.\n",
            "WARNING:absl:Found untraced functions such as lstm_cell_8_layer_call_and_return_conditional_losses, lstm_cell_8_layer_call_fn, lstm_cell_9_layer_call_and_return_conditional_losses, lstm_cell_9_layer_call_fn, lstm_cell_8_layer_call_fn while saving (showing 5 of 10). These functions will not be directly callable after loading.\n"
          ],
          "name": "stderr"
        },
        {
          "output_type": "stream",
          "text": [
            "INFO:tensorflow:Assets written to: model.h1.1_may_21_model1/assets\n"
          ],
          "name": "stdout"
        },
        {
          "output_type": "stream",
          "text": [
            "INFO:tensorflow:Assets written to: model.h1.1_may_21_model1/assets\n"
          ],
          "name": "stderr"
        },
        {
          "output_type": "stream",
          "text": [
            "Epoch 8/30\n",
            "13/13 [==============================] - 1s 58ms/step - loss: 2.8557 - accuracy: 0.5128 - val_loss: 3.0281 - val_accuracy: 0.5131\n",
            "\n",
            "Epoch 00008: val_loss improved from 3.05833 to 3.02808, saving model to model.h1.1_may_21_model1\n"
          ],
          "name": "stdout"
        },
        {
          "output_type": "stream",
          "text": [
            "WARNING:absl:Found untraced functions such as lstm_cell_8_layer_call_and_return_conditional_losses, lstm_cell_8_layer_call_fn, lstm_cell_9_layer_call_and_return_conditional_losses, lstm_cell_9_layer_call_fn, lstm_cell_8_layer_call_fn while saving (showing 5 of 10). These functions will not be directly callable after loading.\n",
            "WARNING:absl:Found untraced functions such as lstm_cell_8_layer_call_and_return_conditional_losses, lstm_cell_8_layer_call_fn, lstm_cell_9_layer_call_and_return_conditional_losses, lstm_cell_9_layer_call_fn, lstm_cell_8_layer_call_fn while saving (showing 5 of 10). These functions will not be directly callable after loading.\n"
          ],
          "name": "stderr"
        },
        {
          "output_type": "stream",
          "text": [
            "INFO:tensorflow:Assets written to: model.h1.1_may_21_model1/assets\n"
          ],
          "name": "stdout"
        },
        {
          "output_type": "stream",
          "text": [
            "INFO:tensorflow:Assets written to: model.h1.1_may_21_model1/assets\n"
          ],
          "name": "stderr"
        },
        {
          "output_type": "stream",
          "text": [
            "Epoch 9/30\n",
            "13/13 [==============================] - 1s 55ms/step - loss: 2.8033 - accuracy: 0.5174 - val_loss: 3.0557 - val_accuracy: 0.5171\n",
            "\n",
            "Epoch 00009: val_loss did not improve from 3.02808\n",
            "Epoch 10/30\n",
            "13/13 [==============================] - 1s 46ms/step - loss: 2.7824 - accuracy: 0.5281 - val_loss: 2.9171 - val_accuracy: 0.5428\n",
            "\n",
            "Epoch 00010: val_loss improved from 3.02808 to 2.91714, saving model to model.h1.1_may_21_model1\n"
          ],
          "name": "stdout"
        },
        {
          "output_type": "stream",
          "text": [
            "WARNING:absl:Found untraced functions such as lstm_cell_8_layer_call_and_return_conditional_losses, lstm_cell_8_layer_call_fn, lstm_cell_9_layer_call_and_return_conditional_losses, lstm_cell_9_layer_call_fn, lstm_cell_8_layer_call_fn while saving (showing 5 of 10). These functions will not be directly callable after loading.\n",
            "WARNING:absl:Found untraced functions such as lstm_cell_8_layer_call_and_return_conditional_losses, lstm_cell_8_layer_call_fn, lstm_cell_9_layer_call_and_return_conditional_losses, lstm_cell_9_layer_call_fn, lstm_cell_8_layer_call_fn while saving (showing 5 of 10). These functions will not be directly callable after loading.\n"
          ],
          "name": "stderr"
        },
        {
          "output_type": "stream",
          "text": [
            "INFO:tensorflow:Assets written to: model.h1.1_may_21_model1/assets\n"
          ],
          "name": "stdout"
        },
        {
          "output_type": "stream",
          "text": [
            "INFO:tensorflow:Assets written to: model.h1.1_may_21_model1/assets\n"
          ],
          "name": "stderr"
        },
        {
          "output_type": "stream",
          "text": [
            "Epoch 11/30\n",
            "13/13 [==============================] - 1s 57ms/step - loss: 2.6467 - accuracy: 0.5403 - val_loss: 2.8357 - val_accuracy: 0.5450\n",
            "\n",
            "Epoch 00011: val_loss improved from 2.91714 to 2.83569, saving model to model.h1.1_may_21_model1\n"
          ],
          "name": "stdout"
        },
        {
          "output_type": "stream",
          "text": [
            "WARNING:absl:Found untraced functions such as lstm_cell_8_layer_call_and_return_conditional_losses, lstm_cell_8_layer_call_fn, lstm_cell_9_layer_call_and_return_conditional_losses, lstm_cell_9_layer_call_fn, lstm_cell_8_layer_call_fn while saving (showing 5 of 10). These functions will not be directly callable after loading.\n",
            "WARNING:absl:Found untraced functions such as lstm_cell_8_layer_call_and_return_conditional_losses, lstm_cell_8_layer_call_fn, lstm_cell_9_layer_call_and_return_conditional_losses, lstm_cell_9_layer_call_fn, lstm_cell_8_layer_call_fn while saving (showing 5 of 10). These functions will not be directly callable after loading.\n"
          ],
          "name": "stderr"
        },
        {
          "output_type": "stream",
          "text": [
            "INFO:tensorflow:Assets written to: model.h1.1_may_21_model1/assets\n"
          ],
          "name": "stdout"
        },
        {
          "output_type": "stream",
          "text": [
            "INFO:tensorflow:Assets written to: model.h1.1_may_21_model1/assets\n"
          ],
          "name": "stderr"
        },
        {
          "output_type": "stream",
          "text": [
            "Epoch 12/30\n",
            "13/13 [==============================] - 1s 57ms/step - loss: 2.5483 - accuracy: 0.5501 - val_loss: 2.8114 - val_accuracy: 0.5526\n",
            "\n",
            "Epoch 00012: val_loss improved from 2.83569 to 2.81145, saving model to model.h1.1_may_21_model1\n"
          ],
          "name": "stdout"
        },
        {
          "output_type": "stream",
          "text": [
            "WARNING:absl:Found untraced functions such as lstm_cell_8_layer_call_and_return_conditional_losses, lstm_cell_8_layer_call_fn, lstm_cell_9_layer_call_and_return_conditional_losses, lstm_cell_9_layer_call_fn, lstm_cell_8_layer_call_fn while saving (showing 5 of 10). These functions will not be directly callable after loading.\n",
            "WARNING:absl:Found untraced functions such as lstm_cell_8_layer_call_and_return_conditional_losses, lstm_cell_8_layer_call_fn, lstm_cell_9_layer_call_and_return_conditional_losses, lstm_cell_9_layer_call_fn, lstm_cell_8_layer_call_fn while saving (showing 5 of 10). These functions will not be directly callable after loading.\n"
          ],
          "name": "stderr"
        },
        {
          "output_type": "stream",
          "text": [
            "INFO:tensorflow:Assets written to: model.h1.1_may_21_model1/assets\n"
          ],
          "name": "stdout"
        },
        {
          "output_type": "stream",
          "text": [
            "INFO:tensorflow:Assets written to: model.h1.1_may_21_model1/assets\n"
          ],
          "name": "stderr"
        },
        {
          "output_type": "stream",
          "text": [
            "Epoch 13/30\n",
            "13/13 [==============================] - 1s 54ms/step - loss: 2.4808 - accuracy: 0.5567 - val_loss: 2.7631 - val_accuracy: 0.5560\n",
            "\n",
            "Epoch 00013: val_loss improved from 2.81145 to 2.76307, saving model to model.h1.1_may_21_model1\n"
          ],
          "name": "stdout"
        },
        {
          "output_type": "stream",
          "text": [
            "WARNING:absl:Found untraced functions such as lstm_cell_8_layer_call_and_return_conditional_losses, lstm_cell_8_layer_call_fn, lstm_cell_9_layer_call_and_return_conditional_losses, lstm_cell_9_layer_call_fn, lstm_cell_8_layer_call_fn while saving (showing 5 of 10). These functions will not be directly callable after loading.\n",
            "WARNING:absl:Found untraced functions such as lstm_cell_8_layer_call_and_return_conditional_losses, lstm_cell_8_layer_call_fn, lstm_cell_9_layer_call_and_return_conditional_losses, lstm_cell_9_layer_call_fn, lstm_cell_8_layer_call_fn while saving (showing 5 of 10). These functions will not be directly callable after loading.\n"
          ],
          "name": "stderr"
        },
        {
          "output_type": "stream",
          "text": [
            "INFO:tensorflow:Assets written to: model.h1.1_may_21_model1/assets\n"
          ],
          "name": "stdout"
        },
        {
          "output_type": "stream",
          "text": [
            "INFO:tensorflow:Assets written to: model.h1.1_may_21_model1/assets\n"
          ],
          "name": "stderr"
        },
        {
          "output_type": "stream",
          "text": [
            "Epoch 14/30\n",
            "13/13 [==============================] - 1s 54ms/step - loss: 2.3723 - accuracy: 0.5698 - val_loss: 2.7110 - val_accuracy: 0.5726\n",
            "\n",
            "Epoch 00014: val_loss improved from 2.76307 to 2.71104, saving model to model.h1.1_may_21_model1\n"
          ],
          "name": "stdout"
        },
        {
          "output_type": "stream",
          "text": [
            "WARNING:absl:Found untraced functions such as lstm_cell_8_layer_call_and_return_conditional_losses, lstm_cell_8_layer_call_fn, lstm_cell_9_layer_call_and_return_conditional_losses, lstm_cell_9_layer_call_fn, lstm_cell_8_layer_call_fn while saving (showing 5 of 10). These functions will not be directly callable after loading.\n",
            "WARNING:absl:Found untraced functions such as lstm_cell_8_layer_call_and_return_conditional_losses, lstm_cell_8_layer_call_fn, lstm_cell_9_layer_call_and_return_conditional_losses, lstm_cell_9_layer_call_fn, lstm_cell_8_layer_call_fn while saving (showing 5 of 10). These functions will not be directly callable after loading.\n"
          ],
          "name": "stderr"
        },
        {
          "output_type": "stream",
          "text": [
            "INFO:tensorflow:Assets written to: model.h1.1_may_21_model1/assets\n"
          ],
          "name": "stdout"
        },
        {
          "output_type": "stream",
          "text": [
            "INFO:tensorflow:Assets written to: model.h1.1_may_21_model1/assets\n"
          ],
          "name": "stderr"
        },
        {
          "output_type": "stream",
          "text": [
            "Epoch 15/30\n",
            "13/13 [==============================] - 1s 54ms/step - loss: 2.3156 - accuracy: 0.5731 - val_loss: 2.6713 - val_accuracy: 0.5765\n",
            "\n",
            "Epoch 00015: val_loss improved from 2.71104 to 2.67127, saving model to model.h1.1_may_21_model1\n"
          ],
          "name": "stdout"
        },
        {
          "output_type": "stream",
          "text": [
            "WARNING:absl:Found untraced functions such as lstm_cell_8_layer_call_and_return_conditional_losses, lstm_cell_8_layer_call_fn, lstm_cell_9_layer_call_and_return_conditional_losses, lstm_cell_9_layer_call_fn, lstm_cell_8_layer_call_fn while saving (showing 5 of 10). These functions will not be directly callable after loading.\n",
            "WARNING:absl:Found untraced functions such as lstm_cell_8_layer_call_and_return_conditional_losses, lstm_cell_8_layer_call_fn, lstm_cell_9_layer_call_and_return_conditional_losses, lstm_cell_9_layer_call_fn, lstm_cell_8_layer_call_fn while saving (showing 5 of 10). These functions will not be directly callable after loading.\n"
          ],
          "name": "stderr"
        },
        {
          "output_type": "stream",
          "text": [
            "INFO:tensorflow:Assets written to: model.h1.1_may_21_model1/assets\n"
          ],
          "name": "stdout"
        },
        {
          "output_type": "stream",
          "text": [
            "INFO:tensorflow:Assets written to: model.h1.1_may_21_model1/assets\n"
          ],
          "name": "stderr"
        },
        {
          "output_type": "stream",
          "text": [
            "Epoch 16/30\n",
            "13/13 [==============================] - 1s 56ms/step - loss: 2.2305 - accuracy: 0.5863 - val_loss: 2.6247 - val_accuracy: 0.5809\n",
            "\n",
            "Epoch 00016: val_loss improved from 2.67127 to 2.62472, saving model to model.h1.1_may_21_model1\n"
          ],
          "name": "stdout"
        },
        {
          "output_type": "stream",
          "text": [
            "WARNING:absl:Found untraced functions such as lstm_cell_8_layer_call_and_return_conditional_losses, lstm_cell_8_layer_call_fn, lstm_cell_9_layer_call_and_return_conditional_losses, lstm_cell_9_layer_call_fn, lstm_cell_8_layer_call_fn while saving (showing 5 of 10). These functions will not be directly callable after loading.\n",
            "WARNING:absl:Found untraced functions such as lstm_cell_8_layer_call_and_return_conditional_losses, lstm_cell_8_layer_call_fn, lstm_cell_9_layer_call_and_return_conditional_losses, lstm_cell_9_layer_call_fn, lstm_cell_8_layer_call_fn while saving (showing 5 of 10). These functions will not be directly callable after loading.\n"
          ],
          "name": "stderr"
        },
        {
          "output_type": "stream",
          "text": [
            "INFO:tensorflow:Assets written to: model.h1.1_may_21_model1/assets\n"
          ],
          "name": "stdout"
        },
        {
          "output_type": "stream",
          "text": [
            "INFO:tensorflow:Assets written to: model.h1.1_may_21_model1/assets\n"
          ],
          "name": "stderr"
        },
        {
          "output_type": "stream",
          "text": [
            "Epoch 17/30\n",
            "13/13 [==============================] - 1s 57ms/step - loss: 2.1437 - accuracy: 0.5978 - val_loss: 2.6373 - val_accuracy: 0.5867\n",
            "\n",
            "Epoch 00017: val_loss did not improve from 2.62472\n",
            "Epoch 18/30\n",
            "13/13 [==============================] - 1s 47ms/step - loss: 2.0926 - accuracy: 0.6061 - val_loss: 2.6386 - val_accuracy: 0.5911\n",
            "\n",
            "Epoch 00018: val_loss did not improve from 2.62472\n",
            "Epoch 19/30\n",
            "13/13 [==============================] - 1s 46ms/step - loss: 2.0282 - accuracy: 0.6130 - val_loss: 2.5680 - val_accuracy: 0.5965\n",
            "\n",
            "Epoch 00019: val_loss improved from 2.62472 to 2.56796, saving model to model.h1.1_may_21_model1\n"
          ],
          "name": "stdout"
        },
        {
          "output_type": "stream",
          "text": [
            "WARNING:absl:Found untraced functions such as lstm_cell_8_layer_call_and_return_conditional_losses, lstm_cell_8_layer_call_fn, lstm_cell_9_layer_call_and_return_conditional_losses, lstm_cell_9_layer_call_fn, lstm_cell_8_layer_call_fn while saving (showing 5 of 10). These functions will not be directly callable after loading.\n",
            "WARNING:absl:Found untraced functions such as lstm_cell_8_layer_call_and_return_conditional_losses, lstm_cell_8_layer_call_fn, lstm_cell_9_layer_call_and_return_conditional_losses, lstm_cell_9_layer_call_fn, lstm_cell_8_layer_call_fn while saving (showing 5 of 10). These functions will not be directly callable after loading.\n"
          ],
          "name": "stderr"
        },
        {
          "output_type": "stream",
          "text": [
            "INFO:tensorflow:Assets written to: model.h1.1_may_21_model1/assets\n"
          ],
          "name": "stdout"
        },
        {
          "output_type": "stream",
          "text": [
            "INFO:tensorflow:Assets written to: model.h1.1_may_21_model1/assets\n"
          ],
          "name": "stderr"
        },
        {
          "output_type": "stream",
          "text": [
            "Epoch 20/30\n",
            "13/13 [==============================] - 1s 57ms/step - loss: 1.9469 - accuracy: 0.6216 - val_loss: 2.5027 - val_accuracy: 0.6094\n",
            "\n",
            "Epoch 00020: val_loss improved from 2.56796 to 2.50267, saving model to model.h1.1_may_21_model1\n"
          ],
          "name": "stdout"
        },
        {
          "output_type": "stream",
          "text": [
            "WARNING:absl:Found untraced functions such as lstm_cell_8_layer_call_and_return_conditional_losses, lstm_cell_8_layer_call_fn, lstm_cell_9_layer_call_and_return_conditional_losses, lstm_cell_9_layer_call_fn, lstm_cell_8_layer_call_fn while saving (showing 5 of 10). These functions will not be directly callable after loading.\n",
            "WARNING:absl:Found untraced functions such as lstm_cell_8_layer_call_and_return_conditional_losses, lstm_cell_8_layer_call_fn, lstm_cell_9_layer_call_and_return_conditional_losses, lstm_cell_9_layer_call_fn, lstm_cell_8_layer_call_fn while saving (showing 5 of 10). These functions will not be directly callable after loading.\n"
          ],
          "name": "stderr"
        },
        {
          "output_type": "stream",
          "text": [
            "INFO:tensorflow:Assets written to: model.h1.1_may_21_model1/assets\n"
          ],
          "name": "stdout"
        },
        {
          "output_type": "stream",
          "text": [
            "INFO:tensorflow:Assets written to: model.h1.1_may_21_model1/assets\n"
          ],
          "name": "stderr"
        },
        {
          "output_type": "stream",
          "text": [
            "Epoch 21/30\n",
            "13/13 [==============================] - 1s 55ms/step - loss: 1.8543 - accuracy: 0.6323 - val_loss: 2.4944 - val_accuracy: 0.6150\n",
            "\n",
            "Epoch 00021: val_loss improved from 2.50267 to 2.49436, saving model to model.h1.1_may_21_model1\n"
          ],
          "name": "stdout"
        },
        {
          "output_type": "stream",
          "text": [
            "WARNING:absl:Found untraced functions such as lstm_cell_8_layer_call_and_return_conditional_losses, lstm_cell_8_layer_call_fn, lstm_cell_9_layer_call_and_return_conditional_losses, lstm_cell_9_layer_call_fn, lstm_cell_8_layer_call_fn while saving (showing 5 of 10). These functions will not be directly callable after loading.\n",
            "WARNING:absl:Found untraced functions such as lstm_cell_8_layer_call_and_return_conditional_losses, lstm_cell_8_layer_call_fn, lstm_cell_9_layer_call_and_return_conditional_losses, lstm_cell_9_layer_call_fn, lstm_cell_8_layer_call_fn while saving (showing 5 of 10). These functions will not be directly callable after loading.\n"
          ],
          "name": "stderr"
        },
        {
          "output_type": "stream",
          "text": [
            "INFO:tensorflow:Assets written to: model.h1.1_may_21_model1/assets\n"
          ],
          "name": "stdout"
        },
        {
          "output_type": "stream",
          "text": [
            "INFO:tensorflow:Assets written to: model.h1.1_may_21_model1/assets\n"
          ],
          "name": "stderr"
        },
        {
          "output_type": "stream",
          "text": [
            "Epoch 22/30\n",
            "13/13 [==============================] - 1s 55ms/step - loss: 1.8178 - accuracy: 0.6367 - val_loss: 2.4395 - val_accuracy: 0.6180\n",
            "\n",
            "Epoch 00022: val_loss improved from 2.49436 to 2.43953, saving model to model.h1.1_may_21_model1\n"
          ],
          "name": "stdout"
        },
        {
          "output_type": "stream",
          "text": [
            "WARNING:absl:Found untraced functions such as lstm_cell_8_layer_call_and_return_conditional_losses, lstm_cell_8_layer_call_fn, lstm_cell_9_layer_call_and_return_conditional_losses, lstm_cell_9_layer_call_fn, lstm_cell_8_layer_call_fn while saving (showing 5 of 10). These functions will not be directly callable after loading.\n",
            "WARNING:absl:Found untraced functions such as lstm_cell_8_layer_call_and_return_conditional_losses, lstm_cell_8_layer_call_fn, lstm_cell_9_layer_call_and_return_conditional_losses, lstm_cell_9_layer_call_fn, lstm_cell_8_layer_call_fn while saving (showing 5 of 10). These functions will not be directly callable after loading.\n"
          ],
          "name": "stderr"
        },
        {
          "output_type": "stream",
          "text": [
            "INFO:tensorflow:Assets written to: model.h1.1_may_21_model1/assets\n"
          ],
          "name": "stdout"
        },
        {
          "output_type": "stream",
          "text": [
            "INFO:tensorflow:Assets written to: model.h1.1_may_21_model1/assets\n"
          ],
          "name": "stderr"
        },
        {
          "output_type": "stream",
          "text": [
            "Epoch 23/30\n",
            "13/13 [==============================] - 1s 53ms/step - loss: 1.7583 - accuracy: 0.6450 - val_loss: 2.4350 - val_accuracy: 0.6189\n",
            "\n",
            "Epoch 00023: val_loss improved from 2.43953 to 2.43504, saving model to model.h1.1_may_21_model1\n"
          ],
          "name": "stdout"
        },
        {
          "output_type": "stream",
          "text": [
            "WARNING:absl:Found untraced functions such as lstm_cell_8_layer_call_and_return_conditional_losses, lstm_cell_8_layer_call_fn, lstm_cell_9_layer_call_and_return_conditional_losses, lstm_cell_9_layer_call_fn, lstm_cell_8_layer_call_fn while saving (showing 5 of 10). These functions will not be directly callable after loading.\n",
            "WARNING:absl:Found untraced functions such as lstm_cell_8_layer_call_and_return_conditional_losses, lstm_cell_8_layer_call_fn, lstm_cell_9_layer_call_and_return_conditional_losses, lstm_cell_9_layer_call_fn, lstm_cell_8_layer_call_fn while saving (showing 5 of 10). These functions will not be directly callable after loading.\n"
          ],
          "name": "stderr"
        },
        {
          "output_type": "stream",
          "text": [
            "INFO:tensorflow:Assets written to: model.h1.1_may_21_model1/assets\n"
          ],
          "name": "stdout"
        },
        {
          "output_type": "stream",
          "text": [
            "INFO:tensorflow:Assets written to: model.h1.1_may_21_model1/assets\n"
          ],
          "name": "stderr"
        },
        {
          "output_type": "stream",
          "text": [
            "Epoch 24/30\n",
            "13/13 [==============================] - 1s 54ms/step - loss: 1.6806 - accuracy: 0.6545 - val_loss: 2.4321 - val_accuracy: 0.6208\n",
            "\n",
            "Epoch 00024: val_loss improved from 2.43504 to 2.43209, saving model to model.h1.1_may_21_model1\n"
          ],
          "name": "stdout"
        },
        {
          "output_type": "stream",
          "text": [
            "WARNING:absl:Found untraced functions such as lstm_cell_8_layer_call_and_return_conditional_losses, lstm_cell_8_layer_call_fn, lstm_cell_9_layer_call_and_return_conditional_losses, lstm_cell_9_layer_call_fn, lstm_cell_8_layer_call_fn while saving (showing 5 of 10). These functions will not be directly callable after loading.\n",
            "WARNING:absl:Found untraced functions such as lstm_cell_8_layer_call_and_return_conditional_losses, lstm_cell_8_layer_call_fn, lstm_cell_9_layer_call_and_return_conditional_losses, lstm_cell_9_layer_call_fn, lstm_cell_8_layer_call_fn while saving (showing 5 of 10). These functions will not be directly callable after loading.\n"
          ],
          "name": "stderr"
        },
        {
          "output_type": "stream",
          "text": [
            "INFO:tensorflow:Assets written to: model.h1.1_may_21_model1/assets\n"
          ],
          "name": "stdout"
        },
        {
          "output_type": "stream",
          "text": [
            "INFO:tensorflow:Assets written to: model.h1.1_may_21_model1/assets\n"
          ],
          "name": "stderr"
        },
        {
          "output_type": "stream",
          "text": [
            "Epoch 25/30\n",
            "13/13 [==============================] - 1s 56ms/step - loss: 1.6539 - accuracy: 0.6587 - val_loss: 2.4003 - val_accuracy: 0.6270\n",
            "\n",
            "Epoch 00025: val_loss improved from 2.43209 to 2.40032, saving model to model.h1.1_may_21_model1\n"
          ],
          "name": "stdout"
        },
        {
          "output_type": "stream",
          "text": [
            "WARNING:absl:Found untraced functions such as lstm_cell_8_layer_call_and_return_conditional_losses, lstm_cell_8_layer_call_fn, lstm_cell_9_layer_call_and_return_conditional_losses, lstm_cell_9_layer_call_fn, lstm_cell_8_layer_call_fn while saving (showing 5 of 10). These functions will not be directly callable after loading.\n",
            "WARNING:absl:Found untraced functions such as lstm_cell_8_layer_call_and_return_conditional_losses, lstm_cell_8_layer_call_fn, lstm_cell_9_layer_call_and_return_conditional_losses, lstm_cell_9_layer_call_fn, lstm_cell_8_layer_call_fn while saving (showing 5 of 10). These functions will not be directly callable after loading.\n"
          ],
          "name": "stderr"
        },
        {
          "output_type": "stream",
          "text": [
            "INFO:tensorflow:Assets written to: model.h1.1_may_21_model1/assets\n"
          ],
          "name": "stdout"
        },
        {
          "output_type": "stream",
          "text": [
            "INFO:tensorflow:Assets written to: model.h1.1_may_21_model1/assets\n"
          ],
          "name": "stderr"
        },
        {
          "output_type": "stream",
          "text": [
            "Epoch 26/30\n",
            "13/13 [==============================] - 1s 56ms/step - loss: 1.5851 - accuracy: 0.6663 - val_loss: 2.3796 - val_accuracy: 0.6325\n",
            "\n",
            "Epoch 00026: val_loss improved from 2.40032 to 2.37960, saving model to model.h1.1_may_21_model1\n"
          ],
          "name": "stdout"
        },
        {
          "output_type": "stream",
          "text": [
            "WARNING:absl:Found untraced functions such as lstm_cell_8_layer_call_and_return_conditional_losses, lstm_cell_8_layer_call_fn, lstm_cell_9_layer_call_and_return_conditional_losses, lstm_cell_9_layer_call_fn, lstm_cell_8_layer_call_fn while saving (showing 5 of 10). These functions will not be directly callable after loading.\n",
            "WARNING:absl:Found untraced functions such as lstm_cell_8_layer_call_and_return_conditional_losses, lstm_cell_8_layer_call_fn, lstm_cell_9_layer_call_and_return_conditional_losses, lstm_cell_9_layer_call_fn, lstm_cell_8_layer_call_fn while saving (showing 5 of 10). These functions will not be directly callable after loading.\n"
          ],
          "name": "stderr"
        },
        {
          "output_type": "stream",
          "text": [
            "INFO:tensorflow:Assets written to: model.h1.1_may_21_model1/assets\n"
          ],
          "name": "stdout"
        },
        {
          "output_type": "stream",
          "text": [
            "INFO:tensorflow:Assets written to: model.h1.1_may_21_model1/assets\n"
          ],
          "name": "stderr"
        },
        {
          "output_type": "stream",
          "text": [
            "Epoch 27/30\n",
            "13/13 [==============================] - 1s 56ms/step - loss: 1.5132 - accuracy: 0.6756 - val_loss: 2.3759 - val_accuracy: 0.6302\n",
            "\n",
            "Epoch 00027: val_loss improved from 2.37960 to 2.37595, saving model to model.h1.1_may_21_model1\n"
          ],
          "name": "stdout"
        },
        {
          "output_type": "stream",
          "text": [
            "WARNING:absl:Found untraced functions such as lstm_cell_8_layer_call_and_return_conditional_losses, lstm_cell_8_layer_call_fn, lstm_cell_9_layer_call_and_return_conditional_losses, lstm_cell_9_layer_call_fn, lstm_cell_8_layer_call_fn while saving (showing 5 of 10). These functions will not be directly callable after loading.\n",
            "WARNING:absl:Found untraced functions such as lstm_cell_8_layer_call_and_return_conditional_losses, lstm_cell_8_layer_call_fn, lstm_cell_9_layer_call_and_return_conditional_losses, lstm_cell_9_layer_call_fn, lstm_cell_8_layer_call_fn while saving (showing 5 of 10). These functions will not be directly callable after loading.\n"
          ],
          "name": "stderr"
        },
        {
          "output_type": "stream",
          "text": [
            "INFO:tensorflow:Assets written to: model.h1.1_may_21_model1/assets\n"
          ],
          "name": "stdout"
        },
        {
          "output_type": "stream",
          "text": [
            "INFO:tensorflow:Assets written to: model.h1.1_may_21_model1/assets\n"
          ],
          "name": "stderr"
        },
        {
          "output_type": "stream",
          "text": [
            "Epoch 28/30\n",
            "13/13 [==============================] - 1s 55ms/step - loss: 1.4739 - accuracy: 0.6823 - val_loss: 2.3464 - val_accuracy: 0.6382\n",
            "\n",
            "Epoch 00028: val_loss improved from 2.37595 to 2.34640, saving model to model.h1.1_may_21_model1\n"
          ],
          "name": "stdout"
        },
        {
          "output_type": "stream",
          "text": [
            "WARNING:absl:Found untraced functions such as lstm_cell_8_layer_call_and_return_conditional_losses, lstm_cell_8_layer_call_fn, lstm_cell_9_layer_call_and_return_conditional_losses, lstm_cell_9_layer_call_fn, lstm_cell_8_layer_call_fn while saving (showing 5 of 10). These functions will not be directly callable after loading.\n",
            "WARNING:absl:Found untraced functions such as lstm_cell_8_layer_call_and_return_conditional_losses, lstm_cell_8_layer_call_fn, lstm_cell_9_layer_call_and_return_conditional_losses, lstm_cell_9_layer_call_fn, lstm_cell_8_layer_call_fn while saving (showing 5 of 10). These functions will not be directly callable after loading.\n"
          ],
          "name": "stderr"
        },
        {
          "output_type": "stream",
          "text": [
            "INFO:tensorflow:Assets written to: model.h1.1_may_21_model1/assets\n"
          ],
          "name": "stdout"
        },
        {
          "output_type": "stream",
          "text": [
            "INFO:tensorflow:Assets written to: model.h1.1_may_21_model1/assets\n"
          ],
          "name": "stderr"
        },
        {
          "output_type": "stream",
          "text": [
            "Epoch 29/30\n",
            "13/13 [==============================] - 1s 57ms/step - loss: 1.4269 - accuracy: 0.6942 - val_loss: 2.3446 - val_accuracy: 0.6406\n",
            "\n",
            "Epoch 00029: val_loss improved from 2.34640 to 2.34456, saving model to model.h1.1_may_21_model1\n"
          ],
          "name": "stdout"
        },
        {
          "output_type": "stream",
          "text": [
            "WARNING:absl:Found untraced functions such as lstm_cell_8_layer_call_and_return_conditional_losses, lstm_cell_8_layer_call_fn, lstm_cell_9_layer_call_and_return_conditional_losses, lstm_cell_9_layer_call_fn, lstm_cell_8_layer_call_fn while saving (showing 5 of 10). These functions will not be directly callable after loading.\n",
            "WARNING:absl:Found untraced functions such as lstm_cell_8_layer_call_and_return_conditional_losses, lstm_cell_8_layer_call_fn, lstm_cell_9_layer_call_and_return_conditional_losses, lstm_cell_9_layer_call_fn, lstm_cell_8_layer_call_fn while saving (showing 5 of 10). These functions will not be directly callable after loading.\n"
          ],
          "name": "stderr"
        },
        {
          "output_type": "stream",
          "text": [
            "INFO:tensorflow:Assets written to: model.h1.1_may_21_model1/assets\n"
          ],
          "name": "stdout"
        },
        {
          "output_type": "stream",
          "text": [
            "INFO:tensorflow:Assets written to: model.h1.1_may_21_model1/assets\n"
          ],
          "name": "stderr"
        },
        {
          "output_type": "stream",
          "text": [
            "Epoch 30/30\n",
            "13/13 [==============================] - 1s 55ms/step - loss: 1.3851 - accuracy: 0.6998 - val_loss: 2.3283 - val_accuracy: 0.6438\n",
            "\n",
            "Epoch 00030: val_loss improved from 2.34456 to 2.32829, saving model to model.h1.1_may_21_model1\n"
          ],
          "name": "stdout"
        },
        {
          "output_type": "stream",
          "text": [
            "WARNING:absl:Found untraced functions such as lstm_cell_8_layer_call_and_return_conditional_losses, lstm_cell_8_layer_call_fn, lstm_cell_9_layer_call_and_return_conditional_losses, lstm_cell_9_layer_call_fn, lstm_cell_8_layer_call_fn while saving (showing 5 of 10). These functions will not be directly callable after loading.\n",
            "WARNING:absl:Found untraced functions such as lstm_cell_8_layer_call_and_return_conditional_losses, lstm_cell_8_layer_call_fn, lstm_cell_9_layer_call_and_return_conditional_losses, lstm_cell_9_layer_call_fn, lstm_cell_8_layer_call_fn while saving (showing 5 of 10). These functions will not be directly callable after loading.\n"
          ],
          "name": "stderr"
        },
        {
          "output_type": "stream",
          "text": [
            "INFO:tensorflow:Assets written to: model.h1.1_may_21_model1/assets\n"
          ],
          "name": "stdout"
        },
        {
          "output_type": "stream",
          "text": [
            "INFO:tensorflow:Assets written to: model.h1.1_may_21_model1/assets\n"
          ],
          "name": "stderr"
        }
      ]
    },
    {
      "cell_type": "code",
      "metadata": {
        "colab": {
          "base_uri": "https://localhost:8080/"
        },
        "id": "VkJF5yu49uvG",
        "outputId": "8143914c-dce0-4c57-a9d4-e3b208ed1514"
      },
      "source": [
        "#Make predictions on test data\n",
        "model_fr_pred_1 = load_model('model.h1.1_may_21_model1')\n",
        "preds_fr_1 = model_fr_pred_1.predict_classes(testFrenchX.reshape(testFrenchX.shape[0], testFrenchX.shape[1]))"
      ],
      "id": "VkJF5yu49uvG",
      "execution_count": null,
      "outputs": [
        {
          "output_type": "stream",
          "text": [
            "/usr/local/lib/python3.7/dist-packages/tensorflow/python/keras/engine/sequential.py:450: UserWarning: `model.predict_classes()` is deprecated and will be removed after 2021-01-01. Please use instead:* `np.argmax(model.predict(x), axis=-1)`,   if your model does multi-class classification   (e.g. if it uses a `softmax` last-layer activation).* `(model.predict(x) > 0.5).astype(\"int32\")`,   if your model does binary classification   (e.g. if it uses a `sigmoid` last-layer activation).\n",
            "  warnings.warn('`model.predict_classes()` is deprecated and '\n"
          ],
          "name": "stderr"
        }
      ]
    },
    {
      "cell_type": "code",
      "metadata": {
        "id": "9vmgqFF59u2o"
      },
      "source": [
        "#Convert predictions into text (English)\n",
        "preds_text_eng_fr_1 = []\n",
        "for i in preds_fr_1:\n",
        "    temp = []\n",
        "    for j in range(len(i)):\n",
        "        t = get_word(i[j], eng_fr_tokenizer)\n",
        "        if j > 0:\n",
        "            if (t == get_word(i[j-1], eng_fr_tokenizer)) or (t == None):\n",
        "                temp.append('')\n",
        "            else:\n",
        "                temp.append(t)\n",
        "        else:\n",
        "            if (t == None):\n",
        "                temp.append('')\n",
        "            else:\n",
        "                temp.append(t)\n",
        "    preds_text_eng_fr_1.append(' '.join(temp))"
      ],
      "id": "9vmgqFF59u2o",
      "execution_count": null,
      "outputs": []
    },
    {
      "cell_type": "code",
      "metadata": {
        "id": "g1IzjY-t9u7k"
      },
      "source": [
        "#Display first 15 predictions\n",
        "pred_df_fr_1 = pd.DataFrame({'actual': testFra[:,0], 'predicted': preds_text_eng_fr_1})"
      ],
      "id": "g1IzjY-t9u7k",
      "execution_count": null,
      "outputs": []
    },
    {
      "cell_type": "code",
      "metadata": {
        "id": "Dj_uEpPN9vBD"
      },
      "source": [
        "pd.set_option('display.max_colwidth', 200)"
      ],
      "id": "Dj_uEpPN9vBD",
      "execution_count": null,
      "outputs": []
    },
    {
      "cell_type": "code",
      "metadata": {
        "colab": {
          "base_uri": "https://localhost:8080/",
          "height": 514
        },
        "id": "rChPn5_H9vFS",
        "outputId": "34e40b44-00a0-4cc0-af58-3b7aed885fa6"
      },
      "source": [
        "pred_df_fr_1.head(15)"
      ],
      "id": "rChPn5_H9vFS",
      "execution_count": null,
      "outputs": [
        {
          "output_type": "execute_result",
          "data": {
            "text/html": [
              "<div>\n",
              "<style scoped>\n",
              "    .dataframe tbody tr th:only-of-type {\n",
              "        vertical-align: middle;\n",
              "    }\n",
              "\n",
              "    .dataframe tbody tr th {\n",
              "        vertical-align: top;\n",
              "    }\n",
              "\n",
              "    .dataframe thead th {\n",
              "        text-align: right;\n",
              "    }\n",
              "</style>\n",
              "<table border=\"1\" class=\"dataframe\">\n",
              "  <thead>\n",
              "    <tr style=\"text-align: right;\">\n",
              "      <th></th>\n",
              "      <th>actual</th>\n",
              "      <th>predicted</th>\n",
              "    </tr>\n",
              "  </thead>\n",
              "  <tbody>\n",
              "    <tr>\n",
              "      <th>0</th>\n",
              "      <td>tom is drunk</td>\n",
              "      <td>toms is</td>\n",
              "    </tr>\n",
              "    <tr>\n",
              "      <th>1</th>\n",
              "      <td>you seem busy</td>\n",
              "      <td>you are</td>\n",
              "    </tr>\n",
              "    <tr>\n",
              "      <th>2</th>\n",
              "      <td>im married</td>\n",
              "      <td>im exhausted</td>\n",
              "    </tr>\n",
              "    <tr>\n",
              "      <th>3</th>\n",
              "      <td>whos talking</td>\n",
              "      <td>who singing</td>\n",
              "    </tr>\n",
              "    <tr>\n",
              "      <th>4</th>\n",
              "      <td>eat your peas</td>\n",
              "      <td>the  car</td>\n",
              "    </tr>\n",
              "    <tr>\n",
              "      <th>5</th>\n",
              "      <td>i had no idea</td>\n",
              "      <td>i have no</td>\n",
              "    </tr>\n",
              "    <tr>\n",
              "      <th>6</th>\n",
              "      <td>use them all</td>\n",
              "      <td>get to me</td>\n",
              "    </tr>\n",
              "    <tr>\n",
              "      <th>7</th>\n",
              "      <td>i am very tall</td>\n",
              "      <td>im am too</td>\n",
              "    </tr>\n",
              "    <tr>\n",
              "      <th>8</th>\n",
              "      <td>i have plans</td>\n",
              "      <td>i have the</td>\n",
              "    </tr>\n",
              "    <tr>\n",
              "      <th>9</th>\n",
              "      <td>i hurt tom</td>\n",
              "      <td>we loved tom</td>\n",
              "    </tr>\n",
              "    <tr>\n",
              "      <th>10</th>\n",
              "      <td>suit yourself</td>\n",
              "      <td>do you</td>\n",
              "    </tr>\n",
              "    <tr>\n",
              "      <th>11</th>\n",
              "      <td>i felt scared</td>\n",
              "      <td>i feel cheated</td>\n",
              "    </tr>\n",
              "    <tr>\n",
              "      <th>12</th>\n",
              "      <td>let me go</td>\n",
              "      <td>let me see it</td>\n",
              "    </tr>\n",
              "    <tr>\n",
              "      <th>13</th>\n",
              "      <td>whos crying</td>\n",
              "      <td>whos all</td>\n",
              "    </tr>\n",
              "    <tr>\n",
              "      <th>14</th>\n",
              "      <td>i am ashamed</td>\n",
              "      <td>im won</td>\n",
              "    </tr>\n",
              "  </tbody>\n",
              "</table>\n",
              "</div>"
            ],
            "text/plain": [
              "            actual         predicted\n",
              "0     tom is drunk        toms is   \n",
              "1    you seem busy        you are   \n",
              "2       im married   im exhausted   \n",
              "3     whos talking    who singing   \n",
              "4    eat your peas        the  car  \n",
              "5    i had no idea       i have no  \n",
              "6     use them all       get to me  \n",
              "7   i am very tall       im am too  \n",
              "8     i have plans      i have the  \n",
              "9       i hurt tom    we loved tom  \n",
              "10   suit yourself         do you   \n",
              "11   i felt scared  i feel cheated  \n",
              "12       let me go    let me see it \n",
              "13     whos crying       whos all   \n",
              "14    i am ashamed         im won   "
            ]
          },
          "metadata": {
            "tags": []
          },
          "execution_count": 119
        }
      ]
    },
    {
      "cell_type": "markdown",
      "metadata": {
        "id": "MiEmRHSA_cr1"
      },
      "source": [
        "### French Baseline Model Metrics"
      ],
      "id": "MiEmRHSA_cr1"
    },
    {
      "cell_type": "code",
      "metadata": {
        "colab": {
          "base_uri": "https://localhost:8080/"
        },
        "id": "FrxxvdQO_bax",
        "outputId": "0d83e531-9ca7-4d52-a93b-65d4653fc8bb"
      },
      "source": [
        "#Calculate French metrics: accuracy, precision, recall\n",
        "y_pred_fr_1 = model_fr_1.predict_classes(testFrenchX, verbose=0)\n",
        "print(y_pred_fr_1)\n",
        "y_pred_fr_1 = argmax(y_pred_fr_1, axis=1)\n",
        "print(y_pred_fr_1)\n",
        "y_test_fr_1 = argmax(testEnglishFrenchY, axis=1)\n",
        "print(y_test_fr_1)\n",
        "\n",
        "from sklearn import metrics\n",
        "print(\"Accuracy:\",metrics.accuracy_score(y_test_fr_1, y_pred_fr_1))\n",
        "print(\"Precision:\",metrics.precision_score(y_test_fr_1, y_pred_fr_1, average = \"macro\"))\n",
        "print(\"Recall:\",metrics.recall_score(y_test_fr_1, y_pred_fr_1, average = \"macro\"))"
      ],
      "id": "FrxxvdQO_bax",
      "execution_count": null,
      "outputs": [
        {
          "output_type": "stream",
          "text": [
            "/usr/local/lib/python3.7/dist-packages/tensorflow/python/keras/engine/sequential.py:450: UserWarning: `model.predict_classes()` is deprecated and will be removed after 2021-01-01. Please use instead:* `np.argmax(model.predict(x), axis=-1)`,   if your model does multi-class classification   (e.g. if it uses a `softmax` last-layer activation).* `(model.predict(x) > 0.5).astype(\"int32\")`,   if your model does binary classification   (e.g. if it uses a `sigmoid` last-layer activation).\n",
            "  warnings.warn('`model.predict_classes()` is deprecated and '\n"
          ],
          "name": "stderr"
        },
        {
          "output_type": "stream",
          "text": [
            "[[ 53   7   0   0   0]\n",
            " [  4  14   0   0   0]\n",
            " [  5 528   0   0   0]\n",
            " ...\n",
            " [  9  16   8   0   0]\n",
            " [  3   7   0   0   0]\n",
            " [ 53   7   0   0   0]]\n",
            "[0 1 1 ... 1 1 0]\n",
            "[2 1 1 ... 1 2 2]\n",
            "Accuracy: 0.5495\n",
            "Precision: 0.5573137233071319\n",
            "Recall: 0.446090777717565\n"
          ],
          "name": "stdout"
        }
      ]
    },
    {
      "cell_type": "code",
      "metadata": {
        "colab": {
          "base_uri": "https://localhost:8080/"
        },
        "id": "uKmYLtoi_bnG",
        "outputId": "4c8dbbff-7a70-4373-9f5f-c301b1ba5dd2"
      },
      "source": [
        "#Training accuracy\n",
        "metricsModelFr1 = model_fr_1.evaluate(trainFrenchX, trainEnglishFrenchY, batch_size=512, return_dict=True)\n",
        "print(metricsModelFr1)"
      ],
      "id": "uKmYLtoi_bnG",
      "execution_count": null,
      "outputs": [
        {
          "output_type": "stream",
          "text": [
            "16/16 [==============================] - 2s 18ms/step - loss: 1.5062 - accuracy: 0.6984\n",
            "{'loss': 1.5061962604522705, 'accuracy': 0.6983749866485596}\n"
          ],
          "name": "stdout"
        }
      ]
    },
    {
      "cell_type": "code",
      "metadata": {
        "colab": {
          "base_uri": "https://localhost:8080/"
        },
        "id": "xKGZoaIa_bql",
        "outputId": "33dd952b-3dac-4a40-a26d-53c6039d7bbb"
      },
      "source": [
        "#Test accuracy\n",
        "_, accuracy = model_fr_1.evaluate(testFrenchX, testEnglishFrenchY, batch_size=512)\n",
        "print('Test accuracy: %.2f' % (accuracy*100))"
      ],
      "id": "xKGZoaIa_bql",
      "execution_count": null,
      "outputs": [
        {
          "output_type": "stream",
          "text": [
            "4/4 [==============================] - 0s 16ms/step - loss: 2.3976 - accuracy: 0.6337\n",
            "Test accuracy: 63.37\n"
          ],
          "name": "stdout"
        }
      ]
    },
    {
      "cell_type": "code",
      "metadata": {
        "colab": {
          "base_uri": "https://localhost:8080/"
        },
        "id": "ynTmvrIp_bux",
        "outputId": "d26c3379-6156-4a78-83f3-33b36bdaedff"
      },
      "source": [
        "# calculate bleu metric\n",
        "\n",
        "references_fr_1 = pred_df_fr_1.actual\n",
        "candidates_fr_1 = pred_df_fr_1.predicted\n",
        "score_fr_1 = corpus_bleu(references_fr_1, candidates_fr_1, weights=(1,0,0,0))\n",
        "print(score_fr_1)"
      ],
      "id": "ynTmvrIp_bux",
      "execution_count": null,
      "outputs": [
        {
          "output_type": "stream",
          "text": [
            "0.4313206531491118\n"
          ],
          "name": "stdout"
        },
        {
          "output_type": "stream",
          "text": [
            "/usr/local/lib/python3.7/dist-packages/nltk/translate/bleu_score.py:490: UserWarning: \n",
            "Corpus/Sentence contains 0 counts of 2-gram overlaps.\n",
            "BLEU scores might be undesirable; use SmoothingFunction().\n",
            "  warnings.warn(_msg)\n"
          ],
          "name": "stderr"
        }
      ]
    },
    {
      "cell_type": "code",
      "metadata": {
        "colab": {
          "base_uri": "https://localhost:8080/"
        },
        "id": "P83DFi7E_bzd",
        "outputId": "10e5cd25-8fb0-4b39-8683-25cc330cad97"
      },
      "source": [
        "#average BLEU score\n",
        "bleuScoreMeanFra1 = evaluate_test_model1(references_fr_1, candidates_fr_1)"
      ],
      "id": "P83DFi7E_bzd",
      "execution_count": null,
      "outputs": [
        {
          "output_type": "stream",
          "text": [
            "/usr/local/lib/python3.7/dist-packages/nltk/translate/bleu_score.py:490: UserWarning: \n",
            "Corpus/Sentence contains 0 counts of 2-gram overlaps.\n",
            "BLEU scores might be undesirable; use SmoothingFunction().\n",
            "  warnings.warn(_msg)\n"
          ],
          "name": "stderr"
        }
      ]
    },
    {
      "cell_type": "code",
      "metadata": {
        "colab": {
          "base_uri": "https://localhost:8080/"
        },
        "id": "vPSkZAYhAN68",
        "outputId": "7d605158-aee3-4fef-d5e0-8a80543eb40e"
      },
      "source": [
        "print(\"Average BLEU score on test data for French model 1: \", bleuScoreMeanFra1)"
      ],
      "id": "vPSkZAYhAN68",
      "execution_count": null,
      "outputs": [
        {
          "output_type": "stream",
          "text": [
            "Average BLEU score on test data for French model 1:  0.7745966692414834\n"
          ],
          "name": "stdout"
        }
      ]
    },
    {
      "cell_type": "code",
      "metadata": {
        "colab": {
          "base_uri": "https://localhost:8080/"
        },
        "id": "eJiDcHXzQMyQ",
        "outputId": "aa4470c7-43e4-4f31-c735-29cb743d9c73"
      },
      "source": [
        "#Get ROUGE scores.\n",
        "rouge = Rouge()\n",
        "scores_fr_1 = rouge.get_scores(candidates_fr_1, references_fr_1, avg = True)\n",
        "print(scores_fr_1)"
      ],
      "id": "eJiDcHXzQMyQ",
      "execution_count": null,
      "outputs": [
        {
          "output_type": "stream",
          "text": [
            "{'rouge-1': {'f': 0.36350475847248254, 'p': 0.39470833333333366, 'r': 0.3452416666666672}, 'rouge-2': {'f': 0.1086499991485441, 'p': 0.12191666666666669, 'r': 0.10208333333333332}, 'rouge-l': {'f': 0.3630833299019095, 'p': 0.3946250000000004, 'r': 0.3446166666666673}}\n"
          ],
          "name": "stdout"
        }
      ]
    },
    {
      "cell_type": "markdown",
      "metadata": {
        "id": "nK0js8YzASOt"
      },
      "source": [
        "## French Final Model"
      ],
      "id": "nK0js8YzASOt"
    },
    {
      "cell_type": "code",
      "metadata": {
        "id": "2eD2k0cQAd8G"
      },
      "source": [
        "#Model 2: An attempt at an encoder-decoder model. uses average BLEU as metric.\n",
        "lines_fr = io.open(french_path, encoding = 'UTF-8').read().split('\\n')"
      ],
      "id": "2eD2k0cQAd8G",
      "execution_count": null,
      "outputs": []
    },
    {
      "cell_type": "code",
      "metadata": {
        "colab": {
          "base_uri": "https://localhost:8080/"
        },
        "id": "C60EYTKOAeBz",
        "outputId": "7b3ffb16-4905-450a-acda-77e4c62db320"
      },
      "source": [
        "#Get data\n",
        "french, english_fr = get_data(lines_fr)\n",
        "#get manageable sample\n",
        "french = french[:10000:]\n",
        "#get manageable sample\n",
        "english_fr = english_fr[:10000:]\n",
        "print(french[0:10])"
      ],
      "id": "C60EYTKOAeBz",
      "execution_count": null,
      "outputs": [
        {
          "output_type": "stream",
          "text": [
            "100%|██████████| 185584/185584 [00:05<00:00, 33171.58it/s]"
          ],
          "name": "stderr"
        },
        {
          "output_type": "stream",
          "text": [
            "['<start> Va <end>', '<start> Marche. <end>', '<start> Bouge <end>', '<start> Salut <end>', '<start> Salut. <end>', '<start> Cours <end>', '<start> Courez <end>', '<start> Prenez vos jambes a vos cous <end>', '<start> File <end>', '<start> Filez <end>']\n"
          ],
          "name": "stdout"
        },
        {
          "output_type": "stream",
          "text": [
            "\n"
          ],
          "name": "stderr"
        }
      ]
    },
    {
      "cell_type": "code",
      "metadata": {
        "id": "rw5-4taYAeIU"
      },
      "source": [
        "#Get training, test data.\n",
        "fra_tr, fra_te, eng_fr_tr, eng_fr_te = train_test_split(french, english_fr, test_size = 0.2, random_state = 42)"
      ],
      "id": "rw5-4taYAeIU",
      "execution_count": null,
      "outputs": []
    },
    {
      "cell_type": "code",
      "metadata": {
        "id": "B379N9kzAeMc"
      },
      "source": [
        "#Tokenizing, padding input language\n",
        "fra_token = Tokenizer(filters = '', lower=False)\n",
        "fra_token.fit_on_texts(fra_tr)\n",
        "fra_tokenized = fra_token.texts_to_sequences(fra_tr)\n",
        "fra_padded = pad_sequences(fra_tokenized, padding='post')"
      ],
      "id": "B379N9kzAeMc",
      "execution_count": null,
      "outputs": []
    },
    {
      "cell_type": "code",
      "metadata": {
        "id": "cZZ9_gmxAeQP"
      },
      "source": [
        "#tokenizing and padding target language\n",
        "eng_fr_token = Tokenizer(filters = '', lower = False)\n",
        "eng_fr_token.fit_on_texts(eng_fr_tr)\n",
        "eng_fr_tokenized = eng_fr_token.texts_to_sequences(eng_fr_tr)\n",
        "eng_fr_padded = pad_sequences(eng_fr_tokenized, padding='post')"
      ],
      "id": "cZZ9_gmxAeQP",
      "execution_count": null,
      "outputs": []
    },
    {
      "cell_type": "code",
      "metadata": {
        "id": "urjCYdRLBJir"
      },
      "source": [
        "#Define maximum sentence length and vocab size.\n",
        "num_ip_tokens = len(fra_token.word_index) #French\n",
        "num_op_tokens = len(eng_fr_token.word_index) #English\n",
        "max_len_ip = fra_padded.shape[1] #French\n",
        "max_len_op = eng_fr_padded.shape[1] #English"
      ],
      "id": "urjCYdRLBJir",
      "execution_count": null,
      "outputs": []
    },
    {
      "cell_type": "code",
      "metadata": {
        "id": "hgM6lWK_BJpX"
      },
      "source": [
        "#Define constants and create a tf.data dataset.\n",
        "BUFFER_SIZE = len(fra_padded)\n",
        "BATCH_SIZE = 64\n",
        "N_BATCH = BUFFER_SIZE // BATCH_SIZE\n",
        "embedding_dim = 256\n",
        "units = 512\n",
        "\n",
        "dataset_fr = tf.data.Dataset.from_tensor_slices((fra_padded, eng_fr_padded)).shuffle(BUFFER_SIZE)\n",
        "dataset_fr = dataset_fr.batch(BATCH_SIZE, drop_remainder=True)"
      ],
      "id": "hgM6lWK_BJpX",
      "execution_count": null,
      "outputs": []
    },
    {
      "cell_type": "code",
      "metadata": {
        "id": "hVeqh_x5BJ3S"
      },
      "source": [
        "#Create an encoder and a decoder for French.\n",
        "encoder = Encoder(num_ip_tokens + 1, embedding_dim, units, BATCH_SIZE)\n",
        "decoder = Decoder(num_op_tokens + 1, embedding_dim, units, BATCH_SIZE)"
      ],
      "id": "hVeqh_x5BJ3S",
      "execution_count": null,
      "outputs": []
    },
    {
      "cell_type": "code",
      "metadata": {
        "id": "poTCDpMrBg5R"
      },
      "source": [
        "#define an optimizer and a loss function for French\n",
        "optimizer_fr = tf.keras.optimizers.Adam()\n",
        "\n",
        "def loss_function_fr(real, pred):\n",
        "  mask = 1 - np.equal(real, 0)\n",
        "  loss_ = tf.nn.sparse_softmax_cross_entropy_with_logits(labels = real, logits = pred)*mask\n",
        "  return tf.reduce_mean(loss_)\n",
        "#Define checkpoints\n",
        "checkpoint_dir_fr = '/content/drive/MyDrive/FrenchToEnglish/CheckPoint'\n",
        "checkpoint_prefix_fr = os.path.join(checkpoint_dir_fr, 'ckpt')\n",
        "checkpoint_fr = Checkpoint(optimizer=optimizer_fr, encoder=encoder, decoder=decoder)"
      ],
      "id": "poTCDpMrBg5R",
      "execution_count": null,
      "outputs": []
    },
    {
      "cell_type": "code",
      "metadata": {
        "colab": {
          "base_uri": "https://localhost:8080/"
        },
        "id": "IuyZLnmaBg_Z",
        "outputId": "1d021c58-590e-483a-88f1-7a7738a5d9dd"
      },
      "source": [
        "#Train model\n",
        "EPOCH = 20\n",
        "for epoch in range(EPOCH) :\n",
        "  start = time.time()\n",
        "  #Getting initial encoder states (all zeros)\n",
        "  hidden = encoder.initial_hidden_state()\n",
        "  total_loss = 0\n",
        "  for (batch, (inp, targ)) in enumerate(dataset_fr) :\n",
        "    loss = 0\n",
        "    with tf.GradientTape() as tape :\n",
        "      enc_output , enc_hidden = encoder(inp, hidden)\n",
        "      #Setting final encoder states as initial decoder states\n",
        "      dec_hidden = enc_hidden\n",
        "      # Teacher forcing - feeding the target as the next input\n",
        "      #Passing '<start>' token as initial token\n",
        "      dec_input = tf.expand_dims([eng_token.word_index['<start>']]*BATCH_SIZE, 1)\n",
        "      for t in range(1, targ.shape[1]) :\n",
        "        # passing enc_output to the decoder\n",
        "        predictions, dec_hidden, _ = decoder(dec_input, dec_hidden, enc_output)\n",
        "        loss += loss_function_fr(targ[:,t], predictions)\n",
        "        # using teacher forcing\n",
        "        dec_input = tf.expand_dims(targ[:,t], 1)\n",
        "    batch_loss = (loss / int(targ.shape[1]))\n",
        "    total_loss += batch_loss        \n",
        "    variables = encoder.variables + decoder.variables\n",
        "    gradients = tape.gradient(loss, variables)\n",
        "    optimizer_fr.apply_gradients(zip(gradients, variables))\n",
        "    if batch % 1000 == 0 :\n",
        "      print('Epoch {} Batch {} Loss {:.4f}'.format(epoch + 1, batch, batch_loss.numpy()))\n",
        "    # saving (checkpoint)  the model every 2 epochs\n",
        "  if (epoch + 1)%2 == 0 :\n",
        "    checkpoint_fr.save(file_prefix=checkpoint_prefix_fr)\n",
        "  print('Epoch {} Loss {:.4f}'.format(epoch + 1, total_loss / N_BATCH))\n",
        "  print('Time taken for 1 epoch {0:0.2f} minutes\\n'.format((time.time() - start)/60))"
      ],
      "id": "IuyZLnmaBg_Z",
      "execution_count": null,
      "outputs": [
        {
          "output_type": "stream",
          "text": [
            "Epoch 1 Batch 0 Loss 4.0636\n",
            "Epoch 1 Loss 2.6157\n",
            "Time taken for 1 epoch 0.31 minutes\n",
            "\n",
            "Epoch 2 Batch 0 Loss 2.0949\n",
            "Epoch 2 Loss 2.0001\n",
            "Time taken for 1 epoch 0.30 minutes\n",
            "\n",
            "Epoch 3 Batch 0 Loss 1.7358\n",
            "Epoch 3 Loss 1.7399\n",
            "Time taken for 1 epoch 0.30 minutes\n",
            "\n",
            "Epoch 4 Batch 0 Loss 1.5766\n",
            "Epoch 4 Loss 1.5366\n",
            "Time taken for 1 epoch 0.31 minutes\n",
            "\n",
            "Epoch 5 Batch 0 Loss 1.3452\n",
            "Epoch 5 Loss 1.3378\n",
            "Time taken for 1 epoch 0.31 minutes\n",
            "\n",
            "Epoch 6 Batch 0 Loss 1.1505\n",
            "Epoch 6 Loss 1.1654\n",
            "Time taken for 1 epoch 0.32 minutes\n",
            "\n",
            "Epoch 7 Batch 0 Loss 0.9666\n",
            "Epoch 7 Loss 1.0049\n",
            "Time taken for 1 epoch 0.32 minutes\n",
            "\n",
            "Epoch 8 Batch 0 Loss 0.8352\n",
            "Epoch 8 Loss 0.8592\n",
            "Time taken for 1 epoch 0.30 minutes\n",
            "\n",
            "Epoch 9 Batch 0 Loss 0.6958\n",
            "Epoch 9 Loss 0.7297\n",
            "Time taken for 1 epoch 0.30 minutes\n",
            "\n",
            "Epoch 10 Batch 0 Loss 0.5479\n",
            "Epoch 10 Loss 0.6082\n",
            "Time taken for 1 epoch 0.30 minutes\n",
            "\n",
            "Epoch 11 Batch 0 Loss 0.4149\n",
            "Epoch 11 Loss 0.4983\n",
            "Time taken for 1 epoch 0.30 minutes\n",
            "\n",
            "Epoch 12 Batch 0 Loss 0.4136\n",
            "Epoch 12 Loss 0.4089\n",
            "Time taken for 1 epoch 0.31 minutes\n",
            "\n",
            "Epoch 13 Batch 0 Loss 0.2827\n",
            "Epoch 13 Loss 0.3296\n",
            "Time taken for 1 epoch 0.29 minutes\n",
            "\n",
            "Epoch 14 Batch 0 Loss 0.2675\n",
            "Epoch 14 Loss 0.2681\n",
            "Time taken for 1 epoch 0.30 minutes\n",
            "\n",
            "Epoch 15 Batch 0 Loss 0.1629\n",
            "Epoch 15 Loss 0.2181\n",
            "Time taken for 1 epoch 0.30 minutes\n",
            "\n",
            "Epoch 16 Batch 0 Loss 0.1551\n",
            "Epoch 16 Loss 0.1816\n",
            "Time taken for 1 epoch 0.30 minutes\n",
            "\n",
            "Epoch 17 Batch 0 Loss 0.1525\n",
            "Epoch 17 Loss 0.1507\n",
            "Time taken for 1 epoch 0.30 minutes\n",
            "\n",
            "Epoch 18 Batch 0 Loss 0.1148\n",
            "Epoch 18 Loss 0.1269\n",
            "Time taken for 1 epoch 0.31 minutes\n",
            "\n",
            "Epoch 19 Batch 0 Loss 0.0835\n",
            "Epoch 19 Loss 0.1143\n",
            "Time taken for 1 epoch 0.29 minutes\n",
            "\n",
            "Epoch 20 Batch 0 Loss 0.0566\n",
            "Epoch 20 Loss 0.1027\n",
            "Time taken for 1 epoch 0.29 minutes\n",
            "\n"
          ],
          "name": "stdout"
        }
      ]
    },
    {
      "cell_type": "markdown",
      "metadata": {
        "id": "qOpQ0d13CqS4"
      },
      "source": [
        "### French Final Model Metrics"
      ],
      "id": "qOpQ0d13CqS4"
    },
    {
      "cell_type": "code",
      "metadata": {
        "colab": {
          "base_uri": "https://localhost:8080/"
        },
        "id": "SyCoZD21D2oH",
        "outputId": "48258785-128b-4d20-99eb-bf5c3997c684"
      },
      "source": [
        "#Get average BLEU score\n",
        "bleuScoreMeanFra, referencesFr2, hypothesesFr2 = evaluate_test_model2(fra_te, eng_fr_te, encoder, decoder, fra_token, eng_fr_token, max_len_ip, max_len_op)"
      ],
      "id": "SyCoZD21D2oH",
      "execution_count": null,
      "outputs": [
        {
          "output_type": "stream",
          "text": [
            "/usr/local/lib/python3.7/dist-packages/nltk/translate/bleu_score.py:490: UserWarning: \n",
            "Corpus/Sentence contains 0 counts of 2-gram overlaps.\n",
            "BLEU scores might be undesirable; use SmoothingFunction().\n",
            "  warnings.warn(_msg)\n"
          ],
          "name": "stderr"
        }
      ]
    },
    {
      "cell_type": "code",
      "metadata": {
        "colab": {
          "base_uri": "https://localhost:8080/"
        },
        "id": "J3k51AZnD2s2",
        "outputId": "0fe79f8d-c61b-4c01-a29f-a9fd3ecc7dfc"
      },
      "source": [
        "print(\"Average BLEU score on test data for French model 2: \", bleuScoreMeanFra)"
      ],
      "id": "J3k51AZnD2s2",
      "execution_count": null,
      "outputs": [
        {
          "output_type": "stream",
          "text": [
            "Average BLEU score on test data for French model 2:  0.7545756661354549\n"
          ],
          "name": "stdout"
        }
      ]
    },
    {
      "cell_type": "code",
      "metadata": {
        "colab": {
          "base_uri": "https://localhost:8080/"
        },
        "id": "Yx3RERyYP-Qx",
        "outputId": "ec437e13-f5b5-43e3-bde1-0cdd5ad54644"
      },
      "source": [
        "#Get ROUGE scores.\n",
        "rouge = Rouge()\n",
        "scores_fr_2 = rouge.get_scores(hypothesesFr2, referencesFr2, avg = True)\n",
        "print(scores_fr_2)"
      ],
      "id": "Yx3RERyYP-Qx",
      "execution_count": null,
      "outputs": [
        {
          "output_type": "stream",
          "text": [
            "{'rouge-1': {'f': 0.15868719131066544, 'p': 0.21183333333333298, 'r': 0.12837499999999946}, 'rouge-2': {'f': 0.05693452320397745, 'p': 0.08837500000000001, 'r': 0.04283333333333336}, 'rouge-l': {'f': 0.15896630386817281, 'p': 0.2131333333333329, 'r': 0.12830833333333277}}\n"
          ],
          "name": "stdout"
        }
      ]
    }
  ]
}